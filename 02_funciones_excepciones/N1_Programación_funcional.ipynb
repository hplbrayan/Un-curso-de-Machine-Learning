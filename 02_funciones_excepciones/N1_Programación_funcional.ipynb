{
 "cells": [
  {
   "cell_type": "markdown",
   "metadata": {
    "id": "jGGNU4qrbF-8"
   },
   "source": [
    "# **Paradigma de Programación funcional**"
   ]
  },
  {
   "cell_type": "markdown",
   "metadata": {
    "id": "fUB833HMbF-9"
   },
   "source": [
    "<h1>Funciones.</h1>"
   ]
  },
  {
   "cell_type": "markdown",
   "metadata": {
    "id": "0SIZfVJzbF-9"
   },
   "source": [
    "En programación existen <b><i>Paradigmas de programación</i></b>, los cual consiste en un método para llevar a cabo cómputos y la forma en la que deben estructurarse y organizarse las tareas que debe realizar un programa.\n",
    "\n",
    "<h2>Programación funcional</h2>\n",
    "\n",
    "Este paradigma se basa en un conjunto de funciones (relaciones que cumplen las propiedades de unicidad y existencia), que pueden ser evaluadas para obtener un resultado. El paradigma funcional está basado en conceptos que vienen de la matemática, entonces algunas cosas (p.ej. notaciones en el lenguaje) están sacadas de lo que aprendimos en el uso funciones en las clases de matemáticas.\n",
    "\n",
    "\n",
    "<h3>1. Definir funciones en Python</h3>\n",
    "\n",
    "Las funciones se pueden crear en cualquier punto de un programa, escribiendo su definición.\n",
    "\n",
    "La primera línea de la definición de una función contiene:\n",
    "<ul>\n",
    "    <li> la palabra reservada <b><i>def</i></b>,</li>\n",
    "    <li>seguido del <b><i>nombre de la función</i></b> (aplican las mismas reglas que los nombres de las variables),</li>\n",
    "    <li>luego van <b><i>los paréntesis</i></b> (que pueden incluir o no los argumentos de la función) y </li>\n",
    "    <li>finalmente, <b><i>las instrucciones</i></b> que forman la función, las cuales se escriben con indentación con respecto a la primera línea.</li>\n",
    "</ul>"
   ]
  },
  {
   "cell_type": "markdown",
   "metadata": {
    "id": "nzU1IrvhbF--"
   },
   "source": [
    "![funcion.png](data:image/png;base64,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)"
   ]
  },
  {
   "cell_type": "markdown",
   "metadata": {
    "id": "sORD5WWjbF--"
   },
   "source": [
    "Durante el proceso que llevamos, ya hemos visto, usado y hablado de funciones, las diseñadas por Python, como lo son $print()$, $input()$, $int()$, $str()$, $float()$, etc. El paso a seguir ahora es <b><i>deseñar nuestras propias funciones</i></b>."
   ]
  },
  {
   "cell_type": "code",
   "execution_count": 1,
   "metadata": {
    "id": "t2ikM4SJbF-_"
   },
   "outputs": [],
   "source": [
    "def my_func():\n",
    "    print('Hello World!!!')\n",
    "    print('Python!!!')\n",
    "    print('Inteligencia Artificial!!!')\n",
    "    print('Machine Learning!!!\\n')"
   ]
  },
  {
   "cell_type": "code",
   "execution_count": 2,
   "metadata": {
    "id": "lyJWcBpSbF_A"
   },
   "outputs": [
    {
     "name": "stdout",
     "output_type": "stream",
     "text": [
      "Hello World!!!\n",
      "Python!!!\n",
      "Inteligencia Artificial!!!\n",
      "Machine Learning!!!\n",
      "\n"
     ]
    }
   ],
   "source": [
    "my_func()"
   ]
  },
  {
   "cell_type": "markdown",
   "metadata": {
    "id": "PM_junbDbF_B"
   },
   "source": [
    "<b><i>Nota:</i></b> Al igual que las variables, que hay que inicializarlas o asignarles algún valor antes de usarlas, una función debe ser definida antes de usarse. Por esta razón, normalmente se encuentra que las definiciones de las funciones se escriben al principio del código."
   ]
  },
  {
   "cell_type": "code",
   "execution_count": 3,
   "metadata": {
    "id": "diwrd08-bF_B"
   },
   "outputs": [
    {
     "name": "stdout",
     "output_type": "stream",
     "text": [
      "Hello world 2.0 !!!\n"
     ]
    }
   ],
   "source": [
    "def my_func2():\n",
    "    print('Hello world 2.0 !!!')\n",
    "\n",
    "my_func2()"
   ]
  },
  {
   "cell_type": "markdown",
   "metadata": {
    "id": "Ufwkd5pWbF_C"
   },
   "source": [
    "<h3>2. Funciones con argumentos en Python</h3>\n",
    "\n",
    "La mayoría de las funciones reciben argumentos, no todas los requieren. El, o los argumentos, son la información que va entre los paréntesis y es la información que será utilizada dentro de la función para que haga las acciones para la cual fue diseñada."
   ]
  },
  {
   "cell_type": "code",
   "execution_count": 4,
   "metadata": {
    "id": "TrnBJ7Y4bF_C"
   },
   "outputs": [],
   "source": [
    "def func_w_arg(arg):\n",
    "    print(str(arg) + ' !!!')"
   ]
  },
  {
   "cell_type": "code",
   "execution_count": 5,
   "metadata": {
    "id": "IT_nP8jwbF_C"
   },
   "outputs": [
    {
     "name": "stdout",
     "output_type": "stream",
     "text": [
      "Función con argumento !!!\n",
      "3.141592 !!!\n"
     ]
    }
   ],
   "source": [
    "func_w_arg('Función con argumento')\n",
    "func_w_arg(3.141592)"
   ]
  },
  {
   "cell_type": "code",
   "execution_count": 6,
   "metadata": {
    "id": "TgT8KiyPbF_C"
   },
   "outputs": [
    {
     "name": "stdout",
     "output_type": "stream",
     "text": [
      "32\n"
     ]
    }
   ],
   "source": [
    "def imprimir_mult(x):\n",
    "    print(2*x)\n",
    "\n",
    "imprimir_mult(16)"
   ]
  },
  {
   "cell_type": "markdown",
   "metadata": {},
   "source": [
    "Las variables definidas al interior de una función, así como sus argumentos, sólo tienen existencia local, al interior de la función. Tratar de usar una variable definida dentro de una función fuera de esta podría producir un error si la variable no se ha definido por fuera de la función previamente. "
   ]
  },
  {
   "cell_type": "markdown",
   "metadata": {
    "id": "2uIpMeB3bF_D"
   },
   "source": [
    "Los <b><i>argumentos</i></b> pueden ser utilizados como variables dentro de la definición de la función, pero, <b><i>NO</i></b> pueden ser referenciados fuera de la definición de la función. Aplica también para <b><i>variables creadas dentro de la función</i></b>."
   ]
  },
  {
   "cell_type": "code",
   "execution_count": 7,
   "metadata": {
    "id": "KaceUbktbF_D",
    "scrolled": true
   },
   "outputs": [
    {
     "name": "stdout",
     "output_type": "stream",
     "text": [
      "18\n"
     ]
    }
   ],
   "source": [
    "x = 3\n",
    "def funcion(w):\n",
    "    w+=x\n",
    "    print(w)\n",
    "\n",
    "funcion(15)"
   ]
  },
  {
   "cell_type": "code",
   "execution_count": 8,
   "metadata": {
    "id": "9cyggZDabF_D"
   },
   "outputs": [
    {
     "ename": "NameError",
     "evalue": "name 'w' is not defined",
     "output_type": "error",
     "traceback": [
      "\u001b[0;31m---------------------------------------------------------------------------\u001b[0m",
      "\u001b[0;31mNameError\u001b[0m                                 Traceback (most recent call last)",
      "Input \u001b[0;32mIn [8]\u001b[0m, in \u001b[0;36m<cell line: 1>\u001b[0;34m()\u001b[0m\n\u001b[0;32m----> 1\u001b[0m \u001b[43mw\u001b[49m\n",
      "\u001b[0;31mNameError\u001b[0m: name 'w' is not defined"
     ]
    }
   ],
   "source": [
    "w"
   ]
  },
  {
   "cell_type": "code",
   "execution_count": 10,
   "metadata": {
    "id": "BoK2AVyCbF_E"
   },
   "outputs": [],
   "source": [
    "# Las funciones pueden tener tantos argumentos como sean necesarios\n",
    "def operacion(arg1, arg2, arg3):\n",
    "    var = (arg1 + arg2)*arg3\n",
    "    print(var)"
   ]
  },
  {
   "cell_type": "code",
   "execution_count": 11,
   "metadata": {
    "id": "txGsMSwdbF_E"
   },
   "outputs": [
    {
     "name": "stdout",
     "output_type": "stream",
     "text": [
      "72\n"
     ]
    }
   ],
   "source": [
    "operacion(2, 7, 8)"
   ]
  },
  {
   "cell_type": "code",
   "execution_count": 12,
   "metadata": {
    "id": "yCkmnOIdbF_E"
   },
   "outputs": [
    {
     "ename": "TypeError",
     "evalue": "operacion() missing 3 required positional arguments: 'arg1', 'arg2', and 'arg3'",
     "output_type": "error",
     "traceback": [
      "\u001b[0;31m---------------------------------------------------------------------------\u001b[0m",
      "\u001b[0;31mTypeError\u001b[0m                                 Traceback (most recent call last)",
      "Input \u001b[0;32mIn [12]\u001b[0m, in \u001b[0;36m<cell line: 1>\u001b[0;34m()\u001b[0m\n\u001b[0;32m----> 1\u001b[0m \u001b[43moperacion\u001b[49m\u001b[43m(\u001b[49m\u001b[43m)\u001b[49m\n",
      "\u001b[0;31mTypeError\u001b[0m: operacion() missing 3 required positional arguments: 'arg1', 'arg2', and 'arg3'"
     ]
    }
   ],
   "source": [
    "operacion()"
   ]
  },
  {
   "cell_type": "markdown",
   "metadata": {},
   "source": [
    "### Argumentos de las funciones "
   ]
  },
  {
   "cell_type": "markdown",
   "metadata": {},
   "source": [
    "##### Argumentos por defecto "
   ]
  },
  {
   "cell_type": "markdown",
   "metadata": {
    "id": "MqGzaFdNbF_E"
   },
   "source": [
    "Las funciones podrían necesitar o NO argumentos para su ejecución, esto depende de cómo sea definida dicha función, es decir, pueden existir funciones que se ejecuten SIN argumentos, pero esa misma función se puede ejecutar CON argumentos. Cuando se llama SIN argumentos, toma los valores que por defecto fueron dados."
   ]
  },
  {
   "cell_type": "code",
   "execution_count": 13,
   "metadata": {
    "id": "q_wv0WLdbF_E",
    "scrolled": true
   },
   "outputs": [
    {
     "name": "stdout",
     "output_type": "stream",
     "text": [
      "4\n",
      "25\n",
      "100\n"
     ]
    }
   ],
   "source": [
    "def mi_func(x=2):\n",
    "    y = x*x\n",
    "    print(y)\n",
    "\n",
    "mi_func()\n",
    "mi_func(x=5)\n",
    "mi_func(x=10)"
   ]
  },
  {
   "cell_type": "code",
   "execution_count": 14,
   "metadata": {
    "id": "AyYJFeXabF_E"
   },
   "outputs": [
    {
     "name": "stdout",
     "output_type": "stream",
     "text": [
      "9\n"
     ]
    }
   ],
   "source": [
    "# Esta función recibe obligatoriamente un argumento arg1. \n",
    "# Los otros dos son opcionales.\n",
    "def operacion2(arg1, arg2=2, arg3=1):\n",
    "    var = (arg1 + arg2)*arg3\n",
    "    print(var)\n",
    "    \n",
    "operacion2(7)"
   ]
  },
  {
   "cell_type": "code",
   "execution_count": 15,
   "metadata": {
    "id": "tp-Nl814bF_E"
   },
   "outputs": [
    {
     "name": "stdout",
     "output_type": "stream",
     "text": [
      "119\n"
     ]
    }
   ],
   "source": [
    "# Podemos llamar la función pasando los argumentos en orden\n",
    "operacion2(12 , 5 , 7)"
   ]
  },
  {
   "cell_type": "code",
   "execution_count": 16,
   "metadata": {
    "id": "RcHoiRvPbF_F"
   },
   "outputs": [
    {
     "name": "stdout",
     "output_type": "stream",
     "text": [
      "30\n"
     ]
    }
   ],
   "source": [
    "# O podemos llamarla indicando el nombre de cada argumento y su valor\n",
    "operacion2(arg2=3, arg3=6, arg1=2)"
   ]
  },
  {
   "cell_type": "code",
   "execution_count": 17,
   "metadata": {
    "id": "OYYJh1SxbF_F"
   },
   "outputs": [
    {
     "ename": "TypeError",
     "evalue": "operacion2() missing 1 required positional argument: 'arg1'",
     "output_type": "error",
     "traceback": [
      "\u001b[0;31m---------------------------------------------------------------------------\u001b[0m",
      "\u001b[0;31mTypeError\u001b[0m                                 Traceback (most recent call last)",
      "Input \u001b[0;32mIn [17]\u001b[0m, in \u001b[0;36m<cell line: 2>\u001b[0;34m()\u001b[0m\n\u001b[1;32m      1\u001b[0m \u001b[38;5;66;03m# Habrá un error de tipeo si se llama la función sin los argumentos necesarios.\u001b[39;00m\n\u001b[0;32m----> 2\u001b[0m \u001b[43moperacion2\u001b[49m\u001b[43m(\u001b[49m\u001b[43m)\u001b[49m\n",
      "\u001b[0;31mTypeError\u001b[0m: operacion2() missing 1 required positional argument: 'arg1'"
     ]
    }
   ],
   "source": [
    "# Habrá un error de tipeo si se llama la función sin los argumentos necesarios.\n",
    "operacion2()"
   ]
  },
  {
   "cell_type": "markdown",
   "metadata": {},
   "source": [
    "#### Cantidad variable de argumentos  (<i><b>\\*args</b></i> y <i><b>**kwargs</b></i>.)"
   ]
  },
  {
   "cell_type": "markdown",
   "metadata": {},
   "source": [
    "Muchas veces necesitamos construir una función que pueda recibir una cantidad variable de argumentos, para esto tenemos dos opciones <i><b>\\*args</b></i> y <i><b>\\*\\*kwargs</b></i>. Usaremos <i><b>\\*args</b></i> cuando los argumentos no necesitan un nombre para ser utilizados por la función, en este caso los podemos pasar como una lista o una tupla. Siendo así,  <i><b>\\*\\*kwargs</b></i> será utilizado cuando necesitamos pasar argumentos con nombre, en este caso los argumentos se pasan como un diccionario. "
   ]
  },
  {
   "cell_type": "markdown",
   "metadata": {},
   "source": [
    "<i><b>\\*args</b></i>"
   ]
  },
  {
   "cell_type": "code",
   "execution_count": 18,
   "metadata": {},
   "outputs": [
    {
     "name": "stdout",
     "output_type": "stream",
     "text": [
      "2\n",
      "3\n",
      "4\n",
      "5\n"
     ]
    }
   ],
   "source": [
    "# Usando *args pero con longitud fija\n",
    "def fun_args_var1(arg1, arg2, arg3, arg4):\n",
    "    print(arg1)\n",
    "    print(arg2)\n",
    "    print(arg3)\n",
    "    print(arg4)\n",
    "        \n",
    "fun_args_var1(*[2, 3, 4, 5])"
   ]
  },
  {
   "cell_type": "code",
   "execution_count": 19,
   "metadata": {},
   "outputs": [
    {
     "name": "stdout",
     "output_type": "stream",
     "text": [
      "2\n",
      "3\n",
      "hola\n",
      "4.8\n",
      "mundo\n"
     ]
    }
   ],
   "source": [
    "# Usando *args con cualquier cantidad de argumentos\n",
    "def fun_args_var2(*args):\n",
    "    for i in args:\n",
    "        print(i)\n",
    "        \n",
    "fun_args_var2(2, 3, \"hola\", 4.8, \"mundo\")"
   ]
  },
  {
   "cell_type": "code",
   "execution_count": 20,
   "metadata": {},
   "outputs": [
    {
     "name": "stdout",
     "output_type": "stream",
     "text": [
      "2\n",
      "3\n",
      "hola\n",
      "4.8\n",
      "mundo\n"
     ]
    }
   ],
   "source": [
    "# Pasando los argumentos como una lista o tupla\n",
    "args = [2, 3, \"hola\", 4.8, \"mundo\"]\n",
    "fun_args_var2(*args)"
   ]
  },
  {
   "cell_type": "markdown",
   "metadata": {},
   "source": [
    "<i><b>\\*\\*kwargs</b></i>"
   ]
  },
  {
   "cell_type": "code",
   "execution_count": 21,
   "metadata": {},
   "outputs": [
    {
     "name": "stdout",
     "output_type": "stream",
     "text": [
      "key: nombre     value: Juan\n",
      "key: apellido   value: Picapiedra\n",
      "key: edad       value: 19\n",
      "key: educación  value: Universitario\n"
     ]
    }
   ],
   "source": [
    "# Ejemplos\n",
    "def fun_kwards_1(**kwards):\n",
    "    for key, value in kwards.items():\n",
    "        print(f\"key: {key:<10} value: {value}\")\n",
    "\n",
    "dict1 = {\"nombre\":\"Juan\", \"apellido\":\"Picapiedra\", \"edad\":19, \"educación\":\"Universitario\"}\n",
    "fun_kwards_1(**dict1)"
   ]
  },
  {
   "cell_type": "markdown",
   "metadata": {},
   "source": [
    "Existe un orden con el cual se deben utilizar los tipos de argumentos. Primero se usan los argumentos fijos de la función y  los <i><b>\\*args</b></i>, finalmente los <i><b>\\*\\*kwargs</b></i>:  ejemplo(arg1, arg2, <i><b>\\*args</b></i>, <i><b>\\*\\*kwargs</b></i>). Los <i><b>\\*\\*kwargs</b></i> nunca deben preceder los <i><b>\\*args</b></i>\n"
   ]
  },
  {
   "cell_type": "code",
   "execution_count": 22,
   "metadata": {},
   "outputs": [
    {
     "name": "stdout",
     "output_type": "stream",
     "text": [
      "15\n",
      "15\n",
      "15\n",
      "15\n",
      "15\n",
      "15\n",
      "15\n",
      "15\n"
     ]
    }
   ],
   "source": [
    "def func1(a, b, c, d, e=5):\n",
    "    print(a + b + c + d + e)\n",
    "    \n",
    "func1(1, 2, 3, 4)\n",
    "func1(1, *[2, 3, 4])\n",
    "func1(*[1, 2, 3, 4])\n",
    "func1(**{\"a\":1, \"b\":2, \"c\":3, \"d\":4})\n",
    "func1(1, **{\"b\":2, \"c\":3, \"d\":4})\n",
    "func1(*[1, 2], **{\"c\":3, \"d\":4})\n",
    "func1(*[1, 2], 3, **{\"d\":4})\n",
    "func1(1, *[2, 3], **{\"d\":4})"
   ]
  },
  {
   "cell_type": "code",
   "execution_count": 23,
   "metadata": {},
   "outputs": [
    {
     "ename": "SyntaxError",
     "evalue": "iterable argument unpacking follows keyword argument unpacking (2315862467.py, line 1)",
     "output_type": "error",
     "traceback": [
      "\u001b[0;36m  Input \u001b[0;32mIn [23]\u001b[0;36m\u001b[0m\n\u001b[0;31m    func1(**{\"c\":3, \"d\":4}, *[1, 2])\u001b[0m\n\u001b[0m                            ^\u001b[0m\n\u001b[0;31mSyntaxError\u001b[0m\u001b[0;31m:\u001b[0m iterable argument unpacking follows keyword argument unpacking\n"
     ]
    }
   ],
   "source": [
    "func1(**{\"c\":3, \"d\":4}, *[1, 2])"
   ]
  },
  {
   "cell_type": "code",
   "execution_count": 24,
   "metadata": {},
   "outputs": [
    {
     "ename": "SyntaxError",
     "evalue": "iterable argument unpacking follows keyword argument unpacking (2393248251.py, line 1)",
     "output_type": "error",
     "traceback": [
      "\u001b[0;36m  Input \u001b[0;32mIn [24]\u001b[0;36m\u001b[0m\n\u001b[0;31m    func1(1, **{\"d\":4}, *[2, 3])\u001b[0m\n\u001b[0m                        ^\u001b[0m\n\u001b[0;31mSyntaxError\u001b[0m\u001b[0;31m:\u001b[0m iterable argument unpacking follows keyword argument unpacking\n"
     ]
    }
   ],
   "source": [
    "func1(1, **{\"d\":4}, *[2, 3])"
   ]
  },
  {
   "cell_type": "code",
   "execution_count": 25,
   "metadata": {},
   "outputs": [
    {
     "ename": "SyntaxError",
     "evalue": "positional argument follows keyword argument unpacking (1788352313.py, line 1)",
     "output_type": "error",
     "traceback": [
      "\u001b[0;36m  Input \u001b[0;32mIn [25]\u001b[0;36m\u001b[0m\n\u001b[0;31m    func1(**{\"a\":1, \"b\":2, \"c\":3}, 4)\u001b[0m\n\u001b[0m                                    ^\u001b[0m\n\u001b[0;31mSyntaxError\u001b[0m\u001b[0;31m:\u001b[0m positional argument follows keyword argument unpacking\n"
     ]
    }
   ],
   "source": [
    "func1(**{\"a\":1, \"b\":2, \"c\":3}, 4)"
   ]
  },
  {
   "cell_type": "code",
   "execution_count": 26,
   "metadata": {},
   "outputs": [
    {
     "name": "stdout",
     "output_type": "stream",
     "text": [
      "positional arg\n",
      "a = Hola\n",
      "\n",
      "*args:\n",
      "args_1 = Hola\n",
      "args_2 = mundo\n",
      "args_3 = !!!\n",
      "\n",
      "kwargs:\n",
      "key: nombre          value: Juan\n",
      "key: apellido        value: Picapiedra\n",
      "key: edad            value: 19\n",
      "key: educación       value: Universitario\n"
     ]
    }
   ],
   "source": [
    "def func2(a, *args, **kwargs):\n",
    "    j = 1\n",
    "    \n",
    "    print(\"positional arg\")\n",
    "    print(f\"a = {a}\")\n",
    "    \n",
    "    print(\"\\n*args:\")\n",
    "    for i in args: \n",
    "        print(f\"args_{j} = {i}\")\n",
    "        j+=1\n",
    "    \n",
    "    print(\"\\nkwargs:\")\n",
    "    for key, value in kwargs.items():\n",
    "        print(f\"key: {key:<15} value: {value}\")\n",
    "        \n",
    "        \n",
    "lista = [\"Hola\", \"mundo\", \"!!!\"]\n",
    "dict1 = {\"nombre\":\"Juan\", \"apellido\":\"Picapiedra\", \"edad\":19, \"educación\":\"Universitario\"}\n",
    "func2(\"Hola\", *lista, **dict1)"
   ]
  },
  {
   "cell_type": "markdown",
   "metadata": {
    "id": "qb9stdD1bF_F"
   },
   "source": [
    "### Uso del $return$ en las funciones de Python"
   ]
  },
  {
   "cell_type": "markdown",
   "metadata": {
    "id": "HC5idErVbF_F"
   },
   "source": [
    "Algunas funciones, tales como $int()$ o $srt()$, devuelven un valor para ser utilizado más adelante. Para hacer esto en las funciones que definamos, se puede utilizar la sentencia <b><i>return</i></b>.\n",
    "\n",
    "Cómo se ha visto hasta el momento, los argumentos de las funciones y las variable creadas dentro de estas, exiten solamente en la función, pero por fuera de esta estructura dichas variables no existen. Esta sentencia <b><i>return</i></b> permite sacar la información de las variables de una función."
   ]
  },
  {
   "cell_type": "code",
   "execution_count": 27,
   "metadata": {
    "id": "7ZZI0nsNbF_F",
    "scrolled": true
   },
   "outputs": [
    {
     "name": "stdout",
     "output_type": "stream",
     "text": [
      "17\n",
      "Fin de la función\n"
     ]
    }
   ],
   "source": [
    "def maximo(x,y):\n",
    "    if x > y:\n",
    "        return x\n",
    "    elif y > x:\n",
    "        return y\n",
    "    else:\n",
    "        return x,y\n",
    "\n",
    "print(maximo(1,17))\n",
    "print('Fin de la función')"
   ]
  },
  {
   "cell_type": "code",
   "execution_count": 29,
   "metadata": {
    "id": "236XMRGVbF_G"
   },
   "outputs": [
    {
     "name": "stdout",
     "output_type": "stream",
     "text": [
      "Ingrese un número: 8\n",
      "Ingrese otro número: 345\n",
      "El número mayor es: 345\n"
     ]
    }
   ],
   "source": [
    "def maximo(x,y):\n",
    "    if x > y:\n",
    "        return \"El número mayor es: \" + str(x)\n",
    "    elif y > x:\n",
    "        return \"El número mayor es: \" + str(y)\n",
    "    else:\n",
    "        return \"Los número son iguales: \" + str(x) + ',' + str(y)\n",
    "\n",
    "a = int(input('Ingrese un número: '))\n",
    "b = int(input('Ingrese otro número: '))\n",
    "z = maximo(a,b)\n",
    "print(z)"
   ]
  },
  {
   "cell_type": "markdown",
   "metadata": {
    "id": "-NI4vrzabF_G"
   },
   "source": [
    "<h3>3. Documentación de Funciones $help()$</h3>\n",
    "\n",
    "<ul>\n",
    "    <li>Cada función escrita por un programador realiza una tarea específica.</li>\n",
    "    <li>Cuando la cantidad de funciones disponibles para ser utilizadas es grande, puede ser difícil saber exactamente qué hace cada función. </li>\n",
    "    <li>Es por eso que es importante documentar en cada función cuál es la tarea que realiza, cuáles son los parámetros que recibe y qué es lo que devuelve, para que a la hora de utilizarla se pueda hacer correctamente.</li>\n",
    "    <li>Se utiliza el comando $help(arg)$ y como argumento se pasa el nombre de la función que se quiere saber qué hace.</li>    \n",
    "</ul>"
   ]
  },
  {
   "cell_type": "code",
   "execution_count": 30,
   "metadata": {
    "id": "xN9uGAE-bF_G"
   },
   "outputs": [
    {
     "name": "stdout",
     "output_type": "stream",
     "text": [
      "Help on built-in function print in module builtins:\n",
      "\n",
      "print(...)\n",
      "    print(value, ..., sep=' ', end='\\n', file=sys.stdout, flush=False)\n",
      "    \n",
      "    Prints the values to a stream, or to sys.stdout by default.\n",
      "    Optional keyword arguments:\n",
      "    file:  a file-like object (stream); defaults to the current sys.stdout.\n",
      "    sep:   string inserted between values, default a space.\n",
      "    end:   string appended after the last value, default a newline.\n",
      "    flush: whether to forcibly flush the stream.\n",
      "\n"
     ]
    }
   ],
   "source": [
    "help(print)"
   ]
  },
  {
   "cell_type": "code",
   "execution_count": 31,
   "metadata": {
    "id": "mQ-sEzBnbF_G"
   },
   "outputs": [
    {
     "name": "stdout",
     "output_type": "stream",
     "text": [
      "Help on method raw_input in module ipykernel.kernelbase:\n",
      "\n",
      "raw_input(prompt='') method of ipykernel.ipkernel.IPythonKernel instance\n",
      "    Forward raw_input to frontends\n",
      "    \n",
      "    Raises\n",
      "    ------\n",
      "    StdinNotImplementedError if active frontend doesn't support stdin.\n",
      "\n"
     ]
    }
   ],
   "source": [
    "help(input)"
   ]
  },
  {
   "cell_type": "markdown",
   "metadata": {
    "id": "rC5x4ST_bF_G"
   },
   "source": [
    "### 3.1. También se pueden documentas las funciones propias.\n",
    "\n",
    "Para la documentación de una función, se ubica un texto con la descripción apropiada para la función justo después del encabezado de la función ($def$), este párrado debe estar encerrado entre tres comillas dobles $\"\"\"\\ ...\\ \"\"\"$ o tres comillas simples $'''\\ ...\\ '''$\n"
   ]
  },
  {
   "cell_type": "code",
   "execution_count": 32,
   "metadata": {
    "id": "bun4rIo-bF_G"
   },
   "outputs": [
    {
     "name": "stdout",
     "output_type": "stream",
     "text": [
      "Ingrese el primer número: 4\n",
      "Ingrese el segundo número: 23\n",
      "27\n"
     ]
    }
   ],
   "source": [
    "def suma(a, b):\n",
    "    \"\"\"\n",
    "    a: float\n",
    "        dkfvndk\n",
    "    Esta función hace la sumatorio de dos argumentos numéricos que recibe.\n",
    "    Son entregados dos argumentos numéricos (a,b) y retorna la suma aritmética\n",
    "    de ambos parámetros\n",
    "    \"\"\"\n",
    "    c = a + b\n",
    "    return c\n",
    "\n",
    "\n",
    "x=int(input('Ingrese el primer número: '))\n",
    "y=int(input('Ingrese el segundo número: '))\n",
    "result = suma(x,y)\n",
    "print(result)\n"
   ]
  },
  {
   "cell_type": "code",
   "execution_count": 33,
   "metadata": {
    "id": "LjegdMctbF_G"
   },
   "outputs": [
    {
     "name": "stdout",
     "output_type": "stream",
     "text": [
      "Help on function suma in module __main__:\n",
      "\n",
      "suma(a, b)\n",
      "    a: float\n",
      "        dkfvndk\n",
      "    Esta función hace la sumatorio de dos argumentos numéricos que recibe.\n",
      "    Son entregados dos argumentos numéricos (a,b) y retorna la suma aritmética\n",
      "    de ambos parámetros\n",
      "\n"
     ]
    }
   ],
   "source": [
    "help(suma)"
   ]
  },
  {
   "cell_type": "markdown",
   "metadata": {},
   "source": [
    "### Funciones lambda : "
   ]
  },
  {
   "cell_type": "code",
   "execution_count": 34,
   "metadata": {
    "id": "HRRY4X_3bF_H"
   },
   "outputs": [],
   "source": [
    "mi_funcion = lambda x, y: x + y"
   ]
  },
  {
   "cell_type": "code",
   "execution_count": 35,
   "metadata": {},
   "outputs": [
    {
     "data": {
      "text/plain": [
       "5"
      ]
     },
     "execution_count": 35,
     "metadata": {},
     "output_type": "execute_result"
    }
   ],
   "source": [
    "mi_funcion(2, 3)"
   ]
  },
  {
   "cell_type": "code",
   "execution_count": null,
   "metadata": {},
   "outputs": [],
   "source": []
  }
 ],
 "metadata": {
  "colab": {
   "provenance": []
  },
  "kernelspec": {
   "display_name": "Python 3 (ipykernel)",
   "language": "python",
   "name": "python3"
  },
  "language_info": {
   "codemirror_mode": {
    "name": "ipython",
    "version": 3
   },
   "file_extension": ".py",
   "mimetype": "text/x-python",
   "name": "python",
   "nbconvert_exporter": "python",
   "pygments_lexer": "ipython3",
   "version": "3.9.12"
  }
 },
 "nbformat": 4,
 "nbformat_minor": 1
}
