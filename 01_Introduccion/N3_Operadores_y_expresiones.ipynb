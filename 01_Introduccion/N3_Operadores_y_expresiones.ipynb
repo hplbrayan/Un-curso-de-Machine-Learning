{
 "cells": [
  {
   "cell_type": "markdown",
   "metadata": {
    "id": "lqxlHL5uoiIA"
   },
   "source": [
    "# **Operadores y Expresiones**"
   ]
  },
  {
   "cell_type": "markdown",
   "metadata": {
    "id": "fYWAjylCZ2Xl"
   },
   "source": [
    "Se clasifican según el tipo de dato y los operadores que utilizan.\n",
    "<ul>\n",
    "    <li><h4>Aritméticas:</h4> Análogas a fórmulas matemáticas. Se utilizan los operadores aritméticos ($\\ +\\ ,\\ -\\ ,\\ *\\ ,\\ /\\ ,\\ **\\ ,\\ \\%\\ ,\\ //\\ $), variables y constantes numéricas.\n",
    "    $Ejemplo: - 8 * 2 + 4 / 2 * pi * sqrt(X)$</li>\n",
    "</ul>\n",
    "\n",
    "<ul>\n",
    "    <li><h4>Relacionales:</h4> Se utilizan  los operadores relacionales $<\\ ,\\ >\\ ,\\ <=\\ ,\\ >=\\ ,\\ ==\\ ,\\ !=$.\n",
    "</ul>\n",
    "\n",
    "<ul>\n",
    "    <li><b>Lógicas:</b> Se utilizan operadores lógicos ($and\\ ,\\ or\\ y\\ not$). Hay de dos tipos; <i>lógicas</i> y <i>bitwise</i>. \n",
    "        \n",
    "</ul>\n"
   ]
  },
  {
   "cell_type": "markdown",
   "metadata": {
    "id": "TF7JrZJvZ2Xn"
   },
   "source": [
    "![tabla_de_verdad2.png](data:image/png;base64,iVBORw0KGgoAAAANSUhEUgAAAZAAAACKCAYAAACEhRyFAAAWunpUWHRSYXcgcHJvZmlsZSB0eXBlIGV4aWYAAHjarZppctw6loX/YxW9BOBiXg7GiN5BLb+/w0zJsmW7ql+UZGdKTJIA7nAGUO7863+v+x++csnFpVxb6aV4vlJP3QY/NP/6er0Hn57X56t//BR+Pu7aeF9kHIq8x9ev5bzew+B4/nFBTe/j8+fjrq73fdr7Ru8PPm4YNbLxw35P8n2jaK/j4f276/b6YZQvy3n/n++Ln5H9999TJRg7c79ozk4M0T+v9hop6r/FoSPPa+HEECM/x1h49bF8j597j/HbAOb2+/j59T4j/gjH60Yfyyq/xOl9POTfx++J0tcZBXufYj8+0Ne9H6H8Hr97d7v3vFY3EnXUU3kv6mOJ4XWTPQlnfC4rfFf+Z36uz3fnu/nhF0Ntljqdn/zSgxFxxg87jHDDed5XWEwx2bHKu9my+BxrsVq3FZWCpO9wrbrY446N/CwyFzlsn3MJz7hd4zFYY+QdONMCNwtPZr98u18P/NPvn250r8o8BAUztydWzMtUX0xDmdMrZ5GCcN8xzU98g3u9+V+/lNhIBvMT5sYCh5+vW8wcftRWfPIcfXacmvwryaHu9w0IEWNnJhMiGfAlxBxK8NWshkAcG/kZzNxiskkGQnbZNrO0RPWTnGYam2tqeM61bK/DwAuJyLRIJTU9DpKVUk6FfmuU0HA55pQz0FRzyz2PEksCp0qpRTg1aqyp5lpqra32OlpsqeVWWm2t9Ta69QiMZddLr7313sdg0JEG9xqcPzgwbcaZZp5l1tlmn2NRPiutvMqqq62+xrYdNxDgdtl1t933OOFQSiedfMqpp51+xqXWbrzp5ltuve32Oz6z9s7qz1n7NXN/z1p4Z82eROm8+iNrHK714xZBcJKVMzJmKZDxqgxQ0Kac+RZSMmVOOfPdoosxG7PMSs4OyhgZTCdYvuEzdz8y98e8OaL7/82b/S5zTqn7b2TOKXVfMvc9b7/J2h4P3MYnQepCYgpCRtrv5jMp+LpTuZFl9prDXDTHPqFR0+0kP/jiohOZbCeMOxmjNyK4Zt+u2BmlxktqfFp9thZ2ums34nxOGWX7eplmzUyFwSa/tdnO4DNuWfc8ln2vrtZQerRwu9XJ4blTOCOeQt/6ulc9M/nQdtir9G42ySILtZ7SPofwHD9uOlD2nrv2sGo+KVskXmS5rbOPBQiRwffap1zPHfiOs7ZD8k/fTGxxOLe6e7mIiJN2nHnE5o20ssBUqh+xNqWkGJVSLbVblITJYT8VAo6ctWMNNU0KzruTmWRlXawlktENnzZGojU6P/jziIJ8DorllNrSmX00D9xTZRVUXYM7leN8DetE9cGlNlKvYJiWO0deYeebjYsJ1e6LEurLZo0M206L4Fydxd8RRp/unhD4kCFiI6G3gXA702Y9XhIxzrl7j7vmpROqxc7NSuy+9gGejgjjECbbrp0bBZ4zjUDwT+p7cxrFyHEKb1meu1mq4WSKeXZLZZw1Y6IzrBNqvzJt6vaFcXukTltgsJz2UFnk2EmuaUq7X4oeeI55JTrZU2RAC+Eoh5o9dZcBsM3b8qBHcont+DmpZ1JnJTcaM5bFsYC2uFSEDyVSEIvzTiHP+2wQn1i3TouoWU9iGTPudrafiwCGhJTKkQRT8zcFwJSCvhdFIE0WLyhEy3l6EJqbd8XrSEM6EpJrva8TF31eKTXxeaX03+tacFJXf158sjulD9r1jkRv0bD9AmMFep/UerHb6V6UbMtx39hKWA3FR4Fx3eXmFAltkc0c2GQ3DUBlZn9JGfFkarwAYmfOJlyaYNEhToMG72QPWGo59xYKKLWBp1Fch1fViYyRhPOg8So19LEm6sbvyKUFeTN3F1qBFbveesBT32qlxrIfFQADjzZouSjQNSLlTa353sG1NGr2C5Dw/Ad/WXZqHYRZ1BUIV/traAoFbkguV9aZujcWR83cVUJP0+faJyUMoq04D4K3Zmps1CWRy7TibOmpFQikIdOSM8/plKoW6AVRi6kN1rZZ747i40aCKper4kAsEtCQbfqkFOp30fcN5Q84ngppcX5a4VBVhcRkmMCDPXYO1dpvzjvNpb5lUXduiqsfGglqqKzDLzdL92mXGWmjCtDDNqwzkaq7ODMKe4lgP5NxdgHcS8tw5a6r1wmd0ERqXXfSgof39tS9ok+JcNGZGRgT/k36EpDa3CH3tYFS7kvLEoUJGz0yd41cHaBPAFkWxUS+bJ2Vy6X3wBzACLZKEGYg+KjkbIzXIrgsJUbMkuT2ER84o+Ce4geY+AejQne6Hy806ETVLX5d1bLiS4EISTrZhUS/NJb7J531efWXS92rn5kA/F8T9JURCeALdDznQW2nRvWMdID6ToCoK0tEMuRtudQjircyzJ2xithuXzjbquQ5KErPhWlebZkDmAZRwG5UKkiXQRqb46pJkQ18mFfrjgweqRdxPK1KI7deEzYAps4UTJx7AalBEQcwN7RESQCLFHqi0DspBJary+pfaGVaQnZQ87Q6wAiuJ1torpIjCExLgwiz2KB1uHoUOGi3lMaNqdKu04UCc+ZNJttTCWsQCX5oCyAhsMhIkVqmhNtD1kiJxWJBbowkLscYBmGBOV4wbzrp0UMIrFYPYm7DJUiZAWJYVUKydQqDYEoaeOisRORAv6THRH1ugCi1dFEaCoRqmSYmWhXkutYeQoPB5z2bCFVKqZNdeATwn6dRdgAgYzg0Tp6J5qAriQfXL9m2LNpiAFq7BmCeRUxiVFYC2bwYESLRC7hhOcQF1CIXLYk0ItRkKhw6odZIvGrKHy3wSwekJXBBuqDbKmhfXBukFbUxaCLSRDgPfHar0ArBQwU2cRj43PsfbpoXUOCSv1NyFas2B4gwQWDBciDcEn8jlmdY5ugD9EgqDyjUmD3iDaEntrl3uOPVMzGP5Ava6eG1ACxxL+okz4fnaJgswBrg64CEGZNcSEVD3ZRZgPsRzf0glISxCFl0FDMy8tFp1E2prmnj1biYYBhFuu1K/M5c0A9jRao5dFfTtVwHJjvCZQjgLAcIeVtpBGkk6XB0rUEEEENm6Rb3AAcmhBAatwPMRnd0TC+IvgxemNqCO4KcaFbIcRdiWwfa5W4R/4kSps9yPSR0A9SLW0CEBDepl4gUscgP0saUZjyPWfYrlagEMjIAOqGBUeegVw4wBNihy4dECaVWHMMl2DrNAkb3i8CaEoMAKj6i8AkRQISdDi5Tffj/PgN9HhHFtJAu3OBTQh5LE8fHCLeGTDLUEAzA3QQqrGW1LTpdt3XPMJ1K7LBvqR1te694m1Z25dyDFmG0m2fIEktlDK/Cs4wIRMJHZDHFwkfzEWejzUPz3yKjY1FQ1mlawJhSoIwImuEsGtDxeucUBC48zVpYXsPLtQUqJ4r0ZJNBahezci8V5WhJrBooQsSVjYNk1XuBP++UlSOSFy8wDZkexiIFyOlDVwXUXqaYLyifHRErk/6eCL0JN2BTnhvBsogHpsKY4Bs0TN/ROWdUD2qT/ZmQ9h48e7rB2YK0+Y9RAOoMrqmJrm7aZcJmTu4KnL5qJ8FrjYiwYLJHPFg0/UeETnSvaoY5884NZsByFHjNiGVqU4oDfQ7Pn0stloonSqzryt1jTiWUfDJvzQ2MyJQIG8RmgpcQTVL00VPoD7EcGYKmUGxIbVubBsOyoNvpVTonyxWGSWWD+LhTz/Q8QZsezzQGqwIoYWVtlWDCUXUoH1hh0zFUHoCTlngANOiQ6sQcq1YVXCQcdMiIGKNI9c0s2pmAx+YNsgk0ACYRXrJF8jvaH52ZJX3A7EI3gB49bqwNOIyQRS4dxNrGeeW+oU28BhSQtUFF0nDMCYYAEDvsg7lXuwR3TrAT0D+AQN/omk6rsDxkDcvSNHN8wCJqR0j3nQg6X64hAr1cK7Et4boO/nCHAMMgWPGqFTiDSBERe1Z880YIiBuwO/Qu0JokmRFywDx6QdsgVBXuCEsZjmwYdCZEpq2y3WJz9SQmBPpROl0siBtAWHhE8SNudhUG4eOg/+mQztyZ382MUQtTp5ZVHi94xSDfCaZU7B33RvlA1RkoXp5yhXBzZ+1rIo8RFB7c9kwryEws8CXIdk2RCyyqXXBkNaSrDUnwWR5UEIqZQhEdeDB1F5PmhgYaSNUVHpivWy4LULtw8O4UIzGkT1gb+o621f4GrQRdUJzy6ee6ApADdBjsQ70/UoUzyVsmdOmZJ5JI6mF/R3CQh0qCLY85DA2rKCagAnU7jgSPFVdLtcqZS0nueCVGzkwJXAVA6EXEQ730eMSEYe+X0+1HeKkhhDY4ycjDEgwKLMBKl5yX0vZW5rUHQF8E6ArtzX0UuS4WdiciYehT0xyZAp+PCkxUbV3OizjCDGx7tKRAl5OB9bwWikY7SZT2huyuy48uq6dDqmhA/B2G+jBFTAxAApz5eNLeB4pCUTyv1C387QEdig64I2LN4cHpS+KGq94IKugD8z8wM5lKwVXTWvIAiwlsUUAA/2XikZV8hHqv+PDJ0ogvHYt5J+r0/OkV0MdGgUEIWPShBUqbFz0EAXFBT4+2/rqtROF692NnyW5IErpS2VO7djIxQBdaVHVpFkUkGSLucmwFp8isAJyGWR6Oon+KkKZgUlgDA2WvKAmpqnCN0KFTtdaGOTUfa/muSpFR0itLISYLrlLe8gQbvpJVmckG06NokCO3epoKxS8YpTH8zqIUdJGsFYaDH2NjPovuN9QQ6ImsxIjbDoZaHQSKzG7My40IOJqQsu1baht+xgGKASqlZtqy4+LiZo1ABTiK7N3Ae5cK8Qh2EB2i63BHLSLeoQdVP7+fijgklhnqcxeXDZP5vUhEItkAycChJW1b7U3fqQurBF5J2OUqmfJQaJQXm/Xh593d0JYjtUnNgUhJGz6aLTnBWe+B9BcHAQ93YOlhdo0X+PwVs0mYZJaT8yFFyPFp7ys4tXu045Co2IB6pY5KN/iG83ApEhFZGxY0OqMEKUlK4HYXtOsA7a+jJysqaogkim0p5Ubg26PJB8VwsQdUkZbSf7pMCEFlP0hR8fMFPQ6qtqU96YbGogF25A01C3d0psa0p0UkFjFcGeNBWVzczdQGAl2BByBMsuhrZmRdFTfWVmSncey4Jqi8LJTaWrRZkBqDtHAZ0Ft+/LmbPeVnAyt8vAPyqhGqC+ObIEO+O0AwkrYNl578AW0MqP0OhI/NErHrWGeiJkk2UXKM3017z8cgXtB/FW0cZBoHQAWj2uNtJSogcFK0bINs9LkDyA8wPGNEggITlRx3UT/aF5RAuChWKEcMHswY0T2WG8wGHEPLzDInrKg52R5wFEaf2oviVgyzjyxNvohYRBCuHLTMK4vXMjHAR9CEqE/UMj7neMBZ3e9P8NOadmuxfRgef/Ahi3hF1DlIecn24ZiyHd5FAkHV3Ln/88wterfGlL3FX0C84/cXASoBTx7B3Yo2z6hkquHZ9wCUb0AYFVcyin5NEIHJm3wczlzVqrEgY+K39dQP+GiZhgSSKM+7Tdz8PMtQF8/mfjVwn/4NJvpu7z4/pYjnT5v47usuPumjr7DdE7VJ0SnCQGo4JhLUVqTnVCoKKwPT0nm0GnI9oMTd3TQnzbz1hJo2Iz+F3JMhTBdaUr4CP9K1Rc6K3jXbUaYH6EqzkRvhi1gEy4ElImNoYVQnshlHTOe0j20e+wOwIVzoyB60J+Nyn6osYAMZXVB0J1mjJsEt6q/hpPCkL1/xuAqoB18hy49FBEelpBbCF8oG9SqKkjyuMh5Q6HLl2KKq5wNJcaV50JZoP4D7UMmhQr8DlgL9CAjWwnniBz50PTWVtiMr9ElQAqrBCT0O4TLYCHxyS7m4Io0Lvs2GYNnRJ8SG29Bif5jt4z5E/cedpFT1ZKvNkdASEAp+jQsI7SMqTldTEBsHc/d3aCmdk4GOgu+K4D42yShDnHZdT95C11NWeh+pQPPj80gu6Yb+A5W9J2qeoiObN5PVIDiYv5hAVBFebbeo52Xa40CgiS9wJEh/hIGjvMfzyHYBsr5QKtgw5oUN5Cz6EBm2olgk6fEfg2EA7/JP3UEVmDdJ/+VOSHaWqNU/ArSGeDFF2IQr/lKmcTnPIykMe6ZGN1RI4VvE0VLnxOv4nBx2H+CKm3IEj1G3k+BMiQa4gzsXFAyAoe0GOJ1uj0W7epYQHSyl7OO1/9wdDa1NMepsIcBI7WgSL/l5vH2WB9US/YRV29p3wWaSWFaL7AGPOtkl21SDe6f70fnvhEvDYo7ODfLVtBuR6PpzmaDtScY6+HySOFB4DYtB/fruaLyuvz9Y4BgTQjFGxkCz0UAsgqLTEzWhVgYQEQmIRqxvECXVor0Sk4y8LrxMepKMppUQjipFErzHc8KfPucOmKcfYOJeaPIJJlD6Xzaj4HIC8TDgr+/u2wchy4WLdfB2oO6N2sDAv8ShByqXotGO8Y2vHeZH12CcHUiURwv0N9xcdyN7A3fz2o1oB7Co2kOm42YEEYgLEv+W5/XcJzVUeCw0bZrMWPslWZCF5d4DaAIhJCXptVeM8GjPzd+7CdpL6Eg0ZCmKWcCG49UeyTxF/DhwBtiUeJF/orYoFdO/Sx89rJfi7tJ7am9MDfXcI7ov0HpwDrBXkZ4b8BH4IxLNWgEUkWnoZJIwctA+axFJGR2DWqb6HDHzeibJItAVRET76ii3iTfHucub458TwSUaUVOp3+QLfDTcKo/CpQgB74mFkZLLeFLDn98ZIrA2JkC1YDOQCaPm9SApYB2xTnoQEUADlnZRPEo65veYHoBo++c8LbNl+OnQEnxGWCyQGqRDLVPkGU7SIw3uGPXI3SHR0iCdsPlGvp4ikUZLAPpLeH6wtMyADgNnC5VxJlqOQs/57tW3dpKAMI8Y1U6mXHFejyXGZpNf8o2rf+0d1Y+9I+yF/sqHiRDsZHBvCoyLTA4LL4ItOH9SIU+Si7wVt0bTDYS9P/gZVs/4cu674ZBjdoo4fnobTHP0BAx4OHPqqV9LouMCrkIu5Jj0rwAwF9KP0Mn4PC5EfY9Sj8syXGjcJf+0Phv+s91Z7e8A4dvn7oUIteqZF/oVOXoVU2gm6Y8maNqjfE/LisvRZs3ti6oY4KaHf8AueGG4/YDG9bgEzeqhnscI4t7S8xNxKbSZjgX6C8kGvILZFAKhLNod1a4f6UsP/rwEBi0d0LN6lw2q+gszkXzb4bVn/JqCHl0NzUHHnjm4z0l8TOE9AQ79cQJ89hr/y+ju5+EBjC8T+BGBfx8A959F4JcAlIiQryu2qwcY8NvB+GUycbRp6UmLHhktzB1mdr8f3G3qdQscsTmnrnmx9bdwXyT5eEnBSHECbBc2M3v2OK7+PuYsmBtp38FbWnanNLWbVjfd0PUHMmBEos9uwG1gtVDKDTWS9JgwPwg9nrXb+ltwcdEXE8rYG4vfMRIXPLZyXs+OWvJ6IJj0YBWuf+ab+t/C/S3L7kuaH1L6e6i/l9lHnl17S+e/lxsi852oXnFAYGHRmqaeXwrlBk3rYfKrba8XO8q815tYJd7D8O2RBpsygtVIX2oR8YZoOHoYBVXiNu2COW51+vHJVyX5BWTG2hw9O9Re0Bvfn/j8aVF6dJG3ezZB5kCY1i5tXYL0ay/gnaoFuMUfnfraJcqvaetBHBQWt/6EjKvjqNGZ/mgS6sjIZQoOZnjOURuRVZ0DdzX9OYBO8TrlScr5JW/ua3uytroUI4wJoNUgb5zSHge/zszP1V/G6anLkAXeSzQHPz3l55QbCsu7/wNxZeiBGDbqmQAAAYRpQ0NQSUNDIHByb2ZpbGUAAHicfZE9SMNAHMVfU0WRiqIdRByCVCcroiKOUsUiWChthVYdTC79giYNSYqLo+BacPBjserg4qyrg6sgCH6AODo5KbpIif9LCi1iPDjux7t7j7t3gFArMdVsmwBUzTIS0YiYzqyKHa8IoBd9GMa4xEw9llxMwXN83cPH17swz/I+9+foVrImA3wi8RzTDYt4g3hm09I57xMHWUFSiM+Jxwy6IPEj12WX3zjnHRZ4ZtBIJeaJg8RivoXlFmYFQyWeJg4pqkb5QtplhfMWZ7VUYY178hcGstpKkus0hxDFEmKIQ4SMCooowUKYVo0UEwnaj3j4Bx1/nFwyuYpg5FhAGSokxw/+B7+7NXNTk25SIAK0v9j2xwjQsQvUq7b9fWzb9RPA/wxcaU1/uQbMfpJebWqhI6BnG7i4bmryHnC5Aww86ZIhOZKfppDLAe9n9E0ZoP8W6Fpze2vs4/QBSFFXyzfAwSEwmqfsdY93d7b29u+ZRn8/yhByylQOmxkAAAAGYktHRAD/AP8A/6C9p5MAAAAJcEhZcwAADsQAAA7EAZUrDhsAAAAHdElNRQfmDBASJAfpDuu6AAAgAElEQVR42uydd3QVRRfAf/t6Se8BQuggvUpRpIug0qSjoICKBRRpCiJYEBXpTVQUkaIoRaqASu8gvbckJARCevL6253vj0QgyKcICUTc3zmcA/vYeW9m7tx7587MHUkIIVBRUVFRUfmHaNQmUFFRUVG5HXR//OXkyZMcPnwYIQTqpERFRUVF5f8hSRKSJF0zIKdPn6ZTp05qy6ioqKio/LMZyB8sXryYDh06qC2joqKiovInZFlmypQpvPnmm39eA1HDVyoqKioq/w9FURBCIEmSuoiuoqKionJ76Aqq4MwriaQ6FQKCwgmw6u56xYTXSUqqHd+QIIy3YyaFTGZaCh5DAME+hmvW15lJsg2Cg/3QXpvUkZp0mSyHRFB4KL4mXW4RHtJSksl2em6Y5YE1MJRgPzPSf0rcBBlJiaS7wD80nACT9h78BAVbRioenR8B1/Xr7bliXrLtDvRmK0at5mod7RkpZMomIoJ8rn2tx0FKmh2/4CA0XgdJyal4ZSV3FBoJCQvDopNUjXQDXkc68UmZmMz+hIX53xOPV3icpGQ48AsMwKC9sz5SXJlcuJSOwexHWFjAdTpEYEtLJjXbwdUgkNARGB6O770YJ7fcOLmsWLFCAOLHH38Ud4I784JYPGOUaFA6QviHFBGVmz0t5v52WNxtko/8Kjo26ipWx3lvrwDbRfHtmJ6iYrdPRapy7XHc8k9E866jxQVXzr9dV86LuWP7iwrRRUSQX5ho3GWAWLz9gvAKIdLjz4jhrUuJoPAiIqp4cVGiRLQoHhUlwnWIJv3nilSv+M/gyYgT88cPFnXCA0VIaJCo/ng/sWDzsbv/Q5zxYmrvx8VHc7YLzx0WlRF/VAys94RYezBeXBURb5ZY+dnbIrJyd3Es85rgpO9bJNq07C62J9jE6e2rRMuqwSIqKkpEFSsm/AOLiadeHScOJWQJlVxklzi6cYl4sf0jIjAsUhR/oIF4/dMfxCXn3R80mUfWip6te4hNifY70Yzi5NZlon+nhsIUFC7Co+qIV8bMEwmuHBmRbVfE3A9eE+WKFsmRi6hiIszPVzTqNERsOF+45MLtdovx48cLo9Eo8ndq4E7hu0/f5YWf03jrxWH0MGvIunSSwU07kr1hDS82LonbbkdjMKA4HXjQYraY0Wmkq1bY7XDgdHvQGC34mPQIRcbl9qCRwOnyYDBbMenA6bDj8shodAasFjM5RQjcdhtu9Hi8Xlx2J4q45nnabTY8ikBvtGAx6hCyF4fLjUarwe32YrZY0Guv+TgKOo4tHMyYxx/jox6V0AGKImN3exASiKxYvvhkIJ+dDOHZ197Ex6Bw6dRenmrQiqW/r6dNhWCa9BpJxGM2vMn7+XLNRdq1b0G4WUNUjdpY/yMBRNl2kc/feJoPThfllSGjCTBKpMcd4I2uL+H9YS7dGxRHcTpwKTqMWi92pxez1YpBd82r97qc2F1uNFojVqsJCYHb4USRtAivC0VnxGIyILsc2J1uhEaL2WLBkNufsteFze7BInmRPS4URbnm5brs2JwetHojFrMJjSTwOJzISMiyB43Bgtmg/dNs6nLcflbt2YrvyRiaVSmCVpIAgUCD58gCRk7uxVfDH8VPkzOjdThcKEIgKwqZ3jo8/3orAg0SkvByfMdyqr5q4ML8ARQz/8enHcLL6R0rGNB/JKUf78b7zTrhcaSx84fneDbLwNy3niRUr2B3utHrtbgcTtAasFhNXD96XXY7To+CwWLFrNciZA8utxcNCk6PwOxjRY+M3e7AIyto9SasFuPVqIDbkY1LaPB4vXgcrqvrw0LxYrfZ8QoJo9mCSa9F8bhwyQI9Mg6vhMViRntVr8mc37GSF194i+KtuvPpe13wutLZ+9Mg2iZq+OnjrkQicHkcBD3yDD0eKgYCJNwc2riE/m8tYtO83gRp7+sZiCwSfl8p2j/+olh/5OJ1z+3i51nDRZnHBonD586J7ye+J75bvli83+Vh8XCngWLFrlPC7c2xwhkXj4mZb78kogkQXcd8K04kZAp3+kXx3ZzPxNczPhQN6rQRi7adFeePbBEf9O8kIEC0ffFDsfX4ReEVQiSf3yemDugsajZ9SXw+9RPRokYHsSrWK4Rwi7jDm8RbvR4XRNcRAyb+IM4n24Qt4bD4dPRoMXHyh6Jo44HiUExynhnInPdeFM++0Fe0rNJGbDubLoQQImbZR+Khp94WF5xucWzd16Jho5fF1jMpV19TbEli9cc9xcN9p4jU61pBiVsu2vQeI06nKf85Z/LkhvmidIP+4tcTSdceulLEqumDRaM+Y0VchltsXTRLPPvOYvHtzOECTXMxc9EGcckmCyEUkXH5nFg06S1Ru6i/6NBnvNh/PlkI4RAbZs4SUyd9KYZ3byTG/bRLXIw7KRZMHi7qgAho2lV8vWqvsMmK8GRdEuu+myDKU1W8P2O2eK/7Y+Kjr7cJWQiRmXBaLJo6VAQZfESn18aIjQcvCI/IEltmTRWTxowTvR57WHy2O+nPlfKmiu/GDhNTZk4XLw2dLOKduf3qzRRLp70jWnXpJ3rWqC0WbjuXOwP5TrRs1FFsS8gWxzcvF9UafyQuy9eKSz+3QzxTv5KYuPb8f37y4cq6LD4b2kkMm/urSLtumnjx99WitZ9JTP0tVjhSE8TH73wqFi38SjxVMlJ06f+R2HHqovDIOboo/vAm8fHAbgIqitFfrRKXHELYEo6IuZM+Fl+Nfl5EN+otdsWlilPblon+XRsKiBA9Bs8UR+PTcmYdF46I6W89LaIe7S5mT3lXPN6kq9iYaBPCky0Ob14i+rRtIPyqtRLjF/wiErM94vK+1WLC1Oli0Yd9RfPXp4nzKY5rHnvWJfH52z3Fa7N/EVec1+pz+fB60TES8clPx4VwXhEzhvcS/RacydMWW+d+KEqUfUGczFAK5Qwk/3xgxcH5E/vw1G1N80qR131gpnmbDjQUcZw+FkN6yh76tZmNT5uhvNrEysjhn3M6zQX2BH6cMpoDxip8vWUpLbO+56MvV5Jod3Pp9yVMWe9i2NghlDUm89WHo6BGV7ZsXkqHUrG8Pvkn7J4k5n80nImplXnntaac+30TO2JtaCWBPfE4M0YMwFGjO2tnDsN3y3NMWLKHjCwbe78Zz7bDCl++34MiQdY8CxWyy0GFJ3rzXr9Qlvy6EycgSQASisvJmZOHKdW+M3VKB119TbKE8mifPoTHnOLI5Ws72mxZNlxOJw6H4z/mTto5eeIgpdt3pmn50GuPDUE069CVB9LjSL2SgT01gTnvjWTTpaKs/K4ri8aNYM6vp1EUG5vnT2BWTAgfzl/BMw8m8d60pcRl27FnHOOTad8T0vZt2lf3Z8O86cw5HcEnO7Yxr29j5g/7iB1Jbk5vnkvvkb8w/IcPCb6why+2JmDQaZFdV1jyxYd0XuThq2WLaOh3nsZdJ3AiyUV27K8M2nKWhn3fpklJ3z/VKv34ZnZc9OWxJ9tQw3yehXuSrnOg3fhXbMHbH3Zm+apfSXLnHLzKM1w8duz2a/LhH12Opg0qc2TXQdz/8QmIM/sS23eH0rVZLQKui5FE1niI3q89w+kdR3ALQcLWwQz4eBfdpn5Fo9AzPD9uCRczPbiuHOGDwSO4HP4Ym7dMJH3NDD6Zs4V0WeHMvGGs40G+er8v/rYTTPhkLrW7jGDz5gU01K1hyvLdpKXE8/3Hg5h1sjjTBnTgyOHtrNrgQCcJEk9tZ2D7MZRv8zrfje7Mb8+2Zd7a37FnpPPrzIn8ojRmZM+mBFv1V393dmYKB7ZBzzb1CTFeq09Y5Yd4eVA/Luw/iA0tZoOJAz99zqTJk5g0aRJTJn3C5KljqfpsR4r6Fs71sfwLYXmcpF1OpGR0yz99pPX1J9zgJutKCm4P9F3wPq90qwGZtclOGsUP+y7zWvg+lu7X0vutehQN8yHymRf4dfhvHDlXHpfiT5eXetGmWUlkt5PIsZ9x6vgRjp8+zdFdG9lrrID9+HrWnS/OgoVDqRtkpHKAl3V7vgUFUuIOs8O3Jz/07kCIVU+VUmvp/+ZG4qrWItNciTY9nuGxh4vfrFI4ZCvVewxldtcJbH24BmVzl70Ur5eMpGRK1glGK+D61XBtQBi+9hQuXs6CcL8cw8JV6/PfQskmPfkylatF/lkuLP6EabKwOR0ItBSp/xQDX+9HxQAXxpQLvL9wJU/XfZwt+1y83LsBURGBeHzaUHzNFxyJeRjZ66VG68680rk5BmRCer9F5fMnOHHqKGdOHeCXI7/TOyuN+FWbeWH0KDo/9SC6RsU5vWEzChIZlxLZvuUi82dMpG1lf7y1S5GVOILNhxKpYPFhZJd2dOnQEp8/dZuTPavXckUuh8Nmw2S18s20FTzboC8huaFUm0siukkfHlr5Bmt2NuMJ05/7Ps8TjRYfiwnhcaH8xw2Ix36Fy8HhBOlvjNmYiAj2Jf3CRdyiGrKjKu9PHUa7BtHYakaT8MxrnE/shOfsz5yIasHolvWI8JFo074J78xawKkaz6IJeIw3nm1H7eLBKB47I8aN5vjx45w5lsC2DatxduxDzNETLP5JMH7DmzQvbaWqxc7+5fMRQnDx6HZ8Br/Nc50fJ8gM5dYr9F+6hyeaS7hCH+G1IT2oaLheIQg8rlQStJGE62+sqZGikcFk7E3C5pbQanUc//4TBn7/x+dFGTVrIS8+3RRrIVUd+WdA9CYCwiOJi7nCDfoUJTuTFI8Ba3AQNsWHWpUi0SOB2UpgZBF+T7aRZUhl5dqFrFy78Op7pVr25LG0LITGhNmY0/qe7Mssn/ku036Lp0R4KEYpglKBCilxcWS7zUQE5pj4wJBwiluNeISCLTUR/9JFsRh0SBotVr9wopUYUmwVEHoDeoPhL8KxCgb/0vR7sRwTf/qFIdE2NICk0+IXGkx8XDpeIXLj37kRz6xUbJYQIkN91G00Giv+IWEcPZcElM67w8aZSZrig4/JTJYkEVm+FtEBGsBM8fAgzI54bFkZXF77BU/N/+K6N5/gkWF2dDIYjaZcIfZyaP03dBz+A3VqR2PVKIRIxdDKGcSeySKgbQgGCTQBIZSqEIUTcNicpNgiKVfUP2cwBARRpHgIpxNTqaTVY9LrudnGKE9KLN/PnMeCmCwWzBiY+7QJe0d15LEHcrWEItAZg3i8ZwdembGU2s/4/vUOIsVDllMiJKooxv+4yGgtoYSlp5Du8VL8BsOdlGYjMCgSIyBb61KhRChajQaz1Y+SlS3YXG7SEhLZ+OUkGn856g8hpPZjnUlNt6Oz+mDSaZEkcKRdYO6YASyO0RMdFoY+7EEMOg3p2Rmc9wYRFugDSISGh1O0SiAIQWZiHOVKtMBs0qPRQmCxaHySfsPlDkYymjDrb3QNJPSGQIrIyaR4ZYrmqY+Ly0npBPhXwaJXcLjstPt8L7N6VSLp1D7GDJhOlVqVibQU3l1Y+WdANGaiy9WA+b+w63xdapcIzRl8spNt61byq7Y4r5QrQuqmFM7GpyOqRuJ1ZpOcnEHF6qFYtH7Uj25Ih7dfoWJRPxRXBjGXoEKJYC54XLlb2xTiTu1l1powps4fQ+UwX+IPfs+T07PwLxKJnnNcSXcTHWggIz2FSw4PWknC5B9CZtxlHF4Fq1HgyEjiAkUINJtyFz3/VqSp0uQpmp+YwpKdp0FTE63BRKlylTgycQXHnqxIjeJBuUoxlW3fzCapZDUqRqrHbMBK2bJVOT96CTvaPUC96AByxCKdXWuWss8vmsHBflyUZTITz5PiAqvRSfylDAIiKxDk50tAjRZ81OEZKkUFI7x2zsfZKFMslAtawR97Hr2JR1i5bD1DZn5Bn4YlyY4/zkdZoxA6XyKKGUhKS8MLaDNTiY9LIlQCo9mArymZmMuZ1A70Q87KICkhmbDa/igXcg5L3Uw2zh3YwoH6g1g2vTYar4JGLzj+4xds+G03jz3QKI/6KFH1IV6ut5u5vxxD1l5TBJJGh/a6LaEZMWfYfjiOBh3K8F/fzGu2hlOvciIrdh2n+GN1CDDrAJmko7v5ZsEGmk4filbxotjPEZ+UBcV8cNrSiU32pbK/Fd+wEKJb9GF477ZE+euwJcUTk+lHuSJW9tk8OSNe8RC/bwlrtU8wd+7TFPXVceq3CYw+LeNr8SHcm05yug2CfEhNSeHy+SyQJCyhEZy/kILLo2DVKaRfjMceFIJep0cSIkccb+hAq18I1eo6+O7XI0Q9WZtAsx5QSD21l2kT51F70kv4SDk5CBWNBqPBRFTlB3l12DE6vDiJMms+plqo4T43IGiIqtyAjrV/oH77wcx4oxUhJrAlHuG512cxbf02Kkbq2SlJjPtoBuEZD6MkHuLz3WbmveBDoPFBure2Ep+WjSfCguJI5fwZL41bGJFQcndASBj0ZkK5xNF9O7iks7Fu9svEKe9hLt2MRyOmM/zDGfStE8qRDcs5FOdC0kiERlWmYnx/Zn7jR7kgPae3zCOg2RtEB/jm7Mb5f6fvr1MgOv9oGj/agjk9JpBcojqS1kDFes3pWfF72gwZywdta2PRKyQe3cRr727hh92jCLlxN5Ly3zzlX7ZuE16vOJ0GPYbyeb+mBBgk0mJ28uKwX/l60zKKBxg4rhGc3vMZ02f4UTPQxsz3FvPEV0sICAimfpMH2JmWRblIfxRnFhcS0pD0OkCg5PadzmTCYDGQcu4QGx3HObFzNTPWraeSzYfG7Zvw0JBPCHd3QInbzaJjTl5VBAERkdSupGHsR1PwtC5LyontDJsVxN5RRbiy3X1zsfBeZvO6XXR9fjhtm5S8+rheWDpPTd7JmW71kLSg/NHXpmAebtWBRb2f5UhyWTRSTiTTknmYFUu+I1gngXCxb8089pTszZia4f95l8PoE8yjnTrR9YkeZI14k1rF/fE401j/5XBcnT6jU8OSeNLPYTb9ypQpnyM/Vp7Lxzbxi399ng/yJahuS2qOHElqpoMivhaykhM4cMZE29YGFJecq+Q1GH0Cka4c4vftmzlkj+WbFz9EemshkWUr06lpLB9PmEbyI0U5sHEpv5yVeAeJYhXrEzt4Il/7plLE18vGOVOo8fQ0LJYYZK9yU5kx+IbQou1TdKzfENvYqTxcOhivO4ONs4dz8onJfNLiAZCTcwzIVR2hp3LDJ3ixxmKGTF7GwlGdCdYXws7K73MgzqxL4rfvJ4poEICgfh/x067jwiELIaeeFFMH9hDjv5wq2oAgqoNYuuuUcOfunEiO2S9GdC6X8x69xNqjsSI76ZwY0bWZGLchNuc8QXaSWDrptdz/g3jt7fdEu9o9xJGkDJESt0cMaYCA+mLcmJGiIk3E8hiPEMItzuxYLB7xzXmn0cuTxMnLNmE7v01UJ0TM3HLxzxXJjhczB7YSQ7/bd93OmzSxZFRHQaXXRZw7d7NWaoJYOWPI1d9TvcdbYv3v8cIl5901kXV4nqjWeog4mGD7T+6scWZcFKu+fk8Y/pCLxwaKVXtPi5xt8IpYOWO0qNZpmhg7rKUAxNiFG0W6M2cXVmr8UTH+1da5bdxIfL/llPCKbLFiRHfR9JWvhDd3F+CxX78WIbnlP/3aENH1iYai3ZdHhceZLNZNHygA0entSeLddjXF6M+3CK8QIuvCETG21wM5ZdfsKX7eGyM8Iksse+NxMeqrdeLGnf+ph9aI3k+9Ks6luvJuyrIniJEdnxSzfzkg5k0cJBq8tkjI150B2P3NMAF1xNaEbHFyyzIR9Ec75P7pNeorcT7ZJlT+aFCnOLtnnXi1dUhuGxUXI2etEokZObubUhJOif6d+4lJn7wpABHVcqDYdjZJeIUQiuwRMXuXi2dr5LRtlW5jxO9JmSItdo94Kby++P1Czv5IR9oFMeut9jnlB7URH4wdK4o++oE4ejlL2BKPiBGtEFBRTHjvNfFg6VZiw0WbEO5MsXPpVFE0t9+e//h7kWiXxaXNX4syFZ4Rp73//1xLzMGN4s2O0bn10Yth05eJxEynUIQQcvYlMWVgB9Fm5t48r10+sERUIVjM33S+UO7CyncDkrtpVdizMkRKWrqwOd3XZCLlpJjUr42YfzBBeOyZIjPLed0gy3nP7bCJ9NR0kWXPfU/xCpvNJpwe+ephLdnjEhnpaSI90ya8Xlk47HbhyVXYHodNZGbahMfjEVlZNuFRrm0zdmRnitT0DGHLsVhCkT0iOzNLOD032SKnyMKRnS0cLu8NcmAXGVkOkcc+KF6RnZUuUlPThcN18+NpiuwWtmy78CjKf1cpKLKwZ6WL1LR0Yc9zIEwWK6e/I2r2XCxShFdkZGYJ7w0GWHY5REZ6msjMdubKgSLc9myR7XDl6QdbRrpIS88ULo9XOB12ke3M6Q/Z6xYZaRnC6fEItz1b2J3X+kl2O0RaeprIsl9XtsMm7NfJrrhO9uwOp1Bu6EdFEcLlsAmb2yucDpuwOdxCXPdfFI9TZGbk1OsP+U1NTRWpqakiLSNLuL2KUFSz8ecDqC67SE1NFRmZNuG9TlmkJJwSfZv0FVvi0kV2epqw2d1/0kEue7ZITU0XTpd8bQzabMIjy9eV7xBpaWki0+4UsiwLm80h3Lmy53XZRXpmlvB4XCI7y5a7RThHjrMzM0RqeqZw5R5BULwukZVtv0Gf3cQuuhy59bEL7/UypCjCYbMJ2436Q5GFIzPjT3ro/jxIeN3CkdnHD/NNQkKK14bHI9CZffG9yXt6kwV/0/WPtFgslrzBMp0BP/9rMUGt+do36UwWfHPf9/HR5Qmxmay+5Clao8Pq+38WuiUNJqv1z4E6gxm/G8ORkharjz/Wv2oRjR6LVf/fjk1IGsw+/tzsnJwse8lyetGhxe8mfaIxmPAzmPLKitmK/oZ+sPj5c1VadOarC9IarR6/gNz/rdPleU+jNxHgb/qTHN6stzQ6A+abjBpJAoPJggFAb/nz5zojvn7GPyqTR35V/iLGbjATaDDfNLzsyXLgUTRY/X1vqoMMZivXvypp9Fgs+hvKNxFwnVxZLNf+rjWY+aObdNenvZE0WH398ox3SWvAx3oLGwQMJgLzyPE1ATJZLDfXQ75+/4FF9FvRH3oLUdVaEuirDh6VvIM9PLo87ZUi6NTGULkF9EYzNds3IMioVRvjv2JANL5FeLz3K2hvZoEBj8eDoigYjUa1Z/5jBqTmo52oqGj/NDtJSEhg27ZttG7dGh+fgtkWvWnTJjIzM3nyySfVrviX4BNUhD6vPYfBZCq0vzE5OZmlS5fStm1bwsLC7st+uLv7TKXc/ES6m3/tvn37+Omnn/B6veoI+a95lCYzvhbDn7awpqSksGLFigI9wb9792527typdsK/yeXQaLFazei1hXfTc1paGrNnzyYlJeW+7YdCdVDB7XbjdDrVS61U8hoXvf5PqUDyE61Wi1arhkJU8lm5ajQYDAY0mvv3PJimMDa6isrdRHVYVFTuEwOiDmYVFZU7QVEUtm3bxvHjx9XG+K8ZEBUVFZU7QZZlJk6cyN69e/Pc+6KiGhAVFRWVv8VoNKrhcNWAqKioqPxz1FC4akBUVFRUVAox+XuQUDjZvno1x0U5ej5R+WoqiKSj21izO4PW3VsTWkBnBF0X9vDt6mM06NKTigF/bPm0sX3xaqjUkAYVInIeKR7iDm9hybrtOImkRdd2VCsWjE6CK8e2s3jFJlJkgUROVmYBaPQWGj/ZlXq5ZSiOFDb+tBpD5SY0qFwsxwrLLk7v+I2zUkma1y9/3T3vKn8gOzPYuXoVrlIP0ahaNFoJEG5ObdvAUUcR2reockflZ188xg9L9lO/e1cqXHeBtO3iQZatO0HTdm2JDPhnB8/SY4/y/dKDNO/VmdKBucPFlcKKxcvxqd6GJhWD/25QkHhyN7szw2lbp8S1x/Z45s5bRUi9jrSueq2M45tXcFwqT7sGkWxZtYyth+OQJAlFkfEtW48ejzcmxCdvOg53xgWWrTzAgy2bUSLEcvV7k04f5KdtF3my02NEWP+9vqLXkc7mNavRVniEhg8UQyMBiov9mzdwhmg6NH6AO9mE7Uw8zNzlp2nWowOlrzurmhG3n8W/xdOqfUsi8yn1TEbMXpaujaVFlycoGpCjDN3Zl/h19QYqNGxNyUj/vy5AcbJ37VLW7D2Hb7GKPNG6KaXD/XN0ldfGrl9Xs2nfaeScaRgejNRs3o7Wdcv8RRsJYvesZ8VhHU/3bHrdLZAKF/f/zPbUorR+pCoWvVTAMxBJj95xgU969ee3k6m5Dy8zfcy77ErTYy7AA+bZMfuZOOBZJn+2lsxr3cXaCZM5dCohJy27187PUwcRXf1R5iz8iR8WjKdVpfpM+X4PAkg6dZDFy5aydMlivpr5Ke9Mns2PS5awZNlKjp9JvFZNnQFt9m4Gz1xGfJozR9FcOsWHz44mVZaQUI3HTae7Gi0az0laDZ7LxaycdstIOMOXH44kwXvn5zBMRi1nfv2cCbNWkyX/MQYcrJ7yDsvOZCHp/rm/ZDYITmwYx+iZa67eFHjo5wUMn70fnd8tJD/yprN/0wLaDVjIRfm6x5lxfDV1CJMnziIm69pC77FVs1j3+1ncrjS2rPmOMbPms2zZMpb/tJwv3mxN3dav83uCLe+w0xq4uGESU9fsJtud8yWyI5UNKz7jx1iB5V+egk3SaNFkHKDxW9+S4ci58DctMYbZH0wkTWu6YyWmM5o4vnISH89eS/bVPnKzbNxANifa0Ojy74yQwaxj32ej+WnbIZwiR3kf+Xk2LyyPRdH89ffYr5zh09e78fjL77F8+TK+/uhlylZ7ht/O5FynrLiyOLR7BW9On8eypUtZumwZqxZ/RZt6DZm2NeGvWhizwcHi8W+zctvpa0558jHGPNSJZLsH7f9xiPPZLdFSp2NvJg8vw1ffLCHZ5WDX7An8XqQzH77RgoK8n0+jNxBUrhoHf/mMX3bF5Q52DdaQQHR6HXXgxeQAACAASURBVBJwYuUkWs2OZ8Eve9mwaQubN//GwqnPs3zSGFYevMQD7V5k1YZNbN74K5+NfZ1ub85g3W+b2PzrSno+XuM6O+lL/W7D6eRcwefrj+BypLNx3iSKvvspbR8uj1YNDN5cTA0+1Hm8H1Nr7mP0ooPYnZns/vlblC7jeO7Rinc+nQ4uz7CP3yTh20n8vPs8AIl7FvHWruIMfOFpInz+uQExRlbm3Y/HYF/zGcuPppAdu4NZn21nzOR3aVjs72Yzgoz48xw6msZzJXawYFvSdUpfh69vBZLOb+KXLQfw5D7XWwMwGHIOTurwYfCnC9mxfSubt2xh4/pt9C1/jC8Xruf6c/l6nzC6DnyLk71HsPn4ZUDmwpGNfLPKyvRBzfAz/LsFUmv05aEO/ZkWtZOP157H5Uxl38ppRDz/Ls8+XPKO3TVdUFlGvN+f8599wMb9FwBI2PolE8/XZcBz7Qm35p8BMYdXZ8TcD/l2/Hfsj0sjO3YL42ck8M3bL1A6/C80pJzNtrUL+OFKJRYs+5ktWzazZeNm5g8tRfMGH7A/1YtWo0Hj1TJi7jq2b9/G1m3b2LFzJz9M6M7rY1Zy5S+WhcKqtWHa+62Y8Pl8Dl92AV5+mTOZ869/xpNNa/H/Uo4VgGT50qzPUKJPrmHs6Kl88KOXQf06EFDQUqa4MUU0ZNCrTVm1dD2Xs2RAQgiBpNGA6wILF21mxKAhdGtWnUBfE1bfCJr1GsjgLlGs3riPDJeEwWTGYrFgMhrQGYw5fzeZuDFjgsEaRsd+L3Pi26/5bs4kvt1TnJ6P1sGqGo+/Hqw+kTzZvR9Xvp7C7HlzWbheS58WNcivMepXrjlDBtZixuJfOXt8L1PGzuSVwc/ToPjt50zyq9CaQS88yPhRY3h/8nzMHZ6nZcXAv4/oKgrnju8jqUQHnqxTg63fLb86OxaKgtFcmm79XuC3H1Zx9GJ27gfXblkUCPQmM1qdAZPJREiZB+k/aAD7d+7hSKIrjwcZUaEu/Wc2YeiENVxKjefHGd/TdnBPipvvj7xyev8onujZh62j3ueLBXOZsimMLo0qYcinyX5ItccZNbwhs5Zu5+Th3Yx9eQqvvPYsNSPyv/3Cyj3Cm21gztdzmD60PxX69qBhhaC/nn2kxLJj8QHGj3mDZtWiMZnM+EWWpUvvAbzdeD9zVh7Dq9EgaTTYUq9w4cIF4uPjiYu/REZ6FvgZ/0bZS5R7tA/dDTtYvH4vsdt/ZOZKwcgX21P0Ly5kLxB1pw8ozYuvt2HqR8NoPexFHioVVOACJgCvrKda467Uduxg7e+xOVdXCgmtFmyXEzgVr6Vq1TI3qjQeqNuA2BOxZNnduYNbIGQFWVGu3nh3s9lWdJ1m9H7Ml4EvL6P1oJcpF2pC5e+JrN6MN7qHM+Cd+dR5oS/li+Rnumo9ddr04cnslYwY8SlxJQfRq2XVOy61dttn6a6fyPj0CvTvWB/jLYwcRc5i7+Y4WrZ6hHbdWxJ1ZTeHY66Fn7wemRKVm9C9ZjLz1+3DK268DVVCyHnPMZiLlCYoOYmk5OwbxNGXhx/rTAv7Wt4eO42k6l1p37gKBu39E06NrtOEt5810v+j1XQZ1I8yEb75OD22UL1lb2qe/Y73PhjPoWc+p1vTBwomWmL059GnuhNyciofO16md8eH+Osoo0J2ciy7XRUoF5TXoGkDIqlXtwoX9x/HJoPWpGHu0F48/UxPevd5gRefe4q+X2ey5r0nCf4bUdBbw+nS/zXiv/mQ98Z8w8NDBlM/+q/jRgViQIQik5xwEQ+w9+hFHPJdOsyjyOh8Q3i0UysWTf+RuCwZve6axyeEBu1NcippNNrcz/9hPbPTuXwlA2Owk7jj566GIVT+Bnc6cYkOAnGSdC4Gh5y/xVvDS9P66c5sWOpiwIg2BOXDVhFXVioxR0A+dpqEDBe3Iir2i3v58aMpTH3ndfq9M41dR/ezY++p695V0Bp9aPpkVzQ/zOdYhguDTnPd5+JmjiIWkx8m459VjrVYJfp0rcKqVQdp3qIxYeb7azos7JmcT3Niykon9nQsjnzeqesTGsVTfVqyYJGG+a/Wx6fA0qPJZKSmkp4kkX1uD3FJf58oVCgyHo32JiIhodPpELKMUCRQJOq2e5rnevWkZYMSrPc0YsvG6bQsF/z3P0vSElWlPm06Fucr/5682LLC3xvDgmie1JiNvDvjPF/M+R7nNx+y6kDC3ZMyjYbSdR/h2ToXWbhqPxp/M7Is4RMaQXSEh9PnL/6pM+NOHiaydBQ+5n+w2ig72blmCUtiy7Dgi5f4fdFn7DmfoRqHvx0Jbvav+pE5JyKZ/9UQTiz/loNnkvL5S7T4BBWh0RO1KOWXD1rAa2PJ1I/I7DabGR2MvD1lNZnev9NeLk78uozTdZtRItwPnT6YGnVLsGvTVmJtXE0OqQiwlHiQVs9W4fVZ60jWmNFd5+RINyxeulIScBWPICLEetN6h4cXo2pUOCGhvved3Oxc9RPzY2qxZPYr7PryM46cTc7f75D0BAZF0LZTRSJ0BTdzc6QlsODrbyn+3DimNE1k9uxV2MRfq2lLSDGqec+RbHPn/ciWxqH9pwivVAarTuC1u3mo+8v0feFFhgz/mOn1L7H8l4O4uUVrqzfjH1Ka+o0qEngLjle+GxBPylGmDxlE08Ev0rdXJ4YNbconH87mZIpc8EL2x75bfSgt2nfjzGeTWBZjR4MAa0k6t32QKVOms/XYeZKSU0lJTuTw9uVMHb+dlo9Uw/8Gj+2vRCgtbj9f/HiElwc9Q5P2fXj5UR9mLVjLZZuMyv8nPe4gXy7cTv+RL9LqsQ681KEIMxf9SkJ2fqbwFyiyB6fTheuOD5S5OLDkU6aeq8qw13rTp1d3qp+YzryNx/9ySLovneDzrw4xdvJkpkyezOQpk5nwyfsUPbGRfUfikYVEjp0QgJb6jR+lxZGPGLvqLCatJmcbuSThtGWRlZlOamoqibHHWPrll5SuUpHSQTc3jLLXi1dWkOX7KYWHIOXMLr75ditj3nmeVq078kaXAL5atokrLjlfv0eWvTicHgruGKKLA2vnsTegJc906kDfEaNQNs9mybazeP7iS32DS9GkfRGGfrWGQ2cukJqaSvKlOH776VuGbi9Kp9ZV0QsFNBLOrPTckFQQXZ7ry8lxo1l3Iu3W20Dx4HG4uJWWzVcDotiT+OGzacwxvUC35jUBiart+tDZuJ6hExaQYC+4blHcTuJi0vnDMQwsU4NXXnqITZu24vJ4AYka7V5hfAsvDSs9wcDBwxg6+BWaPdSBSq+8RataJa47FCOQ3dlccXi42TC0XT7KV2PGUurxbjxSIRTw4aGuL+Cz6DW+/nkvHlk9BXtTzyvlPAs//QhT0x60rBQKmKj+WHeK7p3A+O+35uugVWSZxCOZd1imwrk963i1y1e8/sazlLCCIbwafQc8zavd32H5vkv/981Dm9ayu9gzPFIrCo1Gi06rwRpUgk5di7Jq5wEyXQ6SLyThyhVYY2g5Xhg6hKPbfsPpdCGEwOVO4/tZHzJ4yFDeHDaUl59uxtMbS9GrXSP+32qb7LYTm5h2X8mgLfkccz6dSEDbPtQv5QNYqfFEb/Qr32Xy0n3kZ1UVxUtMbGYB1cTL6U3fMXrKbl7o3IwiRtCF16H/gGb07DOeQ7HJ/19e9f7Ue7wXtU5O4tFeL/Pmm8MY2K8XzXos59uvh9EwyoQsy7jsyWS4xVUXOLhyE57vX5c2r41n/2XnLRkQr9fBXtutOXT5epDQ48jC7VuHH8Z1pagl13/XhdJn5Pu4vz+Kze4GS8HsCrFGV+eNoVGEXHXMDNRo9xKLZoYQXCI8x1r6hNN58FRqN9/IvKXrsItKLDsznRrFI7g+eiVpdISXb0KvqGIYb7L/2ZmZga5sR3o83gBr7lTXL7ws/SdPZsMlR24aBfUsyJ98L2cWlGhHv3YPY869VMwvohS9Bg5jxSkH+ddqEn7BRXnl41b43FE+JA8ZNg8dV62iY92iV8t+oHFnlgzPwp6ajkzETQ9omYNL8e7wxkReP8K0Biq1eJbWh7PR+xfjuTf6UjlUf22wV3mcjQtnEhMcjd4YQL3mbUm1nkaSQFEkGr80l+mP1icy5P8vbPqWrsPglwIo5qe/b+TG48jGUOMZ+rZrcPUCKb/w0jw34m1+SczGq0D+XOeiwT+kBG8O9S2YPFrCw5UrTtqPGE3d8hFX+71S0+4s7f8Dbq/nL8dAYLFKvPP1Lzy6chHf/XaIIk37cGTKo5QrFooWEAYrFRv0oFTJ68OXRpp16c2kS9+RZXMBf7fRR09UybrMKhp5a7MLkcuKFSsEIH788Udxr9i0aZOYO3eucLvdQkVFCCEOHjwonnvuOXHlypUC+45PP/1UjBw5Um3s+wS32y26desm5s2bJ2RZvme/48yZM6Jhw4bixIkT9137jh8/XhiNRqGeWlBRUVFRuc05WyFCr9ej1WrVNMwqeWRCo9EU6JWzGo2mQK/MVbm7/KFD/vhzz5Rr7nffz/rsltdAFEUhKSkJp9NZYJ2elpaGw+EgMzPzvr6jWgiByWTCaDTe94M5KyuLlJSU23pXkiQuXLiAw+EgNjaWjIyMW2pbq9WK2Wy+pZTeJpMJl8uF2+0mKyvrahn3q9zp9XrMZnOhNpiKopCcnIzNZrut36koCl6vl+TkZM6fP39LZWg0GgIC8i9fhk6nIzs757BndnY2drsdr9f7r5Uds9mMXq+/fQNit9uZP38+O3fuzHfh+0OwhRAoisKhQ4fu63z+GRkZdOnShdatW9/XxkMIwdGjRxk3btxtefmSJOF2u8nMzGTMmDG39L6iKPj7++Pj43NLMqTX64mNjcXpdDJy5Mj7+gY7u91OkyZN6NKlCzqdrtD+TpfLxQ8//MD69esxGP55FlyNRkNKSgo///wzW7ZsuSU51Wq1hIeH55sDodFocDgcaDQaZs6cicVi+VfKlqIomEwmXnjhBcqVK3f7BsRsNtOmTRuaNGlSYMpm165dXL58mYYNG97X0z6Px0Pp0qXv+9mHJEmUK1eOESNG3HYZMTEx/Pjjjzz//PP4+/vf0js2mw2P59byAhiNRhYvXkxWVhbt2rVDCHHfOi+yLBMZGVnow3UGg4HWrVtTr1692/qtsiwzbtw4atWqRfPmzW+pDK/Xe3XGkF8RlcTERE6cOEGjRo0oVqwYsvzvOyMmhECn0xEUdPN0VLp/0iBly5YtcM8jNjaW5s2bo3J/EBQU9H+F71awWCxYrVZq1KiRryGG69mzZw/p6ek0btxY7bBCgFarpWTJkpQsWfK2lZ7BYCA6OppatWrds3rExMQwY8YM6tatS5kyZe7LvipUbr6iKFfj0SoqAG63G1mWCzR+LMvyfR26+q/h9XpRFOWe9+sfM45/48zjX2lAAgMDSU1NVQ2IioqKimpA/vnUVUVFRUVFNSAqKioqKqoBUVFRUVFRyUu+bwbPvhLPibPxeMhNCiYEktFKyfKVCLMWjhCV8Dg5n3AZa0gk4T5595nbk85zRRtGdLBVlY4CaXwvSXHniElMvZrpWAgFY0AU1R+Iug2PRiHzUhwnziUia6ScjP4CjP6hlC1dEl+j5i5Xz8mFs6e5mJbNH/cLKELCL6I0lUqGqik2b6N/0+PPczLuMopGc7X9jL7BlCtbGusd3PcuFA8XY84SfzkN8cf9LIqCX2RJKpaIQHOXtzsrzgzOnjhFskO+mupfCC0BxStQoahfoZSdfDYggoPL5/Bw35E3PPdl2u4LvFLHv1BUWnZnseGLsaTXfoU32le51jHiMl8OHYT09Dj6Ny+tjt0CGSRprP52LM+NnJP3g6ihZMd9zD8228LByVUfULfv7LzPn3iLvdPepGb03R14rrSLfPvRC7w9Z2feD3p9i2PO06iXHv9TnGz//CUef399Xo3S/g22TBpFteK3fx2y15bOms8H8PzHecum3+e4pvbGoLu7Dq/9/G7eavMoiy/kfV5v6M9s/LglhTFvRb7PQCSNkYr1nuPdD/oQrvfm3Cmut1C6QuHx6HXWQB5p3ICpv+3D0aYSFm2OF5N1eAc7naV4u3pxddwWIJLeTPvRCxjYtCiKIkAo6PyjMN92iRaeeXsCPZrVwiTlHAI0+IVRJsx61702SRJIhiAGTPqRjjVDURSBEGCNKIdB7frbaVE0hkieGzmRbi1qY1RkBGD0CaFk2J3rFJ0mjAGzltKhfGDurETBJ7I0Ou09iO4Lgal0E6ZNeYtqwUZkRSCEBr+oSoVWdvI/n4GiYA0pSb2GD1HMkDN4Ct/JVx1l69YiatlXHM2QqROkAdzsOXiRsNpNKROiV8dtwY0SZFmhaOV6NGxYMufUtyTdkaJXFIkK1WrwcMNHsGjEPZc3rwvK1ahPw4ZFEEKoiRrvWK/qeaBqDR5u+DCmfG5P2aPlgToNeKR6aK4DcA/7Ssh48adGg0doEGb8V8hOvhsQrUFL3Pa5PPfU71g0Cp6sKzzQaxzjez1UuGruV54HavqzcNsl6jwZhTf9MkfPxfJQ52dUT7FA0WDU61j9fm8uzPVDCJkUW1HeGj+Kx6sXuS0PVWeUGNGrP9vmlkIngWwKpderQ+jQsDx3fdVN0mLx0TBtaE/Wh1tRFDcpuup8MW0YFYsGqN1/G/2r1dkY+vpANs0rjlYoSKYQOgx4j6cfKnZnu4AkCZ3FxXv9urM6wgqKTLZfZd4bNZiHyoXc/TUHnRGT9xSDnnmKcJMWxWvDHtGBhbNfJvS/YkCEAJ3BiI/VikWr4BZuQv3MhbLq1avX44ePFxDTehg+KZdI1tSmR1l18bygZyBCAoPZitXHByG8yJZgLIbbV/VCERDmi9Xqg04SSFY/TCbDvasfApPFBx8fK4rsRu8XiEGrbni8/SbVgJ81p3+FgmT1x2LOr/7VYLVa8bFaQSgYgvwx6rX3THbQaLFYfPCxaJE9WnwjAtAV4q7J99+meGQia3Zi6jejKGbMbRQkcmNZharyxcqWpnToUvbujqei+yRFH6pOgFYNNxQ0HreXZm9MYlqnMlwnIbc96BQPvDf2Q97o1Jh7vtFPKDhsCs+9M40BjYupnZ0PSlWWzXw06n0GdGlMvrqiQuB16Hjlk1m8XCvi3qsn2YNTU5J3Z87h4QhTodSZBW5AQEIoHoRy7d9/TBcLHX4laF+vHL/t+YVsfQa1W0aq8eq7ZkRc3CAhd+K24HSJHEtUKIIu4JU9aifnW3squNwCReSLsNyorXC75EKjniQh4/IqhVdn/mn+lt/TdyHj8cj8OzJia6n0ZCPiDqwlVokmKiJA3ad/FzxKRch4hcg3fS8UBVkohULmBCAUN15FqF2dX1EN2YusKAXiHwjFjZKPsninMyLZm/N7/i3k8wxEwuTjR4lienT/kpCvJqAmrZtU50LxygRa1FxcBe9iabH4hBJh1eWTsdZg8A0jUGssFA6bRqPDElQCf5NO7et80imW4Ej8zMZ8T5shSRpMgVEEGAuHstIYTIQVj8ai+/esl+W7AanV9RWWdc2ZGvIv8eebPTPsX/Rr/91oTMF0e+3Dq976Hbe5ZKZG91HUKCT1MwRFM2jil7ln0FWZunNMNO7/MY0LQvn5BNNjxKeFpqaWsk2YtqDJv2s8F4zPwL9u6KgDXW3z/K6XKlMq971DqDaBioqKiopqQFRUVFRUVAOioqKioqIaEBUVFRUV1YCoqKioqKioBkRFRUVFRTUgKioqKiqqAVFRUVFRUQ2IioqKiopqQFRUVFRUVPKQr7mwFK8bu1PB4mPKa5mEjMPpQqMzYdQXHpuleN1kZdtvyMQpYbT6YNariRULCtntItvhzLnO9jpfxuTji0n3zxKAyF4PTocLo9WKTnPtXSFkXHY3OrMpz/O7JFk4bDZcHjmvt6Yz4uNjVr22f9ycCk6HDecN7ak1mLGajdx29woFp9OJpDdhzJPAUCC7XLgVDSaz4a6mpFFkNzabF7OPJW9CWqHgdLnRGYz3QJ7v0gzEFn+QUQMncNye97n78iHeGfwm22KyCpVcXjr4MwGBgQTm+RPAhPVn1UFbgMr17LZlNAgIuKHd/ZlxyP6PS7PH72VU7zc5GJ+d53nWxVOMGzKTGJf3HtQxhRmDut1Qv0D8u40lyalKwD/F40jlx5FP/Kk9a723jHTn7fev4rGxft4kJmyIucGJzGLTZ+8yZd7vdz3Nu/PyIZ5v9Ra7LtjyPk85yxefTCQxzXb/zkB8I6KJLp7C4k1xVGpV/Orz43u3cTSjFK8V9y9kgumgTFRj+n08lIp+MnKutERWCFZHbQHidrjwr9aRz99+jqJmBUWAEBJRkfp/XJZPRGkeqWXg5JkLVCteMVegPVw8d4ALRaModk9mvF4cLokuYxbwXA0/PLIAIdD7ReCjZnn/5xMFoeByaOk7egZP1IxCK4EQAlNYOcx3kPpcYzATVbIcn3+3hbRGJQky5Hj2jriz/PD9JprPGnLXZ4vmkFI81SKZXftPUTe6Ro48C5nLZ3fxe3Y4T9+zq5rvggHBFEajSmX48OflXG7+KuG5+uDEgXPUfvr13CtuC5FgKhI+IaVp2rYVNSzqQL2LGgFtSCVatm9N8TuMFEqmYGq0asz4TWdoVb88gWYtwpVF3PFTNHu4G3rtvQlFaoSOas060LKuUe3v/Ji3iiDqNWlF20dK5Kv6e+CBslTXzuRQQjsal8xxcC9ciOFw2IuMqRx01+spGQJ5pF1bxi3fy5UWVYm0ahGyl9PbDlOnaY98vAu+MBoQoFr9KhgWL+JMfDbhJX0gdTtbY0MZMKh4oRNKjU7CeWk3E958k+I+Eh6Xg8j6nenXvgFmdQmkANtdhzZxHWOGOAk2SnhcLso+1pMXHq1+G6Vp8S9SlaCTP3IxswmBZl8yLl9g10k/OjwZyb0JF0tIBg0/TXiD7DL+yF4Pin9puvftTfUwgyoAt4HekMoXE9/l1OpwNIAuqBQ9e3ShbNE7i2oYi5akToUIDhy6kGtAsjl56DQdRvYh6B7JTlCZekS6v+FyUiaRJQNxZ8WyMiacZ54qgbGQLaDl/8+JrEOv6gYOHTsNwLE1W7E++CBlzYVPKCVJwmNP5fypExw9dowTx4+wffdxHLI6YAu23UHxpHDm5HGOHTvG8SP72HLowm2X5+MbRI3qCluPJCIDl8/+jlKlOlHBvvfwTg6ZhNgzOfU7fpwDm7ZwLl0VrNs2yJLCiTNnOH7sOMeOH2PvvpNkZmTnQ9l+PNykJvt27OWKAt6kGI5f0tKzasC98+rNEdSvHszOc4l4gCvHdxNQpTylivkVup4pgIiskXptm/Dz9ydIbhLFhpMOGrStWDinxV4Fa9H6vDV+GnVDBR5ZYPQJIFB1Egu43WUIfZQPpoygtA8oCpj8bn/AakxWKlYoy85th7E3LsKJvYnUbdYM33vWjwK8GjoP+pThTcLxeGXQmQkMNKmdf5vt6fH4MmT4YJ5uVB6dBiStgYDA/FHygQ/UoVbGh2w+1Z7amefRFqlI4D3c6SRpdRSrUJn53x3DXjeAA7tOUKlWXwILYVSkQJb0zNENqGKZxYrVR7iiKUfbCiGFVza1RoLDwgkJVYfpXVSvKBoTIWERhPnmSydSukoFQvdu5fzxnZxxWWhfssg9vRFQCLAGBBMcEqZ2eH60p6LBPyiEyMgItPncsZIxnEaPl2X2sk1ow05TuuZTSJp7GSvSEB5ZnAeD93Bsn4GtOyX69IkqlP1SIK2kNfhRo1o0y+csIrRhLSLMhXfriYRAkRV1hN7VNgeBglDysd0DytOkhJbP56zDWqQ2RQN197ySiqKGrPJTZhRFueHsUP6pwQdqNaPC0bn8ci6UqiVCuddHLYzB4VSsFMXKJSvIbNyeUn6Fc1G2YMyspCG6fDlqRfrS9IGwQnXwJW/tdYSHW9Gol1ffXWWg0REcZMp3US5WIRpnTDolm9flXu99Mlh8MaqClX+hErMvem3BtacpvATVm5UlulY5woKthaDGZsqVKk5WsoXu3WpSWPf0FJCbJuFXrAqvflwKs69foRXKIjWbMWNmXYqEqGeD76bPUrpBSyZXbE5R3/xt96Cyj/DRhEr4RunvcR1D6TXsfZSgCLW78wG9JZAnhn6CsASiLSijrLFSt9NbVJV1WAuJOvAvU5Nhn5QnPKDw9k2BzfMlyUBAkOE23rt7Xpve7E/pMv7qCL3b03O/YEoWgF8h6fSEFI8oFMMqNKq42tH5NmPVExJZpOD1gdUPfaGquYGiRQv3jp5C5XorSk5uGhUVFRWVf0M8oRDh6+tL9erV0enUfA8qKioqhZ1CpamLFStGsWLF7moYS0VFRUXlPjAgquFQUVFR+fegbj9SUVFRUVENiIqKioqKakBUVFRUVFQDoqKioqKiGhAVFRUVFRXVgKioqKio3AnqiT2Vu4PixS0LdHp9Xq9FCLyyF0mju608R7LHjeeGbMqSRoter7/7STKFwOtx41XyZozVaHXo9TrUTer/qDHxur2g1aG7IYmiULy4ZQmDXnuHbSrwejx4b5QfrQ6jXndv6+7xImlvHBMC2etFkbTotYXD91cNiMpdwZt8gM+XnOCJbl0p4X9N7BxpCaz8eSdVWrSmQug/v5h+53eTmfnLEXTk3DMCgpAKj/BKv56Uuss3g3ntyaybN+F/7Z1pcFRXdsd/rxepte9Si5bUWpBaa2tBCxYaIUMJmzgw46mBGdtTZVcmzmyVOOV4cCpTNYmTcSrJlPNhtg+JJ5OJPZ7NEDPDMC7EarSBAIHQ0gItSEIbEiDQhtTq9/IBsMExlUhqut8w5/exu+r1ffeee/7n3Hv7Hn7WMPKheLlvGVi37QVe3FlFeIDUSf7/+9AZju1+j5mMaj5dbr/Pifac+B37xlP4yrbCVZWe9ty6yZHd/8Ev6s7ivqP5noU5kmq/hi5FFQAAC8dJREFUxLdf2ILJT05aXZqlfvd7BJZuoWJt/EcB18J1Dv16D7OZ23m6SB91ZmQJS/BNpBJlg9Z6TrtG0O6J2McH29h7bp6QwJXFMj0Ne9ndr2LPysbhcODIcpCSEO2XEgKqe5aeD/6VWxFxZDocOBwOcvIyiYsIxiB/kl0eSghxoTd4c18z992O55lg75t7sERFYjaudrwWGWw/RpcWS1bW7fHKzs3DFhXq31dXzJgDJvl5cw/z7o+y2atDA7zzj78lMipYP/NaLFXwCeZENn3Wyb83nqemMJkYi4KmLTLacZ4nntxKwkrrzwYl8uIX/oxXv1ZFgHvpjjgp/rlPTQGPYTsvf/XPKc2y3S5LCCiKAaNJYrXlxraZFVVk/PTf+GDoabYk37aPhb4WuqIdfKvC7h3n5YnguZde4cWCe6qmGgx+yz7gdrnetLz1zP/TIca3FpMeEwRojE2OMvCZr7M+OURHoyQIPsKWV4Wls5XhazO3l3emhzjVu0CB3UaAslIDdjNyqZuO9i5cLheu7l6uznvwT8CvYDRcpa33Al0uFy6Xi97+EeY9yP7HSmKDmEw2rzey77CL27UdF2g5cp6stFLsXqpHZjB56Dvfcdt2XC66+4aYXfB3JUkFq9XGY+ljXBiZuiN004wP9PAXz5QQpKNCZSIggs8IjVnD+oJbXOwfRwXGOloYXEoiMTF65YmNNs3u77xIeUEeBU4nzoIcfnRkyG/TKcBSz1e2b6GwoACn00nOn75B+8hNNBn+5WMMoaSyhqXmg4zMA5OXOHCqm7U15V7y0wqGgCXeeKEWp9OJ0+mkIPsVTvRdR/XzgBki4sl3OjnV0Q/A3ORlzrXNURVv0dUQyRKW4Dt/YImksLKE/2ztYds6K+1tnayp/BPiglYeUbmVcD731z/m1S+WEeBZAszEpST76Q1VFhc28uO9uyhOTUABTIHhJK8JlwxkpVlrfjnO2GZ6esfQPCMMLG3iL3O8VI1M01AXTLz6zhGeyYtGQQNzKMn2aB2UuQ4kt7iIn3ynics7KmGgnfnEIoKDAnU1PiIggg8zcxOxKU5i65oYG3NR3xvBc19MW1UarGLEuiaN/Lw8/B+baajuEFJzcinMtMl4e4NgG9WV2bQOdrBwY5DCL28l2ovOXfMoJKZlU+jUX/nhkEQHG+N/zf6OcezH+8iq+jyBgfo6ySdLWIJPCY2yUlASwH+99UssxaXkrfrAi4aqelD1oZCAikdTddKeRwEDtuLHmDjdxG/a5niuMNrLz9dQlzz6XGI0h1H8ZDlnfvhTjmKnKMOmu4hfBETw8aQIIS0hjOaDw2woKfCKy9bP5NfAgOx3eDsSj7CRzmWM6ZlEef10nYJ+T1grpGbmkH2jjoSMdFJj9VcfXZawBJ9PipTMMl77bhJ2e9Sqn/ap579BVoAdPawMmywxPPHSNwmLi5I9D6/2ayiVz79CpjvCq8drjZZQNjzzElqifveoTJF2dvztPzMfmqpLZy0CIvghpIxjXWGcVx6VVrSeNL2k84Fh5JRWyPh6PeYwEpuyllhvj5c5CEdxqd5TdmzZTt22TpawBEEQBBEQQRAEQQREEARBEAERBEEQREAEQRAEQQREEARBEAERBEEQREAEQRAEERBBEARBBEQQBEEQREAEf6BpqKr6gK/Uu9Vfl/NAPKr6yRcXahqqpvnnHT2f/I7qg9oq/B9dquLxfHLPqZq26j7V1AfYnqah+ruqFBqeB9gTmuofGxcBEfzB0mQn7x86zvjc/RNiceYazccbGLh+a3lTa/YKh99/n3NDM//ru74z9ZztGcXXhUmnxy5y8EADU3NL931+a2qUY79t5MqS2MHyUBntOMH+ulZmPzaY0zdGOdDYwdwqys+q7nk6Tn5Ay+DNj1srl8800HiiF38Wt/XMjnNo/1H6Pm7innl6Wg7T1jshAiL8YWCKsND6o19xru/qfRHWxOXzfO9nnajLvFNbCTIzfmAP++rO3//FYj8/+f47jEyp+Lr0jtHk5uSedxm7er9DGuxs4tsHhgg2ih0s1z0FcZV3336Li5ML95iNmyvn93GwZxLNsHIXZjAoXBly8S+/aGXx3i9uDvHL736LpuvgzyEzmkz01b/Nm/XD9wckk918/29+wJU5yUCEPxQCMnhiewLHWzq56bmbhS8x0X2WiqdKsIYv80J2QzSffm4DF041M3ZPmHjt7AluxNjJdST6/BWDouxs3rSGg5cmcd+d2+oUA64OvrCzjDC5433ZRGVXsDHDTY+r/6PMYWGKjvpmagtSCTGvolONFnIzc4lp/g39190ffjzS18/RU1n8UVW6f18+MIbKmnJa3v4VE/co3HBXAx0528lNj/P7+IiACD4jrWIzN06eZvTq/J1MfIK2rikq1iatKDoPK3uKvNleGrrvRPzaNM1nuojLqyYl3Pexo2IKJtG5npb97dy8s7QyPz5Cd59K9dp4MYAVpa5x1DxewpnePq7dcaLTVy7R3J1KWnL8qut4WB1pFOcvcdI1/mFWPDTUT+TXvkx2uL/do0JucTlV5mZaB+5mtYucPXiZbZ+tITHU/+5bBETwGeEJ6VTYJui9PIEGXO05Q/v1KJLWrDSSiqd6SyINx85xC5gb7af+gytU1Jb5qdCNgfiYFLLnz9I2OguoDPZ10xdaTEJUsBjAConNLkdx9TEyeXsz4GLzEeYqHycx2gt9GmTjU+uyaT3dxRLA/DDnzo7w1Wfy0cOKo8maxcaqbHrbe1ABdfgEdTPhPFFq10X7REAEn2EOjqZkg4NzHf0suW/R3d5G+LoaEsJX7u5z1lcT0FrHwJTG2MBFevO2U51k9ts7BifEkZ8ZQtPRTjRVZfjiIBU1+YQESu22lRISmUxl2lVOd4/i8YzR0uJm2+YiwrziQQ1kbljPwrEGzl1TuT50iSlLGiURenGNoRRtrOZMezujc7dob+nAll7G2jB9tE8ERPChtQWwJrsc5fIIM9eHaTw9S011Hqtx9xEpeWwuD2aiv5Nz7ZfY9mQRfq0crYRSW5PN5OQFZheH6ByxUGi3Ypb9jxVjtISSX1bOzaFLzLce52KUlZK0UK89PyAmm6drb7D/uIue3i4i03IwKfpxjWFJJVTfHKb/bBvNrd2s3VSCXs5jiIAIvp0MkVaK0lT2H/5vJjI2UGld3VRQzJHklpXQf/znNF0LZWNGrN/f0ZJbQb4yzeEjTYSkJGGzyvLVKiWEhNS1RHn62Husk8z0UqK8KciKhZzyWm68t4eGU9M4y1IxGPSj+IaAUEq3WvndgZPU9+dTmx2ln7aJcQo+NbigSNIzQ/jhXx2lan2BFwzQQKQ9hwutp4hMyic+XAdLRYqVTU4Tz//DfuIcJXL6yhuiHJtMcsAcb5yYpWxzntefv8ZRygZrE66IHDLjo9DTkCkGI0m5ZRgbd1P4pVqiTfppnSzMCj6PWdLTi3ntrW+Qk+mdo7ZBIbHs+Po30eLzCNBJ5Ghdt5V3d6WTk2eVIfeOhJC7YSt/F+0mP877bksJiuWxF17DTiLhQXqLqxXCYtL4/N+/TmR+vK6ifhEQwfdGF5XCpppkFIN3poLBHET+ukrAoJvI0RKTwuN/bEMxSfrhLeLsDp5Kflh/7jNgzVpHAqDLETOHkFP+GIqir9aJgAh+iai8vcZsUPS3GmswyV/PvWs2Ckbjw32+t92z5sX7qvS0LyMCIvx+ZCsmE3FxcQ818goLC/PqRBcEAKPRSEZGBkbjoxtIiIAIuiY9PZ2XX36ZyMjIh/YbO3fuZHFxUTpb8Co2m43XX3+d+PhH9xYCERBB11gsFiwWy0P9jYcpToJ/0MNegdlsxmazPdL9LMd4BUF45Jibm8Pj8UhHSAYiCIKwjKjYYODZZ5/FZrPp7tTSIy8gj/KGjyAIjz5Go5EdO3ZIRzwkzGYzRqMRTdM+EpC7p1Dq6uqYmZlhaUnKpwmC8PvHvVmHnK7zft96PB4aGxvxeDwo2p0ePnToELt27cLtdj+wdrUgCIIgKIpCWFgY/wOc+9224q/bwgAAAABJRU5ErkJggg==)"
   ]
  },
  {
   "cell_type": "markdown",
   "metadata": {},
   "source": [
    "## Expresiones aritméticas"
   ]
  },
  {
   "cell_type": "code",
   "execution_count": 1,
   "metadata": {},
   "outputs": [],
   "source": [
    "a = 4\n",
    "b = 10\n",
    "c = 5\n",
    "d = 24"
   ]
  },
  {
   "cell_type": "code",
   "execution_count": 2,
   "metadata": {},
   "outputs": [
    {
     "data": {
      "text/plain": [
       "14"
      ]
     },
     "execution_count": 2,
     "metadata": {},
     "output_type": "execute_result"
    }
   ],
   "source": [
    "# Suma\n",
    "a + b"
   ]
  },
  {
   "cell_type": "code",
   "execution_count": 3,
   "metadata": {},
   "outputs": [
    {
     "data": {
      "text/plain": [
       "-20"
      ]
     },
     "execution_count": 3,
     "metadata": {},
     "output_type": "execute_result"
    }
   ],
   "source": [
    "# Resta\n",
    "a - d"
   ]
  },
  {
   "cell_type": "code",
   "execution_count": 4,
   "metadata": {},
   "outputs": [
    {
     "data": {
      "text/plain": [
       "2.0"
      ]
     },
     "execution_count": 4,
     "metadata": {},
     "output_type": "execute_result"
    }
   ],
   "source": [
    "# División\n",
    "b/c"
   ]
  },
  {
   "cell_type": "code",
   "execution_count": 5,
   "metadata": {},
   "outputs": [
    {
     "data": {
      "text/plain": [
       "120"
      ]
     },
     "execution_count": 5,
     "metadata": {},
     "output_type": "execute_result"
    }
   ],
   "source": [
    "# Multiplicación\n",
    "d*c"
   ]
  },
  {
   "cell_type": "code",
   "execution_count": 6,
   "metadata": {},
   "outputs": [],
   "source": [
    "# Potencia"
   ]
  },
  {
   "cell_type": "code",
   "execution_count": 7,
   "metadata": {},
   "outputs": [
    {
     "data": {
      "text/plain": [
       "7962624"
      ]
     },
     "execution_count": 7,
     "metadata": {},
     "output_type": "execute_result"
    }
   ],
   "source": [
    "d**c"
   ]
  },
  {
   "cell_type": "code",
   "execution_count": 8,
   "metadata": {},
   "outputs": [
    {
     "data": {
      "text/plain": [
       "4"
      ]
     },
     "execution_count": 8,
     "metadata": {},
     "output_type": "execute_result"
    }
   ],
   "source": [
    "# Módulo\n",
    "d % b"
   ]
  },
  {
   "cell_type": "code",
   "execution_count": 9,
   "metadata": {},
   "outputs": [
    {
     "data": {
      "text/plain": [
       "2"
      ]
     },
     "execution_count": 9,
     "metadata": {},
     "output_type": "execute_result"
    }
   ],
   "source": [
    "# División entera\n",
    "d // b"
   ]
  },
  {
   "cell_type": "code",
   "execution_count": 10,
   "metadata": {},
   "outputs": [
    {
     "data": {
      "text/plain": [
       "-455.95294117647063"
      ]
     },
     "execution_count": 10,
     "metadata": {},
     "output_type": "execute_result"
    }
   ],
   "source": [
    "a*b + d//c - a/b*(2*c**4 - a/(b + d) )"
   ]
  },
  {
   "cell_type": "markdown",
   "metadata": {
    "id": "GVZX8yXzjRgC"
   },
   "source": [
    "# Operador de asignación\n",
    "\n",
    "El opeador de asignación es el igual \"=\". Asigna el valor a la izquierda a la variable que se encunetra a la derecha."
   ]
  },
  {
   "cell_type": "code",
   "execution_count": 11,
   "metadata": {
    "id": "2Z5KCj6kjkyS"
   },
   "outputs": [
    {
     "data": {
      "text/plain": [
       "2"
      ]
     },
     "execution_count": 11,
     "metadata": {},
     "output_type": "execute_result"
    }
   ],
   "source": [
    "#Asignar a la variable var el valor de 2\n",
    "var = 2\n",
    "var"
   ]
  },
  {
   "cell_type": "markdown",
   "metadata": {
    "id": "QtQMg9EFjzmU"
   },
   "source": [
    "# Operadores relacionales\n"
   ]
  },
  {
   "cell_type": "code",
   "execution_count": 12,
   "metadata": {
    "id": "ucGOBHelZ2Xo"
   },
   "outputs": [],
   "source": [
    "a = 35\n",
    "b = 38\n",
    "c = 35\n",
    "d = \"c\"\n",
    "e = \"a\""
   ]
  },
  {
   "cell_type": "code",
   "execution_count": 13,
   "metadata": {
    "colab": {
     "base_uri": "https://localhost:8080/"
    },
    "executionInfo": {
     "elapsed": 360,
     "status": "ok",
     "timestamp": 1694206330922,
     "user": {
      "displayName": "Brayan 235",
      "userId": "14891812579283057053"
     },
     "user_tz": 300
    },
    "id": "xKBs0rB2kKX3",
    "outputId": "fac3e64e-0fdf-4ebb-9eb5-72d67b897f11"
   },
   "outputs": [
    {
     "data": {
      "text/plain": [
       "False"
      ]
     },
     "execution_count": 13,
     "metadata": {},
     "output_type": "execute_result"
    }
   ],
   "source": [
    "a > c"
   ]
  },
  {
   "cell_type": "code",
   "execution_count": 14,
   "metadata": {
    "colab": {
     "base_uri": "https://localhost:8080/"
    },
    "executionInfo": {
     "elapsed": 7,
     "status": "ok",
     "timestamp": 1694206347127,
     "user": {
      "displayName": "Brayan 235",
      "userId": "14891812579283057053"
     },
     "user_tz": 300
    },
    "id": "BVq6IIVlkRUX",
    "outputId": "82d78d36-9263-4cce-92c9-309743ff440d"
   },
   "outputs": [
    {
     "data": {
      "text/plain": [
       "False"
      ]
     },
     "execution_count": 14,
     "metadata": {},
     "output_type": "execute_result"
    }
   ],
   "source": [
    "a == d"
   ]
  },
  {
   "cell_type": "code",
   "execution_count": 15,
   "metadata": {
    "colab": {
     "base_uri": "https://localhost:8080/"
    },
    "executionInfo": {
     "elapsed": 450,
     "status": "ok",
     "timestamp": 1694206358879,
     "user": {
      "displayName": "Brayan 235",
      "userId": "14891812579283057053"
     },
     "user_tz": 300
    },
    "id": "B07F1qvVkVeW",
    "outputId": "d173ad67-df46-4741-8980-15cf8a07becc"
   },
   "outputs": [
    {
     "data": {
      "text/plain": [
       "True"
      ]
     },
     "execution_count": 15,
     "metadata": {},
     "output_type": "execute_result"
    }
   ],
   "source": [
    "#Recurre al código ASCII.\n",
    "d > e"
   ]
  },
  {
   "cell_type": "code",
   "execution_count": 16,
   "metadata": {
    "colab": {
     "base_uri": "https://localhost:8080/"
    },
    "executionInfo": {
     "elapsed": 8,
     "status": "ok",
     "timestamp": 1694206505871,
     "user": {
      "displayName": "Brayan 235",
      "userId": "14891812579283057053"
     },
     "user_tz": 300
    },
    "id": "vSuyKdttkga-",
    "outputId": "fee835ef-ec1d-4ae7-8674-c903d7322561"
   },
   "outputs": [
    {
     "data": {
      "text/plain": [
       "True"
      ]
     },
     "execution_count": 16,
     "metadata": {},
     "output_type": "execute_result"
    }
   ],
   "source": [
    "#Salvo los operadores != y == los demás operadores relacionales deben tener el mismo tipo de dato a ambos lados\n",
    "b != e"
   ]
  },
  {
   "attachments": {
    "imagen.png": {
     "image/png": "[encoded data removed]"
    }
   },
   "cell_type": "markdown",
   "metadata": {
    "id": "IFdYhFz5k_sE"
   },
   "source": [
    "# Operadores lógicos y bitwise\n",
    "Los operadores lógicos son <i>and</i>, <i>or</i> y <i>not</i>. Además de estos existen los operadores bitwise que actúan bit a bit, estos son <i>&</i> (and), | (or), ~ (not) y ^(xor).  \n",
    "\n",
    "<p>Los operadores lógicos actúan sobre boleanos, es decir True y False, su resultado será otro boleano. Por otro lado, los operadores bitwise actúan sobre enteros, los convierten en binarios y realizan la respectiva operación lógica sobre ellos bit a bit, esto da como resultado otro entero.</p>\n",
    "\n",
    "![imagen.png](attachment:imagen.png)"
   ]
  },
  {
   "cell_type": "markdown",
   "metadata": {
    "id": "tK8H6qmwuKEU"
   },
   "source": [
    "### Lógicos "
   ]
  },
  {
   "cell_type": "code",
   "execution_count": 17,
   "metadata": {
    "colab": {
     "base_uri": "https://localhost:8080/"
    },
    "executionInfo": {
     "elapsed": 1345,
     "status": "ok",
     "timestamp": 1694209119546,
     "user": {
      "displayName": "Brayan 235",
      "userId": "14891812579283057053"
     },
     "user_tz": 300
    },
    "id": "mbgsSo6qrcHz",
    "outputId": "9f8f699d-79cb-4f13-fdc3-b594f5237b38"
   },
   "outputs": [
    {
     "name": "stdout",
     "output_type": "stream",
     "text": [
      "False\n",
      "True\n",
      "False\n"
     ]
    }
   ],
   "source": [
    "a = 35\n",
    "b = 38\n",
    "c = 35\n",
    "d = \"c\"\n",
    "e = \"a\"\n",
    "\n",
    "print(a>b and d>e)\n",
    "print(a>b or b>c)\n",
    "print(not (a>b or b>c))"
   ]
  },
  {
   "cell_type": "code",
   "execution_count": 18,
   "metadata": {},
   "outputs": [
    {
     "data": {
      "text/plain": [
       "False"
      ]
     },
     "execution_count": 18,
     "metadata": {},
     "output_type": "execute_result"
    }
   ],
   "source": [
    "not True"
   ]
  },
  {
   "cell_type": "markdown",
   "metadata": {
    "id": "kpp9ktyNvKKp"
   },
   "source": [
    "### bitwise"
   ]
  },
  {
   "cell_type": "code",
   "execution_count": 19,
   "metadata": {
    "colab": {
     "base_uri": "https://localhost:8080/"
    },
    "executionInfo": {
     "elapsed": 376,
     "status": "ok",
     "timestamp": 1694208144714,
     "user": {
      "displayName": "Brayan 235",
      "userId": "14891812579283057053"
     },
     "user_tz": 300
    },
    "id": "lEZN7L3an77V",
    "outputId": "9e7c4d8a-2f34-459a-c5b7-993bf01ac652"
   },
   "outputs": [
    {
     "name": "stdout",
     "output_type": "stream",
     "text": [
      "a_bin = 0b1110\n",
      "b_bin = 0b100110\n",
      "\n",
      "(a & b)_bin = 0b110\n",
      "a & b = 6\n"
     ]
    }
   ],
   "source": [
    "#Dados los valores de a y b, cuál sería el resultado de a & b?\n",
    "a = 14\n",
    "b = 38\n",
    "bin_a = bin(a)\n",
    "bin_b = bin(b)\n",
    "\n",
    "print(f\"\\\n",
    "a_bin = {bin_a}\\n\\\n",
    "b_bin = {bin_b}\\n\\n\\\n",
    "(a & b)_bin = {bin(a & b)}\\n\\\n",
    "a & b = {a & b}\")"
   ]
  },
  {
   "cell_type": "code",
   "execution_count": 20,
   "metadata": {},
   "outputs": [
    {
     "data": {
      "text/plain": [
       "True"
      ]
     },
     "execution_count": 20,
     "metadata": {},
     "output_type": "execute_result"
    }
   ],
   "source": [
    "True & True"
   ]
  },
  {
   "cell_type": "code",
   "execution_count": 21,
   "metadata": {},
   "outputs": [
    {
     "data": {
      "text/plain": [
       "6"
      ]
     },
     "execution_count": 21,
     "metadata": {},
     "output_type": "execute_result"
    }
   ],
   "source": [
    "\"\"\"\n",
    "  0 0 1 1 1 0\n",
    "& 1 0 0 1 1 0\n",
    "===============\n",
    "  0 0 0 1 1 0\n",
    "\"\"\"\n",
    "int(\"110\", base=2)"
   ]
  },
  {
   "cell_type": "markdown",
   "metadata": {
    "id": "trgH3NYHwiJM"
   },
   "source": [
    "# Operadores de identidad y pertenencia\n",
    "\n",
    "El operador de identidad es <i>is</i>. Su resultado es un boleano. Indica si dos variables tienen por referencia un mismo objeto, es decir su <i>id()</i> es el mismo.\n",
    "\n",
    "</br>\n",
    "\n",
    "El operador de pertenencia es <i>in</i>. Estos permiten saber si un elemento pertenece a una collección."
   ]
  },
  {
   "cell_type": "markdown",
   "metadata": {
    "id": "XtgjntGVyn2U"
   },
   "source": [
    "### Identidad: <i>is</i>"
   ]
  },
  {
   "cell_type": "code",
   "execution_count": 22,
   "metadata": {
    "colab": {
     "base_uri": "https://localhost:8080/"
    },
    "executionInfo": {
     "elapsed": 258,
     "status": "ok",
     "timestamp": 1694454428901,
     "user": {
      "displayName": "Brayan 235",
      "userId": "14891812579283057053"
     },
     "user_tz": 300
    },
    "id": "4qK2Vv9uymD1",
    "outputId": "9d56b222-f946-4689-a42e-6daffa48b0bc"
   },
   "outputs": [
    {
     "name": "stdout",
     "output_type": "stream",
     "text": [
      "139786021760512\n"
     ]
    },
    {
     "data": {
      "text/plain": [
       "2"
      ]
     },
     "execution_count": 22,
     "metadata": {},
     "output_type": "execute_result"
    }
   ],
   "source": [
    "#En Python, dos o más variables son iguales si tienen el mismo id, pues esto\n",
    "#implica que hacen referencia a un mismo objeto.\n",
    "\n",
    "#Primera asignación\n",
    "int_a = 13\n",
    "int_b = int_a\n",
    "\n",
    "#Segunda asignación\n",
    "lista_a = [1, 2, 3]\n",
    "lista_b = lista_a\n",
    "print(id(lista_a))\n",
    "\n",
    "int_b = int_b + 1\n",
    "lista_b.pop(1)\n"
   ]
  },
  {
   "cell_type": "code",
   "execution_count": 23,
   "metadata": {},
   "outputs": [
    {
     "data": {
      "text/plain": [
       "True"
      ]
     },
     "execution_count": 23,
     "metadata": {},
     "output_type": "execute_result"
    }
   ],
   "source": [
    "id(lista_b)==id(lista_b)"
   ]
  },
  {
   "cell_type": "code",
   "execution_count": 24,
   "metadata": {},
   "outputs": [
    {
     "name": "stdout",
     "output_type": "stream",
     "text": [
      "14 39\n",
      "139786099445232\n"
     ]
    }
   ],
   "source": [
    "b = b + 1\n",
    "print(a, b)\n",
    "print(id(b))"
   ]
  },
  {
   "cell_type": "code",
   "execution_count": 25,
   "metadata": {
    "colab": {
     "base_uri": "https://localhost:8080/"
    },
    "executionInfo": {
     "elapsed": 256,
     "status": "ok",
     "timestamp": 1694454454581,
     "user": {
      "displayName": "Brayan 235",
      "userId": "14891812579283057053"
     },
     "user_tz": 300
    },
    "id": "Ox6AbTXy0HgB",
    "outputId": "861d7168-06b3-4155-cbad-582d87fa8504"
   },
   "outputs": [
    {
     "data": {
      "text/plain": [
       "False"
      ]
     },
     "execution_count": 25,
     "metadata": {},
     "output_type": "execute_result"
    }
   ],
   "source": [
    "#Por qué?\n",
    "c = 13\n",
    "a is c"
   ]
  },
  {
   "cell_type": "markdown",
   "metadata": {
    "id": "aFYi_VGU0fwP"
   },
   "source": [
    "### Pertenencia: <i>in<i/>"
   ]
  },
  {
   "cell_type": "code",
   "execution_count": 26,
   "metadata": {
    "colab": {
     "base_uri": "https://localhost:8080/"
    },
    "executionInfo": {
     "elapsed": 268,
     "status": "ok",
     "timestamp": 1694454406851,
     "user": {
      "displayName": "Brayan 235",
      "userId": "14891812579283057053"
     },
     "user_tz": 300
    },
    "id": "cJgpww8H0mar",
    "outputId": "02655c52-1741-4b76-8f64-187ae85b3a8f"
   },
   "outputs": [
    {
     "name": "stdout",
     "output_type": "stream",
     "text": [
      "True\n",
      "False\n",
      "True\n",
      "False\n",
      "True\n"
     ]
    }
   ],
   "source": [
    "lista = [2, 3, [\"a\", 7], 6, 5]\n",
    "\n",
    "print(3 in lista)\n",
    "print(7 in lista)\n",
    "print([\"a\", 7] in lista)\n",
    "print(lista in lista)\n",
    "print(10 not in lista)"
   ]
  },
  {
   "cell_type": "markdown",
   "metadata": {
    "id": "0Hb00Z_PZ2Xp"
   },
   "source": [
    "<h2>Precedencia de operadores</h2><br>\n",
    "Hace referencia a la prioridad entre operadores, al orden en que se deben ejecutar las operaciones en un expresión. Si no tengo signos de agrupación, ¿Qué opero primero?\n"
   ]
  },
  {
   "cell_type": "markdown",
   "metadata": {
    "id": "KpXSvgKPZ2Xp"
   },
   "source": [
    "![precedencia_operadores2.png](data:image/png;base64,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)"
   ]
  },
  {
   "cell_type": "code",
   "execution_count": 27,
   "metadata": {
    "id": "jdF40lSnZ2Xq"
   },
   "outputs": [
    {
     "data": {
      "text/plain": [
       "True"
      ]
     },
     "execution_count": 27,
     "metadata": {},
     "output_type": "execute_result"
    }
   ],
   "source": [
    "# Ejemplo\n",
    "(10/5) ** 4 > 15 and (8 + 4) == 12\n",
    "#  2**4 > 15 and 12==12\n",
    "#  16 > 15 and 12==12\n",
    "#    True and True\n",
    "#         True"
   ]
  },
  {
   "cell_type": "code",
   "execution_count": null,
   "metadata": {
    "id": "LkM-j-lNZ2Xr"
   },
   "outputs": [],
   "source": []
  }
 ],
 "metadata": {
  "colab": {
   "provenance": []
  },
  "kernelspec": {
   "display_name": "Python 3 (ipykernel)",
   "language": "python",
   "name": "python3"
  },
  "language_info": {
   "codemirror_mode": {
    "name": "ipython",
    "version": 3
   },
   "file_extension": ".py",
   "mimetype": "text/x-python",
   "name": "python",
   "nbconvert_exporter": "python",
   "pygments_lexer": "ipython3",
   "version": "3.9.12"
  }
 },
 "nbformat": 4,
 "nbformat_minor": 1
}
