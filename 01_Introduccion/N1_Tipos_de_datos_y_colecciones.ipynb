{
 "cells": [
  {
   "cell_type": "markdown",
   "metadata": {
    "id": "81BvYrnonfzI"
   },
   "source": [
    "# **Tipos de datos**"
   ]
  },
  {
   "cell_type": "markdown",
   "metadata": {
    "id": "qqXZn0KWYesT"
   },
   "source": [
    "\n",
    "<ul>\n",
    "<li><b>Numéricos:</b> incluye a los números enteros, reales y complejos. Este tipo de datos permiten realizar operaciones aritméticas comunes.</li>\n",
    "\n",
    "<li><b>Lógicos o booleanos:</b> Sólo pueden tener dos valores <b><i>True</i></b> (verdadero) o <b><i>False</i></b> (falso) ya que representan el resultado de una comparación entre otros datos.</li>\n",
    "\n",
    "<li><b>Alfanuméricos (string):</b> Es una secuencia de caracteres alfanuméricos que permiten representar valores identificables de forma descriptiva. Se subdividen en dos:\n",
    "    <ul>\n",
    "        <li><b>Caracter:</b> Es cuando se almacena uno y sólo uno (elemento) del conjunto de caracteres (letras, números y signos especiales). Las comillas no forman parte del carácter, hacen parte de la representación. Ejemplo: “#”, “” , “H” , “7”.</li>\n",
    "        <li><b>Cadena:</b> Es el conjunto de las cadenas de caracteres que se pueden formar a partir de los elementos del conjunto de caracteres (letras, números y signos especiales) que el procesador reconoce.</li>\n",
    "    </ul>\n",
    "    </li>\n",
    "</ul>\n",
    "<br>\n",
    "Python, es un lenguaje de <b><i>tipado dinámico</i></b>. Hay dos formas de tipado:\n",
    "<ol>\n",
    "    <li>Estático</li>\n",
    "    <li>Dinámico</li>\n",
    "</ol>\n",
    "En los lenguajes estáticos, cuando se declara una variable es necesario especificar el tipo (Numérica, Lógica o Alfanumérica) y ese tipo es inalterable. En cambio en lenguajes como Python no es necesario establecer un tipo y además puede cambiar en cualquier momento.<br>\n",
    "En conclusión, <b>las variables en Python</b> adoptan su tipo según el dato que se le asigna."
   ]
  },
  {
   "cell_type": "markdown",
   "metadata": {
    "id": "ZxZ07-zYYesU"
   },
   "source": [
    "<br><br><br>\n",
    "<h1>Variables en Python</h1>\n",
    "<br>\n",
    "Una variable es la que permite almacenar un valor al asignarlo a un nombre el cual puede ser utilizado para referirse al valor más adelante en el programa. Para asignar una variable, se utiliza el signo igual ( $=$ ).<br>\n",
    "Las variables pueden ser reasignadas tantas veces como se quiera para cambiar su valor (Tipado dinámico).\n"
   ]
  },
  {
   "cell_type": "code",
   "execution_count": 1,
   "metadata": {
    "colab": {
     "base_uri": "https://localhost:8080/"
    },
    "id": "udvxHbGBYesV",
    "outputId": "f427f162-fabc-403d-cc84-97061260ea99"
   },
   "outputs": [
    {
     "data": {
      "text/plain": [
       "123"
      ]
     },
     "execution_count": 1,
     "metadata": {},
     "output_type": "execute_result"
    }
   ],
   "source": [
    "# Tipo de dato numérico, ENTERO o INTEGER - int\n",
    "a = 123\n",
    "a"
   ]
  },
  {
   "cell_type": "code",
   "execution_count": 2,
   "metadata": {
    "colab": {
     "base_uri": "https://localhost:8080/"
    },
    "id": "m9fuL6K83vnj",
    "outputId": "7e667836-1031-49e6-abcf-606c3afd11d5"
   },
   "outputs": [
    {
     "data": {
      "text/plain": [
       "int"
      ]
     },
     "execution_count": 2,
     "metadata": {},
     "output_type": "execute_result"
    }
   ],
   "source": [
    "type(a)"
   ]
  },
  {
   "cell_type": "code",
   "execution_count": 3,
   "metadata": {
    "colab": {
     "base_uri": "https://localhost:8080/"
    },
    "id": "mBTHoayCYesW",
    "outputId": "17588025-1794-4295-d518-488b4298993d"
   },
   "outputs": [
    {
     "data": {
      "text/plain": [
       "456789.0"
      ]
     },
     "execution_count": 3,
     "metadata": {},
     "output_type": "execute_result"
    }
   ],
   "source": [
    "# Tipo de dato numérico, DECIMAL o FLOTANTE - float\n",
    "# el separador decimal o punto flotante en Python es el punto (.)\n",
    "b = 456789.0\n",
    "b"
   ]
  },
  {
   "cell_type": "code",
   "execution_count": 4,
   "metadata": {
    "colab": {
     "base_uri": "https://localhost:8080/"
    },
    "id": "bcyJ_L8n3_QK",
    "outputId": "8836a8b1-c39d-4972-ee74-288af8997d05"
   },
   "outputs": [
    {
     "data": {
      "text/plain": [
       "float"
      ]
     },
     "execution_count": 4,
     "metadata": {},
     "output_type": "execute_result"
    }
   ],
   "source": [
    "type(b)"
   ]
  },
  {
   "cell_type": "code",
   "execution_count": 5,
   "metadata": {
    "colab": {
     "base_uri": "https://localhost:8080/"
    },
    "id": "s27cLPWhVigG",
    "outputId": "4a7ec7da-95a4-44c3-a491-e935d780aa1e"
   },
   "outputs": [
    {
     "data": {
      "text/plain": [
       "((4-3j), complex)"
      ]
     },
     "execution_count": 5,
     "metadata": {},
     "output_type": "execute_result"
    }
   ],
   "source": [
    "# Tipo de dato complejo, es formado por do componentes, una real y otra imaginaria.\n",
    "#Usamos una \"j\" al lado del número que será la componente imaginaria.\n",
    "complejo = 4 - 3j\n",
    "complejo, type(complejo)"
   ]
  },
  {
   "cell_type": "code",
   "execution_count": 6,
   "metadata": {
    "colab": {
     "base_uri": "https://localhost:8080/"
    },
    "id": "soSidwPjVyKu",
    "outputId": "2ec9bdca-7c1c-4fee-9b5b-7eddc9604efb"
   },
   "outputs": [
    {
     "data": {
      "text/plain": [
       "-3.0"
      ]
     },
     "execution_count": 6,
     "metadata": {},
     "output_type": "execute_result"
    }
   ],
   "source": [
    "#Se pueden obtener cada componente por separado.\n",
    "complejo.real\n",
    "complejo.imag"
   ]
  },
  {
   "cell_type": "code",
   "execution_count": 7,
   "metadata": {
    "colab": {
     "base_uri": "https://localhost:8080/"
    },
    "id": "5zMuUxSDWFgR",
    "outputId": "b1ae891b-814e-429c-843c-5bb2ef97cc46"
   },
   "outputs": [
    {
     "data": {
      "text/plain": [
       "-3.0"
      ]
     },
     "execution_count": 7,
     "metadata": {},
     "output_type": "execute_result"
    }
   ],
   "source": [
    "#Se pueden obtener cada componente por separado.\n",
    "complejo.imag"
   ]
  },
  {
   "cell_type": "code",
   "execution_count": 8,
   "metadata": {
    "colab": {
     "base_uri": "https://localhost:8080/",
     "height": 35
    },
    "id": "bzzrKlWqYesX",
    "outputId": "05c92bdd-0469-4e9c-c1cd-5fd8b8a24cb1"
   },
   "outputs": [
    {
     "data": {
      "text/plain": [
       "'Hola mundo  35 #'"
      ]
     },
     "execution_count": 8,
     "metadata": {},
     "output_type": "execute_result"
    }
   ],
   "source": [
    "# Tipo de dato CADENA o STRING - str\n",
    "c = 'Hola mundo  35 #'\n",
    "c"
   ]
  },
  {
   "cell_type": "code",
   "execution_count": 9,
   "metadata": {
    "colab": {
     "base_uri": "https://localhost:8080/"
    },
    "id": "KFhOx-CgWcS8",
    "outputId": "ff696c2c-c99a-44ed-abd1-4a71e4b11708"
   },
   "outputs": [
    {
     "data": {
      "text/plain": [
       "str"
      ]
     },
     "execution_count": 9,
     "metadata": {},
     "output_type": "execute_result"
    }
   ],
   "source": [
    "type(c)"
   ]
  },
  {
   "cell_type": "code",
   "execution_count": 10,
   "metadata": {
    "colab": {
     "base_uri": "https://localhost:8080/"
    },
    "id": "MPcQlHZlYesX",
    "outputId": "63707563-daf3-439c-fd57-b3b77a197db4"
   },
   "outputs": [
    {
     "data": {
      "text/plain": [
       "True"
      ]
     },
     "execution_count": 10,
     "metadata": {},
     "output_type": "execute_result"
    }
   ],
   "source": [
    "# Tipo de dato LÓGICO O BOOLEAN - bool\n",
    "d = True # verdadero\n",
    "d"
   ]
  },
  {
   "cell_type": "code",
   "execution_count": 11,
   "metadata": {
    "colab": {
     "base_uri": "https://localhost:8080/"
    },
    "id": "GTjV-XnEYesX",
    "outputId": "9d6df5cf-5fd4-4cf0-9fc0-b055fe2e958b"
   },
   "outputs": [
    {
     "data": {
      "text/plain": [
       "False"
      ]
     },
     "execution_count": 11,
     "metadata": {},
     "output_type": "execute_result"
    }
   ],
   "source": [
    "dd = False # falso\n",
    "dd"
   ]
  },
  {
   "cell_type": "code",
   "execution_count": 12,
   "metadata": {
    "colab": {
     "base_uri": "https://localhost:8080/"
    },
    "id": "dL_5TGGhXP6z",
    "outputId": "f645e32a-54db-487d-bfce-741c4a32dbed"
   },
   "outputs": [
    {
     "data": {
      "text/plain": [
       "3"
      ]
     },
     "execution_count": 12,
     "metadata": {},
     "output_type": "execute_result"
    }
   ],
   "source": [
    "#True y False se pueden usar como los números 1 y 0 respectivamente.\n",
    "True + True + True + False"
   ]
  },
  {
   "cell_type": "code",
   "execution_count": 13,
   "metadata": {
    "id": "rlVCcKpd59xz"
   },
   "outputs": [],
   "source": [
    "#Comentario de una sola linea\n",
    "\"\"\"\n",
    "Esto es un\n",
    "comentario de\n",
    "más de\n",
    "una sola\n",
    "linea\n",
    "\"\"\"\n",
    "a = 2"
   ]
  },
  {
   "cell_type": "markdown",
   "metadata": {
    "id": "OVh6UmF0YesY"
   },
   "source": [
    "# Nombres de variables\n",
    "\n",
    "1. Solo se pueden usar letras, número y el símbolo guión bajo o raya al piso (underscore)\n",
    "2. Nunca el primer caracter de la variable puede ser un número.\n",
    "\n",
    "Los estándares de nombrado de variables y más características del lenguaje son dados por el PEP8 de Python <a href=\"https://www.python.org/dev/peps/pep-0008/#naming-conventions\" target=\"_blank\">Link</a>"
   ]
  },
  {
   "cell_type": "code",
   "execution_count": 14,
   "metadata": {
    "id": "F3t_TUxb8Ydr"
   },
   "outputs": [],
   "source": [
    "#int, float, True, False.... int, float, True, False....\n",
    "#NombreDeVariableValido"
   ]
  },
  {
   "cell_type": "code",
   "execution_count": 15,
   "metadata": {
    "id": "tyxdatZWYesY"
   },
   "outputs": [
    {
     "data": {
      "text/plain": [
       "'Variable válida'"
      ]
     },
     "execution_count": 15,
     "metadata": {},
     "output_type": "execute_result"
    }
   ],
   "source": [
    "nombre_de_variable_valido = 'Variable válida'\n",
    "nombre_de_variable_valido"
   ]
  },
  {
   "cell_type": "code",
   "execution_count": 16,
   "metadata": {
    "colab": {
     "base_uri": "https://localhost:8080/",
     "height": 142
    },
    "id": "Y81qdSzHYesZ",
    "outputId": "dc24d24b-5aba-4e5f-a325-0d63b06cff41"
   },
   "outputs": [
    {
     "ename": "SyntaxError",
     "evalue": "invalid syntax (1375255212.py, line 1)",
     "output_type": "error",
     "traceback": [
      "\u001b[0;36m  Input \u001b[0;32mIn [16]\u001b[0;36m\u001b[0m\n\u001b[0;31m    variables con espacios = 'Variable string'\u001b[0m\n\u001b[0m              ^\u001b[0m\n\u001b[0;31mSyntaxError\u001b[0m\u001b[0;31m:\u001b[0m invalid syntax\n"
     ]
    }
   ],
   "source": [
    "variables con espacios = 'Variable string'"
   ]
  },
  {
   "cell_type": "code",
   "execution_count": 17,
   "metadata": {
    "id": "ZYtcgEjjYesZ"
   },
   "outputs": [
    {
     "ename": "SyntaxError",
     "evalue": "invalid syntax (4075443392.py, line 1)",
     "output_type": "error",
     "traceback": [
      "\u001b[0;36m  Input \u001b[0;32mIn [17]\u001b[0;36m\u001b[0m\n\u001b[0;31m    123Variable_con_numeros = 'Pythonistas'\u001b[0m\n\u001b[0m       ^\u001b[0m\n\u001b[0;31mSyntaxError\u001b[0m\u001b[0;31m:\u001b[0m invalid syntax\n"
     ]
    }
   ],
   "source": [
    "123Variable_con_numeros = 'Pythonistas'"
   ]
  },
  {
   "cell_type": "code",
   "execution_count": 18,
   "metadata": {
    "id": "N2q9AUACYesZ"
   },
   "outputs": [],
   "source": [
    "# VARIABLES VÁLIDAS\n",
    "variable_ = 3.141592\n",
    "\n",
    "VARIABLE = 'MAYÚSCULAS'\n",
    "\n",
    "_variables = 'Underscore'\n",
    "\n",
    "_prueba_ = True\n",
    "\n",
    "Var123 = 'Variables con números, mayúsculas y minúsculas.'"
   ]
  },
  {
   "cell_type": "code",
   "execution_count": 19,
   "metadata": {
    "id": "ThF1JOvEYesa"
   },
   "outputs": [],
   "source": [
    "variable = 'Hola mundo'\n",
    "\n",
    "VARIABLE = 'Constante'\n",
    "\n",
    "variable_minusculas_con_guion_bajo = 123\n",
    "\n",
    "VARIABLES_MAYUSCULAS_CON_GUION_BAJO = 456\n",
    "\n",
    "VariableName = 'CapWords o CamelCase'\n",
    "\n",
    "nombreVariable = 'mixedCase style'"
   ]
  },
  {
   "cell_type": "markdown",
   "metadata": {
    "id": "q2NaFvqCYesa"
   },
   "source": [
    "<h1>Conversión de tipos</h1>\n",
    "Ya vimos que existen diferentes tipos datos y con cada uno de ellos se pueden hacer operaciones específicas. Pero, ¿Qué pasa si tengo número entre comillas y los necesito para hacer operaciones aritméticas? ¿Cómo se manejan estos casos? Para esto Python tiene implementado funciones para hacer estas conversiones."
   ]
  },
  {
   "cell_type": "markdown",
   "metadata": {
    "id": "rLGEdvVHYesa"
   },
   "source": [
    "#### Convertir a entero \n",
    "Para convertir una variable al tipo entero se utiliza la función $int()$."
   ]
  },
  {
   "cell_type": "code",
   "execution_count": 20,
   "metadata": {
    "colab": {
     "base_uri": "https://localhost:8080/"
    },
    "id": "ayckOEyW_bSL",
    "outputId": "1afe1f1e-ba53-4b5e-a16a-56af10cb5bf6"
   },
   "outputs": [
    {
     "data": {
      "text/plain": [
       "int"
      ]
     },
     "execution_count": 20,
     "metadata": {},
     "output_type": "execute_result"
    }
   ],
   "source": [
    "numero = \"  5      \"\n",
    "type(int(numero))"
   ]
  },
  {
   "cell_type": "code",
   "execution_count": 21,
   "metadata": {
    "colab": {
     "base_uri": "https://localhost:8080/"
    },
    "id": "oc52BuzFYesa",
    "outputId": "76ce2f69-45e0-4654-9de2-e34c06f2143a"
   },
   "outputs": [
    {
     "data": {
      "text/plain": [
       "5"
      ]
     },
     "execution_count": 21,
     "metadata": {},
     "output_type": "execute_result"
    }
   ],
   "source": [
    "int(\"2\") + int(\"3\")"
   ]
  },
  {
   "cell_type": "code",
   "execution_count": 22,
   "metadata": {
    "colab": {
     "base_uri": "https://localhost:8080/"
    },
    "id": "pGP6mQ3XYesa",
    "outputId": "c5bc5d05-97df-4239-b1df-2766f084fc8e"
   },
   "outputs": [
    {
     "data": {
      "text/plain": [
       "-1"
      ]
     },
     "execution_count": 22,
     "metadata": {},
     "output_type": "execute_result"
    }
   ],
   "source": [
    "2 - int(\"3\")"
   ]
  },
  {
   "cell_type": "markdown",
   "metadata": {},
   "source": [
    "Si se va a convertir un decimal a entero la función <i>int()</i> solo tomará la parte entera."
   ]
  },
  {
   "cell_type": "code",
   "execution_count": 23,
   "metadata": {
    "colab": {
     "base_uri": "https://localhost:8080/"
    },
    "id": "7tyZ2cntYesa",
    "outputId": "810c022e-31b9-437e-eac9-0e7960a1d73c"
   },
   "outputs": [
    {
     "data": {
      "text/plain": [
       "2"
      ]
     },
     "execution_count": 23,
     "metadata": {},
     "output_type": "execute_result"
    }
   ],
   "source": [
    "int(2.94)"
   ]
  },
  {
   "cell_type": "markdown",
   "metadata": {
    "id": "9VNUEBXyYesb"
   },
   "source": [
    "Para poder hacer la conversión con la función $int()$ se debe garantizar que los carateres que están dentro de las comillas tengan su equivalencia numérica, en caso contrario Python arrojará error en esta instrucción del algoritmo."
   ]
  },
  {
   "cell_type": "code",
   "execution_count": 24,
   "metadata": {
    "colab": {
     "base_uri": "https://localhost:8080/",
     "height": 177
    },
    "id": "kclJCGhxYesb",
    "outputId": "47441269-e0cf-424d-9f56-0fccd454d665"
   },
   "outputs": [
    {
     "ename": "ValueError",
     "evalue": "invalid literal for int() with base 10: 'Python'",
     "output_type": "error",
     "traceback": [
      "\u001b[0;31m---------------------------------------------------------------------------\u001b[0m",
      "\u001b[0;31mValueError\u001b[0m                                Traceback (most recent call last)",
      "Input \u001b[0;32mIn [24]\u001b[0m, in \u001b[0;36m<cell line: 1>\u001b[0;34m()\u001b[0m\n\u001b[0;32m----> 1\u001b[0m \u001b[38;5;28;43mint\u001b[39;49m\u001b[43m(\u001b[49m\u001b[38;5;124;43m'\u001b[39;49m\u001b[38;5;124;43mPython\u001b[39;49m\u001b[38;5;124;43m'\u001b[39;49m\u001b[43m)\u001b[49m\n",
      "\u001b[0;31mValueError\u001b[0m: invalid literal for int() with base 10: 'Python'"
     ]
    }
   ],
   "source": [
    "int('Python')"
   ]
  },
  {
   "cell_type": "code",
   "execution_count": 25,
   "metadata": {
    "colab": {
     "base_uri": "https://localhost:8080/",
     "height": 195
    },
    "id": "VC633F5AYesb",
    "outputId": "220fd02c-c673-4b73-b50d-15a723a92878"
   },
   "outputs": [
    {
     "ename": "TypeError",
     "evalue": "can only concatenate str (not \"int\") to str",
     "output_type": "error",
     "traceback": [
      "\u001b[0;31m---------------------------------------------------------------------------\u001b[0m",
      "\u001b[0;31mTypeError\u001b[0m                                 Traceback (most recent call last)",
      "Input \u001b[0;32mIn [25]\u001b[0m, in \u001b[0;36m<cell line: 2>\u001b[0;34m()\u001b[0m\n\u001b[1;32m      1\u001b[0m a \u001b[38;5;241m=\u001b[39m \u001b[38;5;124m'\u001b[39m\u001b[38;5;124m5\u001b[39m\u001b[38;5;124m'\u001b[39m\n\u001b[0;32m----> 2\u001b[0m \u001b[43ma\u001b[49m\u001b[43m \u001b[49m\u001b[38;5;241;43m+\u001b[39;49m\u001b[43m \u001b[49m\u001b[38;5;241;43m4\u001b[39;49m\n",
      "\u001b[0;31mTypeError\u001b[0m: can only concatenate str (not \"int\") to str"
     ]
    }
   ],
   "source": [
    "a = '5'\n",
    "a + 4"
   ]
  },
  {
   "cell_type": "markdown",
   "metadata": {
    "id": "1NTpTtd2Yesb"
   },
   "source": [
    "#### Convertir a flotante\n",
    "Para convertir una variable al tipo flotante se utiliza la función $float()$."
   ]
  },
  {
   "cell_type": "code",
   "execution_count": 26,
   "metadata": {
    "colab": {
     "base_uri": "https://localhost:8080/"
    },
    "id": "lt5Xq9e-Yesb",
    "outputId": "6e20b33c-46e0-4cdc-8517-108d8e29b2fe"
   },
   "outputs": [
    {
     "data": {
      "text/plain": [
       "15.0"
      ]
     },
     "execution_count": 26,
     "metadata": {},
     "output_type": "execute_result"
    }
   ],
   "source": [
    "float(15)"
   ]
  },
  {
   "cell_type": "code",
   "execution_count": 27,
   "metadata": {
    "colab": {
     "base_uri": "https://localhost:8080/"
    },
    "id": "LbkOukqGYesc",
    "outputId": "a22cecdd-aeeb-4b5c-db6d-1e5329b2186a"
   },
   "outputs": [
    {
     "data": {
      "text/plain": [
       "2.5"
      ]
     },
     "execution_count": 27,
     "metadata": {},
     "output_type": "execute_result"
    }
   ],
   "source": [
    "float(\"2.5 \")"
   ]
  },
  {
   "cell_type": "markdown",
   "metadata": {
    "id": "d-Zh5usIYesc"
   },
   "source": [
    "Igual que con el uso de la función $int()$, si con la función $float()$ se intenta convertir caracteres que no tienen equivalencia numérica, Python arrojará error."
   ]
  },
  {
   "cell_type": "code",
   "execution_count": 28,
   "metadata": {
    "id": "hl1zZsSjYesc"
   },
   "outputs": [
    {
     "ename": "ValueError",
     "evalue": "could not convert string to float: 'Python'",
     "output_type": "error",
     "traceback": [
      "\u001b[0;31m---------------------------------------------------------------------------\u001b[0m",
      "\u001b[0;31mValueError\u001b[0m                                Traceback (most recent call last)",
      "Input \u001b[0;32mIn [28]\u001b[0m, in \u001b[0;36m<cell line: 1>\u001b[0;34m()\u001b[0m\n\u001b[0;32m----> 1\u001b[0m \u001b[38;5;28;43mfloat\u001b[39;49m\u001b[43m(\u001b[49m\u001b[38;5;124;43m\"\u001b[39;49m\u001b[38;5;124;43mPython\u001b[39;49m\u001b[38;5;124;43m\"\u001b[39;49m\u001b[43m)\u001b[49m\n",
      "\u001b[0;31mValueError\u001b[0m: could not convert string to float: 'Python'"
     ]
    }
   ],
   "source": [
    "float(\"Python\")"
   ]
  },
  {
   "cell_type": "markdown",
   "metadata": {
    "id": "oDNcY8FhYesc"
   },
   "source": [
    "#### Convertir a string.\n",
    "Para convertir una variable al tipo string/cadena se utiliza la función $str()$. Si el argumento de $str()$ no es numérico este debe estar entre comillas. Cualquier caracter se puede convertir a este tipo."
   ]
  },
  {
   "cell_type": "code",
   "execution_count": 29,
   "metadata": {
    "colab": {
     "base_uri": "https://localhost:8080/",
     "height": 35
    },
    "id": "0Vno0Ej_Yesc",
    "outputId": "62aee5de-4338-44c7-ec29-b3831b209b23"
   },
   "outputs": [
    {
     "data": {
      "text/plain": [
       "'5'"
      ]
     },
     "execution_count": 29,
     "metadata": {},
     "output_type": "execute_result"
    }
   ],
   "source": [
    "str(5)"
   ]
  },
  {
   "cell_type": "code",
   "execution_count": 30,
   "metadata": {},
   "outputs": [
    {
     "data": {
      "text/plain": [
       "'@'"
      ]
     },
     "execution_count": 30,
     "metadata": {},
     "output_type": "execute_result"
    }
   ],
   "source": [
    "str(\"@\")"
   ]
  },
  {
   "cell_type": "code",
   "execution_count": 31,
   "metadata": {},
   "outputs": [
    {
     "data": {
      "text/plain": [
       "'123.45'"
      ]
     },
     "execution_count": 31,
     "metadata": {},
     "output_type": "execute_result"
    }
   ],
   "source": [
    "str(123.45)"
   ]
  },
  {
   "cell_type": "code",
   "execution_count": 32,
   "metadata": {},
   "outputs": [
    {
     "data": {
      "text/plain": [
       "'Este es un curso de ML'"
      ]
     },
     "execution_count": 32,
     "metadata": {},
     "output_type": "execute_result"
    }
   ],
   "source": [
    "str(\"Este es un curso de ML\")"
   ]
  },
  {
   "cell_type": "markdown",
   "metadata": {
    "id": "6r-OidT-Yesd"
   },
   "source": [
    "### Nota\n",
    "Las funciones para convertir los tipos de variable de Python convierten solo el valor de la variable, no la variable, es decir, la variable no cambia durante la conversión."
   ]
  },
  {
   "cell_type": "code",
   "execution_count": 33,
   "metadata": {
    "colab": {
     "base_uri": "https://localhost:8080/"
    },
    "id": "oONRcWDWYesd",
    "outputId": "78622c28-3907-4d17-9240-f69e77ce01de"
   },
   "outputs": [
    {
     "data": {
      "text/plain": [
       "68"
      ]
     },
     "execution_count": 33,
     "metadata": {},
     "output_type": "execute_result"
    }
   ],
   "source": [
    "m = \" 23\"\n",
    "n = \"45 \"\n",
    "int(m) + int(n)"
   ]
  },
  {
   "cell_type": "code",
   "execution_count": 34,
   "metadata": {
    "colab": {
     "base_uri": "https://localhost:8080/",
     "height": 35
    },
    "id": "HVrppvwcYesd",
    "outputId": "36339cc9-7b27-4f37-d702-eb4e114d9f6f"
   },
   "outputs": [
    {
     "data": {
      "text/plain": [
       "' 2345 '"
      ]
     },
     "execution_count": 34,
     "metadata": {},
     "output_type": "execute_result"
    }
   ],
   "source": [
    "m + n"
   ]
  },
  {
   "cell_type": "code",
   "execution_count": 35,
   "metadata": {
    "colab": {
     "base_uri": "https://localhost:8080/"
    },
    "id": "kAl3o0doYesd",
    "outputId": "cbe0e9e4-e411-47af-e8b7-d7a95b1a715a"
   },
   "outputs": [
    {
     "data": {
      "text/plain": [
       "(str, str)"
      ]
     },
     "execution_count": 35,
     "metadata": {},
     "output_type": "execute_result"
    }
   ],
   "source": [
    "type(m), type(n)"
   ]
  },
  {
   "cell_type": "markdown",
   "metadata": {
    "id": "lvsXZROpYesd"
   },
   "source": [
    "#### La función $type()$\n",
    "La función $type()$ retorna el tipo de variable dado."
   ]
  },
  {
   "cell_type": "code",
   "execution_count": 36,
   "metadata": {
    "id": "0kxdnqYTYesd"
   },
   "outputs": [
    {
     "data": {
      "text/plain": [
       "int"
      ]
     },
     "execution_count": 36,
     "metadata": {},
     "output_type": "execute_result"
    }
   ],
   "source": [
    "a = 123\n",
    "type(a)"
   ]
  },
  {
   "cell_type": "code",
   "execution_count": 37,
   "metadata": {
    "colab": {
     "base_uri": "https://localhost:8080/"
    },
    "id": "69IB64oGYesd",
    "outputId": "7a5b8c46-887b-4147-b955-c3334b909557"
   },
   "outputs": [
    {
     "data": {
      "text/plain": [
       "str"
      ]
     },
     "execution_count": 37,
     "metadata": {},
     "output_type": "execute_result"
    }
   ],
   "source": [
    "b = 'Hola mundo!!!'\n",
    "type(b)"
   ]
  },
  {
   "cell_type": "code",
   "execution_count": 38,
   "metadata": {
    "id": "-IaMn8zUYesd"
   },
   "outputs": [
    {
     "data": {
      "text/plain": [
       "bool"
      ]
     },
     "execution_count": 38,
     "metadata": {},
     "output_type": "execute_result"
    }
   ],
   "source": [
    "c = False\n",
    "type(c)"
   ]
  },
  {
   "cell_type": "markdown",
   "metadata": {
    "id": "9ef-eP63dR2n"
   },
   "source": [
    "<h1>Manejo del tipo $str$</h1>\n",
    "\n",
    "Aprender el manejo de los datos de tipo $str$ es fundamental para poder manejar cadenas de carácteres. Estos procedimientos se harán especialmente relevantes para el manejo de los tipos de datos cuando se trabaje con $DataFrames$ y $Series$ de Pandas.\n"
   ]
  },
  {
   "cell_type": "code",
   "execution_count": 39,
   "metadata": {
    "id": "GLi3YvHodk6G"
   },
   "outputs": [],
   "source": [
    "# Un str o cadena de texto se crea escribiendo entre comillas.\n",
    "texto = \"hola mundo, me llamo Juanito \""
   ]
  },
  {
   "cell_type": "code",
   "execution_count": 40,
   "metadata": {
    "id": "MSCdH3IPk3F2"
   },
   "outputs": [
    {
     "data": {
      "text/plain": [
       "'a'"
      ]
     },
     "execution_count": 40,
     "metadata": {},
     "output_type": "execute_result"
    }
   ],
   "source": [
    "# Un elemento de la cadena\n",
    "texto[3]"
   ]
  },
  {
   "cell_type": "code",
   "execution_count": 41,
   "metadata": {
    "id": "da9cCVw_iYM-"
   },
   "outputs": [
    {
     "data": {
      "text/plain": [
       "29"
      ]
     },
     "execution_count": 41,
     "metadata": {},
     "output_type": "execute_result"
    }
   ],
   "source": [
    "# La longitud total de la cadena de texto\n",
    "len(texto)"
   ]
  },
  {
   "cell_type": "code",
   "execution_count": 42,
   "metadata": {
    "id": "5ygIPtS-fg8q"
   },
   "outputs": [
    {
     "data": {
      "text/plain": [
       "'Hola mundo, me llamo juanito '"
      ]
     },
     "execution_count": 42,
     "metadata": {},
     "output_type": "execute_result"
    }
   ],
   "source": [
    "# Todas las primeras letras entre espacios con mayúscula\n",
    "texto.capitalize()"
   ]
  },
  {
   "cell_type": "code",
   "execution_count": 43,
   "metadata": {
    "id": "UeCBcrAyhZsi"
   },
   "outputs": [
    {
     "data": {
      "text/plain": [
       "'Hola Mundo, Me Llamo Juanito '"
      ]
     },
     "execution_count": 43,
     "metadata": {},
     "output_type": "execute_result"
    }
   ],
   "source": [
    "# Sólo la primera con mayúsculas.\n",
    "texto.title()"
   ]
  },
  {
   "cell_type": "code",
   "execution_count": 44,
   "metadata": {
    "id": "MaLMfH2ShneY"
   },
   "outputs": [
    {
     "data": {
      "text/plain": [
       "4"
      ]
     },
     "execution_count": 44,
     "metadata": {},
     "output_type": "execute_result"
    }
   ],
   "source": [
    "# Número de apariciones de un caracter en la cadena de texto\n",
    "texto.count(\"o\")"
   ]
  },
  {
   "cell_type": "code",
   "execution_count": 45,
   "metadata": {
    "id": "gqcDWm-whs4Q"
   },
   "outputs": [
    {
     "data": {
      "text/plain": [
       "'hola mundo, me llamo Juanito '"
      ]
     },
     "execution_count": 45,
     "metadata": {},
     "output_type": "execute_result"
    }
   ],
   "source": [
    "# Centrar el texto\n",
    "texto.center(29)"
   ]
  },
  {
   "cell_type": "code",
   "execution_count": 46,
   "metadata": {
    "id": "5zQ817j9h-e0"
   },
   "outputs": [
    {
     "data": {
      "text/plain": [
       "'hola mundo, me llamo juanito '"
      ]
     },
     "execution_count": 46,
     "metadata": {},
     "output_type": "execute_result"
    }
   ],
   "source": [
    "# Todo en minúsculas\n",
    "texto.casefold()"
   ]
  },
  {
   "cell_type": "code",
   "execution_count": 47,
   "metadata": {
    "id": "H5RKl7ETjS6h"
   },
   "outputs": [
    {
     "data": {
      "text/plain": [
       "False"
      ]
     },
     "execution_count": 47,
     "metadata": {},
     "output_type": "execute_result"
    }
   ],
   "source": [
    "# La cadena acaba con una determinada secuencia de caracteres\n",
    "texto.endswith(\"n\")"
   ]
  },
  {
   "cell_type": "code",
   "execution_count": 48,
   "metadata": {
    "id": "4chBeAz1lhZq"
   },
   "outputs": [
    {
     "data": {
      "text/plain": [
       "2"
      ]
     },
     "execution_count": 48,
     "metadata": {},
     "output_type": "execute_result"
    }
   ],
   "source": [
    "# Indice de la primera aparición de un caracter\n",
    "texto.find(\"l\")"
   ]
  },
  {
   "cell_type": "code",
   "execution_count": 49,
   "metadata": {
    "id": "6EP5HB4clpcb"
   },
   "outputs": [
    {
     "data": {
      "text/plain": [
       "2"
      ]
     },
     "execution_count": 49,
     "metadata": {},
     "output_type": "execute_result"
    }
   ],
   "source": [
    "# Indice de la primera aparición de un caracter\n",
    "texto.index(\"l\")"
   ]
  },
  {
   "cell_type": "code",
   "execution_count": 50,
   "metadata": {
    "id": "A8CeFhKXnusb"
   },
   "outputs": [
    {
     "data": {
      "text/plain": [
       "16"
      ]
     },
     "execution_count": 50,
     "metadata": {},
     "output_type": "execute_result"
    }
   ],
   "source": [
    "# igual que .find() pero busca de derecha a izquierda\n",
    "texto.rfind(\"l\")"
   ]
  },
  {
   "cell_type": "code",
   "execution_count": 51,
   "metadata": {
    "id": "Oexk0aGAl_0a"
   },
   "outputs": [],
   "source": [
    "# Ejercicio\n",
    "# Cuál es la diferencia entre str.find() y str.index()?"
   ]
  },
  {
   "cell_type": "code",
   "execution_count": 52,
   "metadata": {
    "id": "_iuYoYKVmOPl"
   },
   "outputs": [
    {
     "data": {
      "text/plain": [
       "False"
      ]
     },
     "execution_count": 52,
     "metadata": {},
     "output_type": "execute_result"
    }
   ],
   "source": [
    "# Métodos para corroborar si todos los caracteres de la cadena pertenecen a algún tipo en especial.\n",
    "texto.isalnum()"
   ]
  },
  {
   "cell_type": "code",
   "execution_count": 53,
   "metadata": {
    "id": "vuT7M0A-mSBL"
   },
   "outputs": [
    {
     "data": {
      "text/plain": [
       "True"
      ]
     },
     "execution_count": 53,
     "metadata": {},
     "output_type": "execute_result"
    }
   ],
   "source": [
    "\"Hola\".isalpha()"
   ]
  },
  {
   "cell_type": "code",
   "execution_count": 54,
   "metadata": {
    "id": "nmVxFQfcmcGE"
   },
   "outputs": [
    {
     "data": {
      "text/plain": [
       "True"
      ]
     },
     "execution_count": 54,
     "metadata": {},
     "output_type": "execute_result"
    }
   ],
   "source": [
    "texto.isprintable()"
   ]
  },
  {
   "cell_type": "code",
   "execution_count": 55,
   "metadata": {
    "id": "-sUGXsmum2En"
   },
   "outputs": [
    {
     "data": {
      "text/plain": [
       "'HolaJuanyCamila'"
      ]
     },
     "execution_count": 55,
     "metadata": {},
     "output_type": "execute_result"
    }
   ],
   "source": [
    "# Une los elementos en la tupla dada con el caracter indicado al principio de la sentencia.\n",
    "\"\".join((\"Hola\",\"Juan\", \"y\", \"Camila\"))"
   ]
  },
  {
   "cell_type": "code",
   "execution_count": 56,
   "metadata": {
    "id": "oDbGmFwcnZrh"
   },
   "outputs": [
    {
     "data": {
      "text/plain": [
       "'hola mundo, me llamo Juanito '"
      ]
     },
     "execution_count": 56,
     "metadata": {},
     "output_type": "execute_result"
    }
   ],
   "source": [
    "# Reemplazar un caracter por otro\n",
    "texto.replace(\"Brayan\", \"Juan\")"
   ]
  },
  {
   "cell_type": "code",
   "execution_count": 57,
   "metadata": {
    "id": "-ZBbj1MsoPPT"
   },
   "outputs": [
    {
     "data": {
      "text/plain": [
       "['hola', 'mundo,', 'me', 'llamo', 'Juanito']"
      ]
     },
     "execution_count": 57,
     "metadata": {},
     "output_type": "execute_result"
    }
   ],
   "source": [
    "# Dividir el string usando algún divvisor en especial\n",
    "texto.split()"
   ]
  },
  {
   "cell_type": "code",
   "execution_count": 58,
   "metadata": {
    "id": "eDCqLsRdpV3f"
   },
   "outputs": [],
   "source": [
    "# Ejercicio\n",
    "# Cambiar los espacios en la variable \"texto\" por guiones medios."
   ]
  },
  {
   "cell_type": "code",
   "execution_count": 59,
   "metadata": {
    "id": "2VoGLBtQkkTb"
   },
   "outputs": [
    {
     "data": {
      "text/plain": [
       "'Hola Brayan!'"
      ]
     },
     "execution_count": 59,
     "metadata": {},
     "output_type": "execute_result"
    }
   ],
   "source": [
    "# Strings con formato\n",
    "txt = \"Hola {nombre}!\"\n",
    "txt.format(nombre = \"Brayan\")"
   ]
  },
  {
   "cell_type": "markdown",
   "metadata": {
    "id": "1IRDVUR1o8cS"
   },
   "source": [
    "<h1>Colecciones de datos: listas, tuplas y diccionarios</h1>\n",
    "<p>Las estructuras básicas para almacener datos en python son las listas, las tuplas y los diccionarios. </p>\n",
    "\n",
    "<p> En el <a src=\"https://docs.python.org/3/tutorial/datastructures.html\">enlace</a> se puede encontrar la documentación básica de estas estructuras.</p>"
   ]
  },
  {
   "cell_type": "markdown",
   "metadata": {
    "id": "wcIuatGoA9Aq"
   },
   "source": [
    "<h3>Listas</h3>\n",
    "<p>Las listas (<a src=\"https://python-reference.readthedocs.io/en/latest/docs/list/\">más info</a>) son estructuras de datos que permiten modificar su longitud y son <i>iterables</i> lo que significa que se puede acceder a sus elementos mediante indexación, también es posible cambiar sus elementos. Además de esto, una lista puede contener cualquier tipo de objeto, incluso otras listas. Veamos algunos métodos básicos:</p>"
   ]
  },
  {
   "cell_type": "code",
   "execution_count": 60,
   "metadata": {},
   "outputs": [
    {
     "data": {
      "text/plain": [
       "([2, 3, 5, 7, 11], [2, 3, 5, 7, 11])"
      ]
     },
     "execution_count": 60,
     "metadata": {},
     "output_type": "execute_result"
    }
   ],
   "source": [
    "a = [2, 3, 5, 7]\n",
    "b = a\n",
    "\n",
    "b.append(11)\n",
    "a, b"
   ]
  },
  {
   "cell_type": "code",
   "execution_count": 61,
   "metadata": {
    "colab": {
     "base_uri": "https://localhost:8080/"
    },
    "id": "Q0Rjns81pCV6",
    "outputId": "d96d9f43-6d05-4aac-ec79-3aa27a3c488e"
   },
   "outputs": [
    {
     "data": {
      "text/plain": [
       "[1, 2, 'a', 'hola', 'buuu']"
      ]
     },
     "execution_count": 61,
     "metadata": {},
     "output_type": "execute_result"
    }
   ],
   "source": [
    "# Las listas se definen entre corchetes\n",
    "lista = [1, 2, \"a\", \"hola\", \"buuu\"]\n",
    "lista"
   ]
  },
  {
   "cell_type": "code",
   "execution_count": 62,
   "metadata": {
    "colab": {
     "base_uri": "https://localhost:8080/"
    },
    "id": "y32wCPRDqjSo",
    "outputId": "7c1949fc-7587-491f-cbdc-8ee1d44b3c23"
   },
   "outputs": [
    {
     "data": {
      "text/plain": [
       "5"
      ]
     },
     "execution_count": 62,
     "metadata": {},
     "output_type": "execute_result"
    }
   ],
   "source": [
    "# Con len() también se puede conocer la longitud de una lista\n",
    "len(lista)"
   ]
  },
  {
   "cell_type": "markdown",
   "metadata": {
    "id": "ia5cIGKRGwxh"
   },
   "source": [
    "Métodos que modifican la longitud de una lista, ya sea adhiriendo o removiendo elementos"
   ]
  },
  {
   "cell_type": "code",
   "execution_count": 63,
   "metadata": {
    "colab": {
     "base_uri": "https://localhost:8080/"
    },
    "id": "OuecK3tuqlBq",
    "outputId": "f9685691-acd2-4c72-b175-4f2f6b5c1086"
   },
   "outputs": [
    {
     "data": {
      "text/plain": [
       "[1, 2, 'a', 'hola', 'buuu', '2']"
      ]
     },
     "execution_count": 63,
     "metadata": {},
     "output_type": "execute_result"
    }
   ],
   "source": [
    "# list.append(item) inserta un elemento (item) al final de la lista\n",
    "# Es equivalente a lista[len(lista):] = [2]\n",
    "lista.append(\"2\")\n",
    "lista"
   ]
  },
  {
   "cell_type": "code",
   "execution_count": 64,
   "metadata": {
    "colab": {
     "base_uri": "https://localhost:8080/"
    },
    "id": "mfOwZIC_HKZg",
    "outputId": "08ecb1f3-1344-4c12-eac3-08b3da53d445"
   },
   "outputs": [
    {
     "data": {
      "text/plain": [
       "[1, 2, 'a', 'nuevo', 'hola', 'buuu', '2']"
      ]
     },
     "execution_count": 64,
     "metadata": {},
     "output_type": "execute_result"
    }
   ],
   "source": [
    "# list.insert(i, x) inserta un elemento x en la posición i\n",
    "# Es equivalente a lista[len(lista):] = [2]\n",
    "lista.insert(3, \"nuevo\")\n",
    "lista"
   ]
  },
  {
   "cell_type": "code",
   "execution_count": 65,
   "metadata": {
    "colab": {
     "base_uri": "https://localhost:8080/"
    },
    "id": "XaZcLO7Ghjkv",
    "outputId": "b30d4411-4e7f-4c2f-bc4a-f7e3a3b43c70"
   },
   "outputs": [
    {
     "data": {
      "text/plain": [
       "[1, 2, 'a', 'nuevo', 'hola', '2']"
      ]
     },
     "execution_count": 65,
     "metadata": {},
     "output_type": "execute_result"
    }
   ],
   "source": [
    "# list.remove(x), remueve el primer elemento en la lista cuyo valor sea x.\n",
    "# Si este no existe aparecerá un ValueError\n",
    "lista.remove(\"buuu\")\n",
    "lista"
   ]
  },
  {
   "cell_type": "code",
   "execution_count": 66,
   "metadata": {
    "colab": {
     "base_uri": "https://localhost:8080/",
     "height": 35
    },
    "id": "0HVH5EthiR4a",
    "outputId": "b87c139a-1f7f-4cbc-f0b8-9e96f73c0fd7"
   },
   "outputs": [
    {
     "data": {
      "text/plain": [
       "'a'"
      ]
     },
     "execution_count": 66,
     "metadata": {},
     "output_type": "execute_result"
    }
   ],
   "source": [
    "# list.pop(i), remueve el elemento con posición i y lo retorna\n",
    "item = lista.pop(2)\n",
    "item"
   ]
  },
  {
   "cell_type": "code",
   "execution_count": 67,
   "metadata": {
    "colab": {
     "base_uri": "https://localhost:8080/"
    },
    "id": "YFSfU35SinBF",
    "outputId": "c2b6f194-ba16-418d-d044-746eca3416e3"
   },
   "outputs": [
    {
     "data": {
      "text/plain": [
       "[]"
      ]
     },
     "execution_count": 67,
     "metadata": {},
     "output_type": "execute_result"
    }
   ],
   "source": [
    "# list.clear() elimina todos los elementos de la lista\n",
    "lista.clear()\n",
    "lista"
   ]
  },
  {
   "cell_type": "markdown",
   "metadata": {
    "id": "8cesrFLRjP24"
   },
   "source": [
    "También hay métodos para obtener algunas descripciones del contenido de la lista:"
   ]
  },
  {
   "cell_type": "code",
   "execution_count": 68,
   "metadata": {
    "colab": {
     "base_uri": "https://localhost:8080/"
    },
    "id": "fz0YavLClM6E",
    "outputId": "28c5c154-ae48-4feb-86d4-7970cf904df1"
   },
   "outputs": [
    {
     "data": {
      "text/plain": [
       "[1, 2, 'a', 'b', [1, 'c'], 5, 'hola', 1, 'b']"
      ]
     },
     "execution_count": 68,
     "metadata": {},
     "output_type": "execute_result"
    }
   ],
   "source": [
    "lista = [1, 2, \"a\", \"b\", [1,\"c\"], 5, \"hola\", 1, \"b\" ]\n",
    "lista"
   ]
  },
  {
   "cell_type": "code",
   "execution_count": 69,
   "metadata": {
    "colab": {
     "base_uri": "https://localhost:8080/"
    },
    "id": "s9qumxJtjb3F",
    "outputId": "8ed36294-0608-467b-9577-c4b8834a23db"
   },
   "outputs": [
    {
     "data": {
      "text/plain": [
       "3"
      ]
     },
     "execution_count": 69,
     "metadata": {},
     "output_type": "execute_result"
    }
   ],
   "source": [
    "# list.index(x, i_start, i_end). Busca el elmento x desde el índice _i_start hasta i_end\n",
    "lista.index(\"b\")"
   ]
  },
  {
   "cell_type": "code",
   "execution_count": 70,
   "metadata": {
    "colab": {
     "base_uri": "https://localhost:8080/"
    },
    "id": "yYRvg6Zilg-0",
    "outputId": "fe9db52a-5cf4-41b3-982d-67ddc545023f"
   },
   "outputs": [
    {
     "data": {
      "text/plain": [
       "8"
      ]
     },
     "execution_count": 70,
     "metadata": {},
     "output_type": "execute_result"
    }
   ],
   "source": [
    "lista.index(\"b\", 4)"
   ]
  },
  {
   "cell_type": "code",
   "execution_count": 71,
   "metadata": {
    "colab": {
     "base_uri": "https://localhost:8080/"
    },
    "id": "DSdvtZkVls3o",
    "outputId": "c5952000-9507-4521-8fa1-d7dbbcd31502"
   },
   "outputs": [
    {
     "data": {
      "text/plain": [
       "2"
      ]
     },
     "execution_count": 71,
     "metadata": {},
     "output_type": "execute_result"
    }
   ],
   "source": [
    "# list.count(x), cuenta el número de apariciones del elemento x\n",
    "lista.count(\"b\")"
   ]
  },
  {
   "cell_type": "code",
   "execution_count": 72,
   "metadata": {
    "colab": {
     "base_uri": "https://localhost:8080/"
    },
    "id": "fox-PW-BmBjI",
    "outputId": "2dde3f09-59dd-42ce-c283-e6665169fcfd"
   },
   "outputs": [
    {
     "data": {
      "text/plain": [
       "['b', 1, 'hola', 5, [1, 'c'], 'b', 'a', 2, 1]"
      ]
     },
     "execution_count": 72,
     "metadata": {},
     "output_type": "execute_result"
    }
   ],
   "source": [
    "# list.reverse() Invierte el orden de la lista\n",
    "lista.reverse()\n",
    "lista"
   ]
  },
  {
   "cell_type": "code",
   "execution_count": 73,
   "metadata": {
    "colab": {
     "base_uri": "https://localhost:8080/"
    },
    "id": "GPb5Yq_1mQOr",
    "outputId": "8a28db79-e7e4-44b5-b8bb-084dc690ef28"
   },
   "outputs": [
    {
     "data": {
      "text/plain": [
       "['b', 1, 'hola', 5, [1, 'c'], 'b', 'a', 2, 1]"
      ]
     },
     "execution_count": 73,
     "metadata": {},
     "output_type": "execute_result"
    }
   ],
   "source": [
    "# list.copy() copia la lista creando un nuevo espacio en memoria para esta\n",
    "# Igual efecto que list[:]\n",
    "nueva_lista = lista.copy()\n",
    "nueva_lista"
   ]
  },
  {
   "cell_type": "markdown",
   "metadata": {
    "id": "YZcksNVtna-h"
   },
   "source": [
    "<p>Se pueden copiar fragmentos de listas usando slices, la notación es como sigue:</p>\n",
    "\n",
    "\\begin{equation}\n",
    "  list[start:end:step]\n",
    "\\end{equation}\n",
    "\n",
    "Un paso (step) negativo contaría elementos desde <i>end</i> hasta <i>start</i>. No es necesario utilizar todos los índices, sólo aquellos que se consideren necesarios."
   ]
  },
  {
   "cell_type": "code",
   "execution_count": 74,
   "metadata": {
    "colab": {
     "base_uri": "https://localhost:8080/"
    },
    "id": "pdPwgC0Wqok2",
    "outputId": "8a341536-4a0d-4f1b-94af-654188c9c8e9"
   },
   "outputs": [
    {
     "data": {
      "text/plain": [
       "['b', 1, 'hola', 5, [1, 'c'], 'b', 'a', 2, 1]"
      ]
     },
     "execution_count": 74,
     "metadata": {},
     "output_type": "execute_result"
    }
   ],
   "source": [
    "# Toda la lista\n",
    "lista[:]"
   ]
  },
  {
   "cell_type": "code",
   "execution_count": 75,
   "metadata": {
    "colab": {
     "base_uri": "https://localhost:8080/"
    },
    "id": "5-n-7BG7ofWa",
    "outputId": "23aefe64-abdd-44c9-be66-76cb51b37cd4"
   },
   "outputs": [
    {
     "data": {
      "text/plain": [
       "['hola', 5, [1, 'c'], 'b', 'a', 2, 1]"
      ]
     },
     "execution_count": 75,
     "metadata": {},
     "output_type": "execute_result"
    }
   ],
   "source": [
    "# Desde el elemento 2 hasta el final\n",
    "lista[2:]"
   ]
  },
  {
   "cell_type": "code",
   "execution_count": 76,
   "metadata": {
    "colab": {
     "base_uri": "https://localhost:8080/"
    },
    "id": "7VQeMLQBmoSm",
    "outputId": "09a3e3df-e0b4-42a2-8bc2-e1f413d3f07f"
   },
   "outputs": [
    {
     "data": {
      "text/plain": [
       "['hola', 5, [1, 'c']]"
      ]
     },
     "execution_count": 76,
     "metadata": {},
     "output_type": "execute_result"
    }
   ],
   "source": [
    "# Desde el elemento 2 hasta el 5-1:\n",
    "lista[2:5]"
   ]
  },
  {
   "cell_type": "code",
   "execution_count": 77,
   "metadata": {
    "colab": {
     "base_uri": "https://localhost:8080/"
    },
    "id": "VaCpybvRtsmp",
    "outputId": "2808c01c-11f5-4253-e6d2-7f1b08a6c5a5"
   },
   "outputs": [
    {
     "data": {
      "text/plain": [
       "['b', 1, 'hola', 5, [1, 'c'], 'b', 'a']"
      ]
     },
     "execution_count": 77,
     "metadata": {},
     "output_type": "execute_result"
    }
   ],
   "source": [
    "# Todos los elementos menos los dos últimos\n",
    "lista[:-2]"
   ]
  },
  {
   "cell_type": "code",
   "execution_count": 78,
   "metadata": {
    "colab": {
     "base_uri": "https://localhost:8080/"
    },
    "id": "a-Wspjuxt1kf",
    "outputId": "37b61976-c74c-48e4-8001-3064fd114938"
   },
   "outputs": [
    {
     "data": {
      "text/plain": [
       "['b', 'hola', [1, 'c'], 'a', 1]"
      ]
     },
     "execution_count": 78,
     "metadata": {},
     "output_type": "execute_result"
    }
   ],
   "source": [
    "# Todos los elementos pero con un paso de 2\n",
    "lista[::2]"
   ]
  },
  {
   "cell_type": "code",
   "execution_count": 79,
   "metadata": {
    "colab": {
     "base_uri": "https://localhost:8080/"
    },
    "id": "d-FKhiQKpJGr",
    "outputId": "75d49515-8488-451e-d3dd-0d372481cfa9"
   },
   "outputs": [
    {
     "data": {
      "text/plain": [
       "[1, 5, 'b']"
      ]
     },
     "execution_count": 79,
     "metadata": {},
     "output_type": "execute_result"
    }
   ],
   "source": [
    "# Elementos desde la posición 1 hasta la posición 7-1 con un paso de 2.\n",
    "lista[1:7:2]"
   ]
  },
  {
   "cell_type": "code",
   "execution_count": 80,
   "metadata": {
    "colab": {
     "base_uri": "https://localhost:8080/"
    },
    "id": "aDWYXBe1pm9i",
    "outputId": "4c05a8f2-e838-4b94-d131-327290110e7d"
   },
   "outputs": [
    {
     "data": {
      "text/plain": [
       "[1, 2, 'a', 'b', [1, 'c'], 5, 'hola', 1, 'b']"
      ]
     },
     "execution_count": 80,
     "metadata": {},
     "output_type": "execute_result"
    }
   ],
   "source": [
    "# Elementos invertidos (paso negativo)\n",
    "lista[::-1]"
   ]
  },
  {
   "cell_type": "markdown",
   "metadata": {
    "id": "7mCcFoS9rwXA"
   },
   "source": [
    "Las listas permiten mutar sus elementos. Para hacer esto se necesita el índice del elemento a cambiar:\n"
   ]
  },
  {
   "cell_type": "code",
   "execution_count": 81,
   "metadata": {
    "colab": {
     "base_uri": "https://localhost:8080/"
    },
    "id": "RAbP2xfGrjVd",
    "outputId": "331737ce-6be4-420c-9af1-b14646df9924"
   },
   "outputs": [
    {
     "data": {
      "text/plain": [
       "['b', 1, 'hola', 'Elemento cambiado', [1, 'c'], 'b', 'a', 2, 1]"
      ]
     },
     "execution_count": 81,
     "metadata": {},
     "output_type": "execute_result"
    }
   ],
   "source": [
    "lista[3] = \"Elemento cambiado\"\n",
    "lista"
   ]
  },
  {
   "cell_type": "markdown",
   "metadata": {
    "id": "OFHXoSHO0bqz"
   },
   "source": [
    "<h4>Operaciones<h4>"
   ]
  },
  {
   "cell_type": "code",
   "execution_count": 82,
   "metadata": {
    "colab": {
     "base_uri": "https://localhost:8080/"
    },
    "id": "opN9kzQm0rrl",
    "outputId": "dca2bdc3-7f01-45bc-cf3a-dfa0c24db2a7"
   },
   "outputs": [
    {
     "data": {
      "text/plain": [
       "[1, 2, 3, 4, 2, 3, 5, 7]"
      ]
     },
     "execution_count": 82,
     "metadata": {},
     "output_type": "execute_result"
    }
   ],
   "source": [
    "lista2 = [1, 2, 3, 4]\n",
    "lista3 = [2, 3, 5, 7]\n",
    "\n",
    "# La suma de listas es una concatenación de las mismas\n",
    "lista2 + lista3"
   ]
  },
  {
   "cell_type": "code",
   "execution_count": 83,
   "metadata": {
    "colab": {
     "base_uri": "https://localhost:8080/"
    },
    "id": "OXDbST9K0_88",
    "outputId": "061f690c-4c9e-49a6-e771-e9033f4bfb4b"
   },
   "outputs": [
    {
     "data": {
      "text/plain": [
       "[1, 2, 3, 4, 1, 2, 3, 4, 1, 2, 3, 4]"
      ]
     },
     "execution_count": 83,
     "metadata": {},
     "output_type": "execute_result"
    }
   ],
   "source": [
    "# Multiplicar una lista por un entero positivo n es como concatenar la lista consigo misma n veces\n",
    "lista2*3"
   ]
  },
  {
   "cell_type": "code",
   "execution_count": 84,
   "metadata": {
    "colab": {
     "base_uri": "https://localhost:8080/"
    },
    "id": "x0soF1aJ1AHr",
    "outputId": "8cd7fc3b-645e-4c99-f287-e8b635b6a8d4"
   },
   "outputs": [
    {
     "data": {
      "text/plain": [
       "(1, 4, 'ab')"
      ]
     },
     "execution_count": 84,
     "metadata": {},
     "output_type": "execute_result"
    }
   ],
   "source": [
    "# Elementos mínimo y máximo de una lista\n",
    "min(lista2), max(lista2), min([\"ac\", \"ab\"])"
   ]
  },
  {
   "cell_type": "code",
   "execution_count": 85,
   "metadata": {
    "colab": {
     "base_uri": "https://localhost:8080/"
    },
    "id": "gqt7Scvv3g1L",
    "outputId": "b361c16e-495b-4e73-913f-7469baf8a3bd"
   },
   "outputs": [
    {
     "data": {
      "text/plain": [
       "10"
      ]
     },
     "execution_count": 85,
     "metadata": {},
     "output_type": "execute_result"
    }
   ],
   "source": [
    "# Suma de los elementos\n",
    "sum(lista2)"
   ]
  },
  {
   "cell_type": "markdown",
   "metadata": {
    "id": "aOyDC4fTze33"
   },
   "source": [
    "<h3>Tuplas</h3>\n",
    "Las tuplas son colecciones de datos inmutables. Es iterable, es decir, existen índices. Más información <a src=\"https://python-reference.readthedocs.io/en/latest/docs/tuple/\">acá</a>."
   ]
  },
  {
   "cell_type": "code",
   "execution_count": 86,
   "metadata": {
    "colab": {
     "base_uri": "https://localhost:8080/"
    },
    "id": "XZcMY_0OzdC1",
    "outputId": "8b7f6c06-05b2-4dad-8b0c-feccf57eb8a6"
   },
   "outputs": [
    {
     "ename": "TypeError",
     "evalue": "tuple expected at most 1 argument, got 4",
     "output_type": "error",
     "traceback": [
      "\u001b[0;31m---------------------------------------------------------------------------\u001b[0m",
      "\u001b[0;31mTypeError\u001b[0m                                 Traceback (most recent call last)",
      "Input \u001b[0;32mIn [86]\u001b[0m, in \u001b[0;36m<cell line: 3>\u001b[0;34m()\u001b[0m\n\u001b[1;32m      1\u001b[0m tuple1 \u001b[38;5;241m=\u001b[39m \u001b[38;5;241m1\u001b[39m, \u001b[38;5;241m2\u001b[39m, \u001b[38;5;241m3\u001b[39m, \u001b[38;5;241m4\u001b[39m, \u001b[38;5;241m2\u001b[39m, \u001b[38;5;241m8\u001b[39m\n\u001b[1;32m      2\u001b[0m tuple2 \u001b[38;5;241m=\u001b[39m (\u001b[38;5;241m2\u001b[39m, \u001b[38;5;241m4\u001b[39m, \u001b[38;5;241m6\u001b[39m, \u001b[38;5;241m8\u001b[39m, \u001b[38;5;241m10\u001b[39m, \u001b[38;5;241m4\u001b[39m, \u001b[38;5;241m9\u001b[39m)\n\u001b[0;32m----> 3\u001b[0m tuple3 \u001b[38;5;241m=\u001b[39m \u001b[38;5;28;43mtuple\u001b[39;49m\u001b[43m(\u001b[49m\u001b[38;5;241;43m0\u001b[39;49m\u001b[43m,\u001b[49m\u001b[43m \u001b[49m\u001b[38;5;241;43m3\u001b[39;49m\u001b[43m,\u001b[49m\u001b[43m \u001b[49m\u001b[38;5;241;43m6\u001b[39;49m\u001b[43m,\u001b[49m\u001b[43m \u001b[49m\u001b[38;5;124;43m\"\u001b[39;49m\u001b[38;5;124;43ma\u001b[39;49m\u001b[38;5;124;43m\"\u001b[39;49m\u001b[43m)\u001b[49m\n\u001b[1;32m      4\u001b[0m \u001b[38;5;28mtype\u001b[39m(tuple1), \u001b[38;5;28mtype\u001b[39m(tuple2), \u001b[38;5;28mtype\u001b[39m(tuple3)\n",
      "\u001b[0;31mTypeError\u001b[0m: tuple expected at most 1 argument, got 4"
     ]
    }
   ],
   "source": [
    "tuple1 = 1, 2, 3, 4, 2, 8\n",
    "tuple2 = (2, 4, 6, 8, 10, 4, 9)\n",
    "tuple3 = tuple(0, 3, 6, \"a\")\n",
    "type(tuple1), type(tuple2), type(tuple3)"
   ]
  },
  {
   "cell_type": "code",
   "execution_count": 87,
   "metadata": {
    "colab": {
     "base_uri": "https://localhost:8080/"
    },
    "id": "FD4Xf2FY1CPC",
    "outputId": "da05d01f-6a63-4e1b-ddea-8980b3a6e687"
   },
   "outputs": [
    {
     "data": {
      "text/plain": [
       "1"
      ]
     },
     "execution_count": 87,
     "metadata": {},
     "output_type": "execute_result"
    }
   ],
   "source": [
    "# Se puede obtener el índice de un elemento\n",
    "tuple1.index(2)"
   ]
  },
  {
   "cell_type": "code",
   "execution_count": 88,
   "metadata": {
    "colab": {
     "base_uri": "https://localhost:8080/"
    },
    "id": "deRaeFDv1XxA",
    "outputId": "f47aa7a5-dd52-4bf8-c997-1f8f4246361b"
   },
   "outputs": [
    {
     "data": {
      "text/plain": [
       "4"
      ]
     },
     "execution_count": 88,
     "metadata": {},
     "output_type": "execute_result"
    }
   ],
   "source": [
    "tuple1.index(2, 2)"
   ]
  },
  {
   "cell_type": "code",
   "execution_count": 89,
   "metadata": {
    "colab": {
     "base_uri": "https://localhost:8080/"
    },
    "id": "iNg3fkvn1fs_",
    "outputId": "34eb0010-0c58-4833-b55e-522f5a5b8a1c"
   },
   "outputs": [
    {
     "data": {
      "text/plain": [
       "2"
      ]
     },
     "execution_count": 89,
     "metadata": {},
     "output_type": "execute_result"
    }
   ],
   "source": [
    "# El número de veces que un elemento aparece en la tupla\n",
    "tuple1.count(2)"
   ]
  },
  {
   "cell_type": "code",
   "execution_count": 90,
   "metadata": {
    "colab": {
     "base_uri": "https://localhost:8080/"
    },
    "id": "pDmQxFPh1tGH",
    "outputId": "b7bec4d9-b4b7-412c-c512-4b0ce4b27c08"
   },
   "outputs": [
    {
     "data": {
      "text/plain": [
       "(4, 8)"
      ]
     },
     "execution_count": 90,
     "metadata": {},
     "output_type": "execute_result"
    }
   ],
   "source": [
    "# Se pueden utilizar slices\n",
    "tuple2[1:5:2]"
   ]
  },
  {
   "cell_type": "code",
   "execution_count": 91,
   "metadata": {
    "colab": {
     "base_uri": "https://localhost:8080/",
     "height": 177
    },
    "id": "FR1c3hpV8yZk",
    "outputId": "8a733bd5-2dc9-4c0f-cf31-b1ae1040f6d2"
   },
   "outputs": [
    {
     "ename": "TypeError",
     "evalue": "'tuple' object does not support item assignment",
     "output_type": "error",
     "traceback": [
      "\u001b[0;31m---------------------------------------------------------------------------\u001b[0m",
      "\u001b[0;31mTypeError\u001b[0m                                 Traceback (most recent call last)",
      "Input \u001b[0;32mIn [91]\u001b[0m, in \u001b[0;36m<cell line: 1>\u001b[0;34m()\u001b[0m\n\u001b[0;32m----> 1\u001b[0m tuple1[\u001b[38;5;241m0\u001b[39m] \u001b[38;5;241m=\u001b[39m \u001b[38;5;241m5\u001b[39m\n",
      "\u001b[0;31mTypeError\u001b[0m: 'tuple' object does not support item assignment"
     ]
    }
   ],
   "source": [
    "# Las tuplas son inalterables una vez creadas.\n",
    "tuple1[0] = 5"
   ]
  },
  {
   "cell_type": "markdown",
   "metadata": {
    "id": "ri7okQmG7ghN"
   },
   "source": [
    "<h4>Operaciones<h4>\n",
    "Las operaciones con las tuplas son similares a aquellas que se pueden realizar con listas."
   ]
  },
  {
   "cell_type": "code",
   "execution_count": 92,
   "metadata": {
    "colab": {
     "base_uri": "https://localhost:8080/"
    },
    "id": "6BwcoYao7pmP",
    "outputId": "6ff64913-60da-4d15-a362-f4ed248ac280"
   },
   "outputs": [
    {
     "data": {
      "text/plain": [
       "(1, 2, 3, 4, 2, 8, 2, 4, 6, 8, 10, 4, 9)"
      ]
     },
     "execution_count": 92,
     "metadata": {},
     "output_type": "execute_result"
    }
   ],
   "source": [
    "# La suma es una concatenación\n",
    "tuple1 + tuple2"
   ]
  },
  {
   "cell_type": "code",
   "execution_count": 93,
   "metadata": {
    "colab": {
     "base_uri": "https://localhost:8080/"
    },
    "id": "CxRF0UXx7_Tl",
    "outputId": "9ee251b2-5f2b-4a23-a8d7-3331220d153d"
   },
   "outputs": [
    {
     "data": {
      "text/plain": [
       "(1, 2, 3, 4, 2, 8, 1, 2, 3, 4, 2, 8, 1, 2, 3, 4, 2, 8)"
      ]
     },
     "execution_count": 93,
     "metadata": {},
     "output_type": "execute_result"
    }
   ],
   "source": [
    "# Producto por entero\n",
    "tuple1*3"
   ]
  },
  {
   "cell_type": "code",
   "execution_count": 94,
   "metadata": {
    "colab": {
     "base_uri": "https://localhost:8080/"
    },
    "id": "zq9r-JlM8HFu",
    "outputId": "1ecc3e97-199c-4ede-e7cd-61c8eeab8af6"
   },
   "outputs": [
    {
     "data": {
      "text/plain": [
       "(2, 10, 43)"
      ]
     },
     "execution_count": 94,
     "metadata": {},
     "output_type": "execute_result"
    }
   ],
   "source": [
    "# Mínimo, máximo, suma\n",
    "min(tuple2), max(tuple2), sum(tuple2)"
   ]
  },
  {
   "cell_type": "markdown",
   "metadata": {
    "id": "UaJDoEc3tPrV"
   },
   "source": [
    "<h3>Sets</h3>\n",
    "Son colecciones de datos donde no importa el orden de los mismos. A diferencia de las listas, sus elementos son inmutables y no repetidos, el set como un todo sí es mutable, es decir, se puede adherir o eliminar elementos. No hay indexación.\n"
   ]
  },
  {
   "cell_type": "markdown",
   "metadata": {
    "id": "0FM14dg6wFix"
   },
   "source": [
    "Métodos para moodificar el set:"
   ]
  },
  {
   "cell_type": "code",
   "execution_count": 95,
   "metadata": {
    "colab": {
     "base_uri": "https://localhost:8080/"
    },
    "id": "bynB6PerwK5T",
    "outputId": "a6bb8d65-9d40-4174-ee9e-4055974cf852"
   },
   "outputs": [
    {
     "data": {
      "text/plain": [
       "({2, 3, '3', 5, 6}, {2, 4, 5, 6, '6'})"
      ]
     },
     "execution_count": 95,
     "metadata": {},
     "output_type": "execute_result"
    }
   ],
   "source": [
    "# Maneras de crear un set\n",
    "set1 = {2, 3, \"3\", 5, 6, 3}\n",
    "set2 = set([2, 4, 6, \"6\", 5])\n",
    "set3 = {2, 4, 6, 8, 1, 3, 5}\n",
    "set1, set2"
   ]
  },
  {
   "cell_type": "code",
   "execution_count": 96,
   "metadata": {
    "colab": {
     "base_uri": "https://localhost:8080/"
    },
    "id": "n6HEIEo6tUEp",
    "outputId": "4c28460b-c164-4946-a36f-c95a46498c4b"
   },
   "outputs": [
    {
     "data": {
      "text/plain": [
       "{2, 3, '3', 4, 5, 6}"
      ]
     },
     "execution_count": 96,
     "metadata": {},
     "output_type": "execute_result"
    }
   ],
   "source": [
    "# Adherir un nuevo elemento\n",
    "set1.add(4)\n",
    "set1"
   ]
  },
  {
   "cell_type": "code",
   "execution_count": 97,
   "metadata": {},
   "outputs": [
    {
     "data": {
      "text/plain": [
       "2"
      ]
     },
     "execution_count": 97,
     "metadata": {},
     "output_type": "execute_result"
    }
   ],
   "source": [
    "len({1,1,3})"
   ]
  },
  {
   "cell_type": "code",
   "execution_count": 98,
   "metadata": {
    "colab": {
     "base_uri": "https://localhost:8080/"
    },
    "id": "804f3RZJwsoH",
    "outputId": "96ceff1e-0c3e-41d1-e42e-3bca2a6b9c3a"
   },
   "outputs": [
    {
     "data": {
      "text/plain": [
       "{0, 1, 14, 2, 4, 5, 6, '6'}"
      ]
     },
     "execution_count": 98,
     "metadata": {},
     "output_type": "execute_result"
    }
   ],
   "source": [
    "# Adherir más de un elemento a la ves\n",
    "set2.update([0, 1, 14])\n",
    "set2"
   ]
  },
  {
   "cell_type": "code",
   "execution_count": 99,
   "metadata": {
    "colab": {
     "base_uri": "https://localhost:8080/"
    },
    "id": "FnjBsF7suzhD",
    "outputId": "ad09370e-3f7a-4c65-b225-0984f930ee5f"
   },
   "outputs": [
    {
     "data": {
      "text/plain": [
       "{2, 3, 4, 5, 6}"
      ]
     },
     "execution_count": 99,
     "metadata": {},
     "output_type": "execute_result"
    }
   ],
   "source": [
    "# Eliminar un elemento del set. Otra opción es set.remove(). ¿Diferencias?\n",
    "set1.discard(\"3\")\n",
    "set1"
   ]
  },
  {
   "cell_type": "code",
   "execution_count": 100,
   "metadata": {
    "colab": {
     "base_uri": "https://localhost:8080/"
    },
    "id": "diNuoyzfu5aV",
    "outputId": "a3d0630f-c4bf-4e2a-925f-f3b48535b2bd"
   },
   "outputs": [
    {
     "data": {
      "text/plain": [
       "(0, {1, 14, 2, 4, 5, 6, '6'})"
      ]
     },
     "execution_count": 100,
     "metadata": {},
     "output_type": "execute_result"
    }
   ],
   "source": [
    "# Eliminar un elemento aleatoriamente del set y lo retorna\n",
    "item = set2.pop()\n",
    "item, set2"
   ]
  },
  {
   "cell_type": "markdown",
   "metadata": {
    "id": "v4ub3wD6yrb8"
   },
   "source": [
    "Operaciones entre conjuntos"
   ]
  },
  {
   "cell_type": "code",
   "execution_count": 101,
   "metadata": {
    "colab": {
     "base_uri": "https://localhost:8080/"
    },
    "id": "ZO_iZQedwD99",
    "outputId": "9bbe46dc-f266-4659-ebac-4a223f36a548"
   },
   "outputs": [
    {
     "data": {
      "text/plain": [
       "{1, 14, 2, 3, 4, 5, 6, '6'}"
      ]
     },
     "execution_count": 101,
     "metadata": {},
     "output_type": "execute_result"
    }
   ],
   "source": [
    "# Unión\n",
    "set1.union(set2)"
   ]
  },
  {
   "cell_type": "code",
   "execution_count": 102,
   "metadata": {
    "colab": {
     "base_uri": "https://localhost:8080/"
    },
    "id": "-ffADd-ewHO_",
    "outputId": "08a3e103-e942-4f99-93c6-c406f0db0460"
   },
   "outputs": [
    {
     "data": {
      "text/plain": [
       "{2, 4, 5, 6}"
      ]
     },
     "execution_count": 102,
     "metadata": {},
     "output_type": "execute_result"
    }
   ],
   "source": [
    "# Intercección\n",
    "set1.intersection(set2)"
   ]
  },
  {
   "cell_type": "code",
   "execution_count": 103,
   "metadata": {
    "colab": {
     "base_uri": "https://localhost:8080/"
    },
    "id": "Ng4q4ua-wKWy",
    "outputId": "3211d9f9-9081-47c3-fcef-b55895b0e825"
   },
   "outputs": [
    {
     "data": {
      "text/plain": [
       "{3}"
      ]
     },
     "execution_count": 103,
     "metadata": {},
     "output_type": "execute_result"
    }
   ],
   "source": [
    "# Diferencia\n",
    "set1.difference(set2)"
   ]
  },
  {
   "cell_type": "code",
   "execution_count": 104,
   "metadata": {
    "colab": {
     "base_uri": "https://localhost:8080/"
    },
    "id": "91TSAL3ewPk0",
    "outputId": "70c21f7d-9c8e-43a6-edf5-5807c51d096f"
   },
   "outputs": [
    {
     "data": {
      "text/plain": [
       "{1, 14, 3, '6'}"
      ]
     },
     "execution_count": 104,
     "metadata": {},
     "output_type": "execute_result"
    }
   ],
   "source": [
    "# Diferencia simétrica\n",
    "set1.symmetric_difference(set2)"
   ]
  },
  {
   "cell_type": "code",
   "execution_count": 105,
   "metadata": {
    "id": "Sp0rrgcywufd"
   },
   "outputs": [
    {
     "data": {
      "text/plain": [
       "{2, 3, 4, 6}"
      ]
     },
     "execution_count": 105,
     "metadata": {},
     "output_type": "execute_result"
    }
   ],
   "source": [
    "set1.remove(5)\n",
    "set1"
   ]
  },
  {
   "cell_type": "markdown",
   "metadata": {
    "id": "lR__41Ty98C5"
   },
   "source": [
    "Otras operaciones"
   ]
  },
  {
   "cell_type": "code",
   "execution_count": 106,
   "metadata": {
    "colab": {
     "base_uri": "https://localhost:8080/"
    },
    "id": "F_UgetMO9_O2",
    "outputId": "dc06a468-e56d-4545-dd5e-c93849a030e5"
   },
   "outputs": [
    {
     "data": {
      "text/plain": [
       "(1, 8, 29)"
      ]
     },
     "execution_count": 106,
     "metadata": {},
     "output_type": "execute_result"
    }
   ],
   "source": [
    "min(set3), max(set3), sum(set3)"
   ]
  },
  {
   "cell_type": "markdown",
   "metadata": {
    "id": "VowFyqt23sBA"
   },
   "source": [
    "# Diccionarios\n",
    "Los diccionarios son colecciones de datos, son mutables y no tienen un orden. Un diccionario está compuesto por pares clave-valor, ninguna clave se puede repetir. <a src=\"https://python-reference.readthedocs.io/en/latest/docs/dict/\">Más info</a>."
   ]
  },
  {
   "cell_type": "code",
   "execution_count": 107,
   "metadata": {
    "colab": {
     "base_uri": "https://localhost:8080/"
    },
    "id": "KP6YVHFBxEFs",
    "outputId": "2c3f4740-9750-4e78-db3d-61f14c6d4cea"
   },
   "outputs": [
    {
     "data": {
      "text/plain": [
       "({'a': 1, 'b': 'Hola mundo', 'c': [1, 2, 3], 'd': 4},\n",
       " {'c': 4, 'h': 98, 'a': 1, 'b': 10})"
      ]
     },
     "execution_count": 107,
     "metadata": {},
     "output_type": "execute_result"
    }
   ],
   "source": [
    "# Maneras de crear un diccionario\n",
    "dict1 = {\"a\":1, \"b\":\"Hola mundo\", \"c\":[1, 2, 3], \"d\":4}\n",
    "dict2  = dict({\"c\":4, \"h\":98}, a=1, b=10)\n",
    "dict1, dict2"
   ]
  },
  {
   "cell_type": "code",
   "execution_count": 108,
   "metadata": {
    "colab": {
     "base_uri": "https://localhost:8080/",
     "height": 35
    },
    "id": "fBXrjQMi4rC2",
    "outputId": "8c8fd16a-d096-48f4-cfea-d4d939029088"
   },
   "outputs": [
    {
     "data": {
      "text/plain": [
       "'Hola mundo'"
      ]
     },
     "execution_count": 108,
     "metadata": {},
     "output_type": "execute_result"
    }
   ],
   "source": [
    "# Obtener un valor a partir de una clave\n",
    "dict1.get(\"b\")"
   ]
  },
  {
   "cell_type": "code",
   "execution_count": 109,
   "metadata": {
    "colab": {
     "base_uri": "https://localhost:8080/",
     "height": 35
    },
    "id": "WrM3FdWA4td-",
    "outputId": "1f92efbf-8126-4bee-88a1-755fee6326ac"
   },
   "outputs": [
    {
     "data": {
      "text/plain": [
       "'Hola mundo'"
      ]
     },
     "execution_count": 109,
     "metadata": {},
     "output_type": "execute_result"
    }
   ],
   "source": [
    "dict1[\"b\"]"
   ]
  },
  {
   "cell_type": "code",
   "execution_count": 110,
   "metadata": {
    "colab": {
     "base_uri": "https://localhost:8080/"
    },
    "id": "cqQqtr0N6I0q",
    "outputId": "872973ad-1104-4665-c7af-3e90b9228203"
   },
   "outputs": [
    {
     "data": {
      "text/plain": [
       "dict_keys(['c', 'h', 'a', 'b'])"
      ]
     },
     "execution_count": 110,
     "metadata": {},
     "output_type": "execute_result"
    }
   ],
   "source": [
    "# Obtener todas las claves del diccionario\n",
    "dict2.keys()"
   ]
  },
  {
   "cell_type": "code",
   "execution_count": 111,
   "metadata": {
    "colab": {
     "base_uri": "https://localhost:8080/"
    },
    "id": "B3BfufqR6cB_",
    "outputId": "bb682597-922e-4c32-dd0b-cc3766c7d973"
   },
   "outputs": [
    {
     "data": {
      "text/plain": [
       "dict_values([4, 98, 1, 10])"
      ]
     },
     "execution_count": 111,
     "metadata": {},
     "output_type": "execute_result"
    }
   ],
   "source": [
    "# Obtener todas los valores del diccionario\n",
    "dict2.values()"
   ]
  },
  {
   "cell_type": "code",
   "execution_count": 112,
   "metadata": {
    "colab": {
     "base_uri": "https://localhost:8080/"
    },
    "id": "10DcBKEf6rtC",
    "outputId": "ef5665fd-3131-4328-d3bc-86ba43ba7465"
   },
   "outputs": [
    {
     "data": {
      "text/plain": [
       "{'a': 1, 'b': 'Hola mundo', 'c': [1, 2, 3], 'd': 4, 'nuevo': 'Nuevo elemento'}"
      ]
     },
     "execution_count": 112,
     "metadata": {},
     "output_type": "execute_result"
    }
   ],
   "source": [
    "# Podemos adherir nuevos elementos:\n",
    "dict1[\"nuevo\"] = \"Nuevo elemento\"\n",
    "dict1"
   ]
  },
  {
   "cell_type": "code",
   "execution_count": 113,
   "metadata": {
    "colab": {
     "base_uri": "https://localhost:8080/"
    },
    "id": "mxHC9Opm7QLf",
    "outputId": "7258578f-eacd-4362-887a-e964a048a2d5"
   },
   "outputs": [
    {
     "data": {
      "text/plain": [
       "{'a': 1,\n",
       " 'b': 'Hola mundo',\n",
       " 'c': [1, 2, 3],\n",
       " 'd': 'nuevo d',\n",
       " 'nuevo': 'Nuevo elemento'}"
      ]
     },
     "execution_count": 113,
     "metadata": {},
     "output_type": "execute_result"
    }
   ],
   "source": [
    "# O cambiar uno existente\n",
    "dict1[\"d\"] = \"nuevo d\"\n",
    "dict1"
   ]
  },
  {
   "cell_type": "code",
   "execution_count": 114,
   "metadata": {
    "colab": {
     "base_uri": "https://localhost:8080/"
    },
    "id": "4aTYvviF7cgl",
    "outputId": "f508b97c-29ac-49b9-fba6-30608d98dc14"
   },
   "outputs": [
    {
     "data": {
      "text/plain": [
       "({'c': 4, 'a': 1, 'b': 10}, 98)"
      ]
     },
     "execution_count": 114,
     "metadata": {},
     "output_type": "execute_result"
    }
   ],
   "source": [
    "# Podmos eliminar un elemento\n",
    "item = dict2.pop(\"h\")\n",
    "dict2, item"
   ]
  },
  {
   "cell_type": "code",
   "execution_count": 115,
   "metadata": {
    "colab": {
     "base_uri": "https://localhost:8080/"
    },
    "id": "cXW29tGuGUjx",
    "outputId": "73cb8424-69c9-4d82-83b5-492977a950a3"
   },
   "outputs": [
    {
     "name": "stdout",
     "output_type": "stream",
     "text": [
      "1\n",
      "No existe la clave\n"
     ]
    }
   ],
   "source": [
    "# también podemos obtener un elemento a partir de su llave usando la función get:\n",
    "print(dict1.get(\"a\"))\n",
    "print(dict1.get(\"z\", \"No existe la clave\"))"
   ]
  },
  {
   "cell_type": "code",
   "execution_count": 116,
   "metadata": {
    "id": "yxTWDJ4F73c-"
   },
   "outputs": [],
   "source": [
    "# Se puede corroborar la existencia de una clave en el diccionario\n",
    "# dict1.has_key(\"a\")"
   ]
  },
  {
   "cell_type": "code",
   "execution_count": 117,
   "metadata": {
    "colab": {
     "base_uri": "https://localhost:8080/"
    },
    "id": "r0uBWfhyEmVs",
    "outputId": "aebbd543-3eef-4eb1-fe17-954eb3cd0f2d"
   },
   "outputs": [
    {
     "name": "stdout",
     "output_type": "stream",
     "text": [
      "dict1 =  {'nombre': 'Pepe', 'edad': 17, 'educación': 'Bachiller'}\n",
      "dict2 =  {'edad': 18, 'educación': 'Universitario', 'trabaja': True}\n",
      "dict1 =  {'nombre': 'Pepe', 'edad': 18, 'educación': 'Universitario', 'trabaja': True}\n"
     ]
    }
   ],
   "source": [
    "# Podemos combinar la información de dos diccionarios usando el método update\n",
    "dict1 = {\"nombre\":\"Pepe\", \"edad\":17, \"educación\":\"Bachiller\"}\n",
    "dict2 =  {\"edad\":18, \"educación\":\"Universitario\", \"trabaja\":True}\n",
    "print(\"dict1 = \", dict1)\n",
    "print(\"dict2 = \", dict2)\n",
    "\n",
    "dict1.update(dict2)\n",
    "print(\"dict1 = \", dict1)"
   ]
  },
  {
   "cell_type": "markdown",
   "metadata": {
    "id": "SaUZZFcI-BcS"
   },
   "source": [
    "<h1>Resumen</h1>\n",
    "\n",
    "En la tabla abajo se puede ver un resumen de las operaciones posibles con cada una de las colecciones en Python."
   ]
  },
  {
   "cell_type": "markdown",
   "metadata": {
    "id": "ujhKpfLx9LUA"
   },
   "source": [
    "![Captura desde 2023-09-07 18-24-17.png](data:image/png;base64,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)"
   ]
  },
  {
   "cell_type": "code",
   "execution_count": null,
   "metadata": {
    "id": "buOOKNm99s69"
   },
   "outputs": [],
   "source": []
  }
 ],
 "metadata": {
  "colab": {
   "provenance": []
  },
  "kernelspec": {
   "display_name": "Python 3 (ipykernel)",
   "language": "python",
   "name": "python3"
  },
  "language_info": {
   "codemirror_mode": {
    "name": "ipython",
    "version": 3
   },
   "file_extension": ".py",
   "mimetype": "text/x-python",
   "name": "python",
   "nbconvert_exporter": "python",
   "pygments_lexer": "ipython3",
   "version": "3.9.12"
  }
 },
 "nbformat": 4,
 "nbformat_minor": 1
}
