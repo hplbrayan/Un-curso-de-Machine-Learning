{
 "cells": [
  {
   "cell_type": "markdown",
   "metadata": {
    "id": "6T-IAr-GYYzd"
   },
   "source": [
    "# **Instrucciones de $Entrada$ y $Salida$ en Python**"
   ]
  },
  {
   "cell_type": "markdown",
   "metadata": {
    "id": "u6dzXbieYYzd"
   },
   "source": [
    "<h2>1. Instrucción de salida en Python - $print()$</h2><br>\n",
    "Si en la consola para el caso de $Spyder$, $IDLE$, $Visual\\ Studio\\ Code$ o en una celda del $Jupyter$ se hace lo siguiente:"
   ]
  },
  {
   "cell_type": "code",
   "execution_count": 1,
   "metadata": {
    "colab": {
     "base_uri": "https://localhost:8080/",
     "height": 35
    },
    "executionInfo": {
     "elapsed": 509,
     "status": "ok",
     "timestamp": 1693949715131,
     "user": {
      "displayName": "Brayan 235",
      "userId": "14891812579283057053"
     },
     "user_tz": 300
    },
    "id": "RfWrRd7aYYze",
    "outputId": "dc4bdf97-0f5f-4a08-d26f-355327992e8c"
   },
   "outputs": [
    {
     "data": {
      "text/plain": [
       "'Bruce Banner'"
      ]
     },
     "execution_count": 1,
     "metadata": {},
     "output_type": "execute_result"
    }
   ],
   "source": [
    "nombre = 'Bruce Banner'\n",
    "nombre"
   ]
  },
  {
   "cell_type": "markdown",
   "metadata": {
    "id": "zUrPcQLLYYze"
   },
   "source": [
    "Cuando en la celda anterior sólo se escribe $nombre$ (el nombre de la variable), el intérprete de Python responde con la representación en forma de cadena de la variable $nombre$, que son las letras $B-r-u-c-e-\\ -B-a-n-n-e-r- $, agrupadas entre de comillas simples $'\\ '$.\n",
    "<br><br>\n",
    "Pero,\n",
    "<br><br>\n",
    "Python usa la función <b><i>print()</i></b> para mostrar el patalla la salida de los algoritmos (resultados, intrucciones, etiquetas, etc) y dentro de los paréntesis la información que se requiere mostrar. Por ejemplo:"
   ]
  },
  {
   "cell_type": "code",
   "execution_count": 1,
   "metadata": {
    "colab": {
     "base_uri": "https://localhost:8080/",
     "height": 87
    },
    "executionInfo": {
     "elapsed": 483,
     "status": "ok",
     "timestamp": 1693949718125,
     "user": {
      "displayName": "Brayan 235",
      "userId": "14891812579283057053"
     },
     "user_tz": 300
    },
    "id": "hScF9RuiYYzf",
    "outputId": "7bd26e9c-aa53-41e6-e58a-c1b92989f04d"
   },
   "outputs": [
    {
     "name": "stdout",
     "output_type": "stream",
     "text": [
      "Python para Inteligencia Artificial.\n",
      "123456789\n",
      "Reed Richards\n"
     ]
    },
    {
     "data": {
      "text/plain": [
       "'Reed Richards'"
      ]
     },
     "execution_count": 1,
     "metadata": {},
     "output_type": "execute_result"
    }
   ],
   "source": [
    "print('Python para Inteligencia Artificial.')\n",
    "print(123456789)\n",
    "nombre = 'Reed Richards'\n",
    "print(nombre)\n",
    "nombre"
   ]
  },
  {
   "cell_type": "markdown",
   "metadata": {
    "id": "DhA35sKgYYzf"
   },
   "source": [
    "Las cadenas dentro de la función <b><i>print()</i></b> se pueden delimitar tanto por comillas dobles ($\"\\ \"$) como por comillas simples ($'\\ '$)."
   ]
  },
  {
   "cell_type": "code",
   "execution_count": 4,
   "metadata": {
    "colab": {
     "base_uri": "https://localhost:8080/"
    },
    "executionInfo": {
     "elapsed": 464,
     "status": "ok",
     "timestamp": 1693949721625,
     "user": {
      "displayName": "Brayan 235",
      "userId": "14891812579283057053"
     },
     "user_tz": 300
    },
    "id": "0LkP__w1YYzg",
    "outputId": "fc41e6cf-8eda-4ff2-83b0-ccd5f9299eff"
   },
   "outputs": [
    {
     "name": "stdout",
     "output_type": "stream",
     "text": [
      "Steve Rogers\n",
      "Natasha Romanoff\n"
     ]
    }
   ],
   "source": [
    "print(\"Steve Rogers\")\n",
    "print('Natasha Romanoff')"
   ]
  },
  {
   "cell_type": "markdown",
   "metadata": {
    "id": "LEXDO4opYYzg"
   },
   "source": [
    "Se pueden mostrar varios valores o variables de tipos de datos iguales y/o diferentes en un mismo __print()__, usando la coma (__,__) como separador entre estos elementos."
   ]
  },
  {
   "cell_type": "code",
   "execution_count": 5,
   "metadata": {
    "id": "6a785tQqYYzh"
   },
   "outputs": [
    {
     "name": "stdout",
     "output_type": "stream",
     "text": [
      "Pepper Potts  987654321 True  Clint Barton\n"
     ]
    }
   ],
   "source": [
    "print(\"Pepper Potts \" , 987654321 , True , \" Clint Barton\")"
   ]
  },
  {
   "cell_type": "code",
   "execution_count": null,
   "metadata": {
    "id": "RjYoivLYYYzh"
   },
   "outputs": [],
   "source": []
  },
  {
   "cell_type": "markdown",
   "metadata": {
    "id": "V1n01M4nYYzh"
   },
   "source": [
    "<h2>2. Instrucción de entrada en Python - $input()$</h2>\n",
    "\n",
    "La función <b><i>input()</i></b> permite obtener texto escrito por teclado. Al llegar a la función, el programa (algoritmo) se detiene esperando que se escriba algo y se presione la tecla <b>Enter</b>, como muestra el siguiente ejemplo:"
   ]
  },
  {
   "cell_type": "code",
   "execution_count": 6,
   "metadata": {
    "id": "eKkQfeBIYYzh"
   },
   "outputs": [
    {
     "name": "stdout",
     "output_type": "stream",
     "text": [
      "¿Cuál es su nombre?\n",
      "Brayan\n",
      "Me alegro de conocerlo/a Brayan\n"
     ]
    }
   ],
   "source": [
    "print(\"¿Cuál es su nombre?\")\n",
    "nombre = input()\n",
    "print(\"Me alegro de conocerlo/a \" + nombre)"
   ]
  },
  {
   "cell_type": "markdown",
   "metadata": {
    "id": "Nph3yqjGYYzi"
   },
   "source": [
    "En el ejemplo anterior, el usuario escribe la respuesta de su nombre en una línea diferente a la que aparece la pregunta. Pero, se puede hacer el algoritmo para que todo quede en el mismo renglón. Miremos el siguiente ejemplo:"
   ]
  },
  {
   "cell_type": "code",
   "execution_count": null,
   "metadata": {
    "id": "Q9A0kmm_YYzi"
   },
   "outputs": [
    {
     "name": "stdout",
     "output_type": "stream",
     "text": [
      "¿Cuál es su nombre?: Brayan\n"
     ]
    }
   ],
   "source": [
    "nombre = input(\"¿Cuál es su nombre?: \")\n",
    "print(\"Me alegro de conocerlo/a \" + nombre)"
   ]
  },
  {
   "cell_type": "code",
   "execution_count": null,
   "metadata": {
    "id": "dWKP-okDYYzi"
   },
   "outputs": [],
   "source": []
  },
  {
   "cell_type": "markdown",
   "metadata": {
    "id": "qPdbk7NeYYzi"
   },
   "source": [
    "<h4>MUY IMPORTANTE</h4>\n",
    "De forma predeterminada, la función $input()$ captura la entrada y la convierte en una cadena. Si el dato que se ingresa numérico, esta función los convierte en cadena. Si se intenta hacer operaciones aritméticas, puede producir un error."
   ]
  },
  {
   "cell_type": "code",
   "execution_count": null,
   "metadata": {
    "id": "qnlAcgDAYYzi"
   },
   "outputs": [],
   "source": [
    "a = input(\"Ingrese un número: \")\n",
    "b = input(\"Ingrese otro número: \")\n",
    "print(\"El resultado de la suma es: \" + str(a + b))"
   ]
  },
  {
   "cell_type": "code",
   "execution_count": null,
   "metadata": {
    "id": "px5WGCMIYYzj"
   },
   "outputs": [],
   "source": [
    "type(b)"
   ]
  },
  {
   "cell_type": "markdown",
   "metadata": {
    "id": "Kz3Jtqm5YYzj"
   },
   "source": [
    "En el ejemplo anterior no se presenta error porque el operado cruz ( $+$ ) se comparte para la $suma$ en las operaciones aritméticas y $concatenación$ en las operaciones alfanuméricas. Pero, ¿Qué tal si fuera el producto o la división o algún signo que no se comparta?"
   ]
  },
  {
   "cell_type": "code",
   "execution_count": null,
   "metadata": {
    "id": "63zPcuChYYzj"
   },
   "outputs": [],
   "source": [
    "a = input(\"Ingrese un número: \")\n",
    "b = input(\"Ingrese otro número: \")\n",
    "print(\"El resultado de la multiplicación es: \" + str(a * b))"
   ]
  },
  {
   "cell_type": "markdown",
   "metadata": {
    "id": "8K3a7xHDYYzj"
   },
   "source": [
    "El error anterior se produce cuando se usan los operadores aritméticos: $ -\\ ,\\ *,\\ /,\\,\\ **\\ , \\%,\\ //$\n",
    "<br><br>\n",
    "Si lo que se requiere es usar las entradas en operaciones aritméticas, se puede hacer la conversión en el momento de hacer la captura del dato."
   ]
  },
  {
   "cell_type": "code",
   "execution_count": null,
   "metadata": {
    "id": "1XkVw7hLYYzk"
   },
   "outputs": [],
   "source": [
    "# Usando la función int()\n",
    "a = int(input(\"Ingrese un número: \"))\n",
    "b = int(input(\"Ingrese otro número: \"))\n",
    "print(\"El resultado de la suma es: \" + str(a + b))"
   ]
  },
  {
   "cell_type": "code",
   "execution_count": null,
   "metadata": {
    "id": "dcR0pt-qYYzk"
   },
   "outputs": [],
   "source": [
    "# Usando la función float()\n",
    "a = float(input(\"Ingrese un número: \"))\n",
    "b = float(input(\"Ingrese otro número: \"))\n",
    "print(\"El resultado de la suma es: \" + str(a + b))"
   ]
  },
  {
   "cell_type": "code",
   "execution_count": null,
   "metadata": {
    "id": "l2AVpjS8YYzk"
   },
   "outputs": [],
   "source": []
  },
  {
   "cell_type": "markdown",
   "metadata": {
    "id": "kMvPFaYxYYzk"
   },
   "source": [
    "<h2>3. Dando formato a la salida de cadenas</h2>"
   ]
  },
  {
   "cell_type": "markdown",
   "metadata": {
    "id": "9SxX8N-mYYzk"
   },
   "source": [
    "<h3>3.1 La Concatenación</h3><br>\n",
    "Normalmente para la operación entre cadenas, se utiliza el operado cruz ($+$), que denota la concatenación entre datos tipo Cadena."
   ]
  },
  {
   "cell_type": "code",
   "execution_count": null,
   "metadata": {
    "id": "nON0E7tuYYzk"
   },
   "outputs": [],
   "source": [
    "print(\"Hola\" + \" Mundo\" + \" !!!\")"
   ]
  },
  {
   "cell_type": "code",
   "execution_count": null,
   "metadata": {
    "id": "j75zNgKTYYzl"
   },
   "outputs": [],
   "source": [
    "var = 'Hello ' + 'world - ' + str(123)\n",
    "print(var)"
   ]
  },
  {
   "cell_type": "markdown",
   "metadata": {
    "id": "wfSdrXGLYYzl"
   },
   "source": [
    "<h3>3.2. Función $format()$</h3><br>\n",
    "La forma general de este método es: $str.format()$"
   ]
  },
  {
   "cell_type": "code",
   "execution_count": null,
   "metadata": {
    "id": "J9anwsGbYYzl"
   },
   "outputs": [],
   "source": [
    "# Uso #1\n",
    "print(\"Saludo a {} y {} - {}\".format('Bruce Wayne','Clark Kent' , 987))"
   ]
  },
  {
   "cell_type": "code",
   "execution_count": null,
   "metadata": {
    "id": "COmJ5o0iYYzl"
   },
   "outputs": [],
   "source": [
    "variable_format = \"Saludo a los {} de {} - {}\".format('Bruce Wayne','Clark Kent' , 987)\n",
    "print(variable_format)"
   ]
  },
  {
   "cell_type": "markdown",
   "metadata": {
    "id": "NdkwCrp-YYzl"
   },
   "source": [
    "Las llaves $\\{\\ \\}$ y caracteres dentro de las mismas (llamados campos de formato) son reemplazadas con los valores pasados en el método $str.format()$. Un número en las llaves se refiere a la posición del valor pasado en el método $str.format()$."
   ]
  },
  {
   "cell_type": "code",
   "execution_count": null,
   "metadata": {
    "colab": {
     "base_uri": "https://localhost:8080/"
    },
    "id": "2K0ENGvFYYzl",
    "outputId": "a4b59c56-9529-4bc6-abee-19ce3e0cdd46"
   },
   "outputs": [
    {
     "name": "stdout",
     "output_type": "stream",
     "text": [
      "Nombre: hgfd\n"
     ]
    }
   ],
   "source": [
    "# Uso #2\n",
    "name = input('Nombre: ')\n",
    "lastname = input('Apellidos: ')\n",
    "age = int(input('Edad: '))\n",
    "print('Hola {0} {1}, tienes {2} años de edad'.format(name,lastname,age))"
   ]
  },
  {
   "cell_type": "markdown",
   "metadata": {
    "id": "tW8DzM13YYzm"
   },
   "source": [
    "Los índices de las llaves $\\{\\ \\}$ se pueden usar tantas veces como sea necesario y en el orden deseado, siempre y cuando exista en los valores pasados por el método $str.format()$"
   ]
  },
  {
   "cell_type": "code",
   "execution_count": null,
   "metadata": {
    "id": "V4dQEPUxYYzm"
   },
   "outputs": [],
   "source": [
    "print('{0}{1}{0}'.format('abra', 'cad') )"
   ]
  },
  {
   "cell_type": "markdown",
   "metadata": {
    "id": "9FNSdEFjYYzm"
   },
   "source": [
    "También se puede usar con variables, como se muestra a continuación"
   ]
  },
  {
   "cell_type": "code",
   "execution_count": null,
   "metadata": {
    "id": "-M2IrxHsYYzm"
   },
   "outputs": [],
   "source": [
    "name = \"Peter\"\n",
    "lastname = \"Quill\"\n",
    "edad = 36\n",
    "print('Hola {name} {lastname}, tienes {edad} años de edad'.format(name=name,lastname=lastname,edad=edad))"
   ]
  },
  {
   "cell_type": "markdown",
   "metadata": {
    "id": "P9bPjNDWYYzn"
   },
   "source": [
    "<h3>3.3 Mode $f-string()$</h3><br>\n",
    "La forma básica de este método es: $f'str'$"
   ]
  },
  {
   "cell_type": "code",
   "execution_count": null,
   "metadata": {
    "id": "Dhb0b-m4YYzn"
   },
   "outputs": [],
   "source": [
    "name = \"Scott\"\n",
    "lastname = \"Lang\"\n",
    "edad = 32\n",
    "print(f'Hola {name} {lastname}, tienes {edad} años de edad')"
   ]
  },
  {
   "cell_type": "code",
   "execution_count": null,
   "metadata": {
    "id": "4PBb4onPYYzn"
   },
   "outputs": [],
   "source": [
    "variable_f_string = f'Hola {name} {lastname}, tienes {edad} años de edad'\n",
    "print(variable_f_string)"
   ]
  }
 ],
 "metadata": {
  "colab": {
   "provenance": []
  },
  "kernelspec": {
   "display_name": "Python 3 (ipykernel)",
   "language": "python",
   "name": "python3"
  },
  "language_info": {
   "codemirror_mode": {
    "name": "ipython",
    "version": 3
   },
   "file_extension": ".py",
   "mimetype": "text/x-python",
   "name": "python",
   "nbconvert_exporter": "python",
   "pygments_lexer": "ipython3",
   "version": "3.9.12"
  }
 },
 "nbformat": 4,
 "nbformat_minor": 1
}
