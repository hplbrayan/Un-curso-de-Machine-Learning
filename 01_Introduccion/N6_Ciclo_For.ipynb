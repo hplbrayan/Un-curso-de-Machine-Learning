{
 "cells": [
  {
   "cell_type": "markdown",
   "metadata": {
    "id": "Ln5wsID8qEbZ"
   },
   "source": [
    "# Ciclos en python"
   ]
  },
  {
   "cell_type": "markdown",
   "metadata": {
    "id": "ZtpIVr8JaH05"
   },
   "source": [
    "Antes de ver cada uno de los ciclos es importante aprender el uso de la función $range()$ de Python pues es ampliamente usada en el lenguaje.\n",
    "\n",
    "\n",
    "$range()$ genera una secuencia de números, iniciando en $0$ (por defecto), con un incremento de uno en uno (por defecto) y parando una posición antes del número indicado entre los paréntesis.\n",
    "  \n",
    "<div align=\"center\">\n",
    "    <h4>$range(num)$</h4></div>\n",
    "\n",
    "La estructura anterior, es el uso básico y por defecto de la función rango.\n",
    "\n"
   ]
  },
  {
   "cell_type": "code",
   "execution_count": 1,
   "metadata": {
    "colab": {
     "base_uri": "https://localhost:8080/"
    },
    "executionInfo": {
     "elapsed": 321,
     "status": "ok",
     "timestamp": 1694457255422,
     "user": {
      "displayName": "Brayan 235",
      "userId": "14891812579283057053"
     },
     "user_tz": 300
    },
    "id": "_hB__ttQaH05",
    "outputId": "cb9eb4cf-c363-40ed-bd99-a5e3ce8b30ac"
   },
   "outputs": [
    {
     "data": {
      "text/plain": [
       "range(0, 10)"
      ]
     },
     "execution_count": 1,
     "metadata": {},
     "output_type": "execute_result"
    }
   ],
   "source": [
    "range(10)"
   ]
  },
  {
   "cell_type": "markdown",
   "metadata": {
    "id": "5HiUUfIYaH06"
   },
   "source": [
    "La estructura anterior genera un vector, pero para poder hacer visible su forma, se debe usar también la función lista ($list()$ o tuplas $tuple()$."
   ]
  },
  {
   "cell_type": "code",
   "execution_count": 2,
   "metadata": {
    "colab": {
     "base_uri": "https://localhost:8080/"
    },
    "executionInfo": {
     "elapsed": 268,
     "status": "ok",
     "timestamp": 1694457258921,
     "user": {
      "displayName": "Brayan 235",
      "userId": "14891812579283057053"
     },
     "user_tz": 300
    },
    "id": "ju0YPjwWaH07",
    "outputId": "f232f46a-55b1-4443-a2a5-bc5e3f1c713e"
   },
   "outputs": [
    {
     "data": {
      "text/plain": [
       "[0, 1, 2, 3, 4, 5, 6, 7, 8, 9]"
      ]
     },
     "execution_count": 2,
     "metadata": {},
     "output_type": "execute_result"
    }
   ],
   "source": [
    "lista = list(range(10))\n",
    "lista"
   ]
  },
  {
   "cell_type": "markdown",
   "metadata": {
    "id": "D1uJCsz2aH07"
   },
   "source": [
    "$range()$ también puede usarse con dos argumentos. Es decir, con dos elementos dentro de los paréntesis. Esto generará un vector que empieza en el primer argumento y termina en el segundo menos uno.\n",
    "\n",
    "<div align=\"center\">\n",
    "    <h4>$range(inicio , fin)$</h4></div>\n",
    "\n"
   ]
  },
  {
   "cell_type": "code",
   "execution_count": 3,
   "metadata": {
    "colab": {
     "base_uri": "https://localhost:8080/"
    },
    "executionInfo": {
     "elapsed": 298,
     "status": "ok",
     "timestamp": 1694457296070,
     "user": {
      "displayName": "Brayan 235",
      "userId": "14891812579283057053"
     },
     "user_tz": 300
    },
    "id": "7W_qLCsFaH08",
    "outputId": "31d44fa7-f1d3-409d-e32a-4100d9c6d044"
   },
   "outputs": [
    {
     "data": {
      "text/plain": [
       "[11, 12, 13, 14, 15, 16, 17, 18, 19, 20, 21, 22, 23, 24, 25, 26, 27, 28]"
      ]
     },
     "execution_count": 3,
     "metadata": {},
     "output_type": "execute_result"
    }
   ],
   "source": [
    "list(range(11,29))"
   ]
  },
  {
   "cell_type": "markdown",
   "metadata": {
    "id": "oruhyg4zaH08"
   },
   "source": [
    "También puede usarse con tres argumentos. Esto generará un vector que empieza en el primer argumento y termina en el  segundo argumento menos uno. El tercer argumento indica el paso del vector (cómo incrementa).\n",
    "\n",
    "<div align=\"center\">\n",
    "    <h4>$range(inicio , fin ,paso)$</h4></div>\n",
    "    \n",
    "El paso puede ser tanto positivo como negativo. Si el paso es positivo entonces el primer argumento debe ser mayor al segundo, si el paso es negativo entonces deberá ser al contrario, de no ser así se retornará un rango vacío. "
   ]
  },
  {
   "cell_type": "code",
   "execution_count": 4,
   "metadata": {
    "colab": {
     "base_uri": "https://localhost:8080/"
    },
    "executionInfo": {
     "elapsed": 12,
     "status": "ok",
     "timestamp": 1694457313370,
     "user": {
      "displayName": "Brayan 235",
      "userId": "14891812579283057053"
     },
     "user_tz": 300
    },
    "id": "_KZRImZOaH09",
    "outputId": "9799093e-fc42-49ec-d1a0-c034e67eaaa0"
   },
   "outputs": [
    {
     "data": {
      "text/plain": [
       "[10, 12, 14, 16, 18]"
      ]
     },
     "execution_count": 4,
     "metadata": {},
     "output_type": "execute_result"
    }
   ],
   "source": [
    "list(range(10, 20, 2))"
   ]
  },
  {
   "cell_type": "code",
   "execution_count": 5,
   "metadata": {},
   "outputs": [
    {
     "data": {
      "text/plain": [
       "[]"
      ]
     },
     "execution_count": 5,
     "metadata": {},
     "output_type": "execute_result"
    }
   ],
   "source": [
    "list(range(10, 20, -2))"
   ]
  },
  {
   "cell_type": "code",
   "execution_count": 6,
   "metadata": {},
   "outputs": [
    {
     "data": {
      "text/plain": [
       "[20, 18, 16, 14, 12]"
      ]
     },
     "execution_count": 6,
     "metadata": {},
     "output_type": "execute_result"
    }
   ],
   "source": [
    "list(range(20, 10, -2))"
   ]
  },
  {
   "cell_type": "code",
   "execution_count": 7,
   "metadata": {},
   "outputs": [
    {
     "data": {
      "text/plain": [
       "[]"
      ]
     },
     "execution_count": 7,
     "metadata": {},
     "output_type": "execute_result"
    }
   ],
   "source": [
    "list(range(20, 10, 2))"
   ]
  },
  {
   "cell_type": "code",
   "execution_count": 9,
   "metadata": {
    "colab": {
     "base_uri": "https://localhost:8080/"
    },
    "executionInfo": {
     "elapsed": 6238,
     "status": "ok",
     "timestamp": 1694457383769,
     "user": {
      "displayName": "Brayan 235",
      "userId": "14891812579283057053"
     },
     "user_tz": 300
    },
    "id": "bdr7YT5ZaH09",
    "outputId": "563e7995-b7a8-468e-e8c9-73b6b836456e"
   },
   "outputs": [
    {
     "name": "stdout",
     "output_type": "stream",
     "text": [
      "Inicio: 3\n",
      "Fin: 13\n",
      "Paso: 4\n",
      "[3, 7, 11]\n"
     ]
    }
   ],
   "source": [
    "Vi = int(input('Inicio: '))\n",
    "Vf = int(input('Fin: '))\n",
    "p  = int(input('Paso: '))\n",
    "print(list(range(Vi,Vf,p)))"
   ]
  },
  {
   "cell_type": "markdown",
   "metadata": {
    "id": "okjtZJVraH09"
   },
   "source": [
    "# Ciclo $for$\n",
    "La instrucción <b><i>for</i></b> ejecuta una secuencia de instrucciones un número determinado de veces determinado por el programador/usuario.\n"
   ]
  },
  {
   "cell_type": "markdown",
   "metadata": {
    "id": "bJyKBKc4aH0-"
   },
   "source": [
    "La sintaxis de la sentencia $for$ es:"
   ]
  },
  {
   "cell_type": "markdown",
   "metadata": {
    "id": "2xnDu4gCaH0-"
   },
   "source": [
    "![for_text.png](data:image/png;base64,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)"
   ]
  },
  {
   "cell_type": "markdown",
   "metadata": {
    "id": "tW4D46kLaH0-"
   },
   "source": [
    "Las instrucciones indentadas en el ciclo <b><i>for</i></b> se van a repetir tantas veces como elementos haya en el elemento iterable siempre que no haya alguna otra sentencia de control."
   ]
  },
  {
   "cell_type": "code",
   "execution_count": 10,
   "metadata": {
    "colab": {
     "base_uri": "https://localhost:8080/"
    },
    "executionInfo": {
     "elapsed": 239,
     "status": "ok",
     "timestamp": 1694457494637,
     "user": {
      "displayName": "Brayan 235",
      "userId": "14891812579283057053"
     },
     "user_tz": 300
    },
    "id": "ghf3HG5TaH0-",
    "outputId": "738cc1f8-483a-4dae-b7d0-37987c8f728c"
   },
   "outputs": [
    {
     "name": "stdout",
     "output_type": "stream",
     "text": [
      "0. Hello world !!!\n",
      "1. Hello world !!!\n",
      "2. Hello world !!!\n",
      "3. Hello world !!!\n",
      "4. Hello world !!!\n"
     ]
    }
   ],
   "source": [
    "# [0, 1, 2, 3, 4]\n",
    "for i in range(5):\n",
    "    print(f\"{i}. Hello world !!!\")"
   ]
  },
  {
   "cell_type": "markdown",
   "metadata": {
    "id": "oJyinJ75aH0-"
   },
   "source": [
    "<b>Nota:</b> la variable en la estructura del ciclo <b><i>for</i></b> (en el caso anterior $i$) toma los valores del iterable. En el primer ciclo o iteración recibe el primer valor del rango, en el segundo ciclo vale el segundo valor del rango y así secesivamente hasta recorrer todos los elementos del iterable."
   ]
  },
  {
   "cell_type": "code",
   "execution_count": 11,
   "metadata": {
    "colab": {
     "base_uri": "https://localhost:8080/"
    },
    "executionInfo": {
     "elapsed": 241,
     "status": "ok",
     "timestamp": 1694457541343,
     "user": {
      "displayName": "Brayan 235",
      "userId": "14891812579283057053"
     },
     "user_tz": 300
    },
    "id": "h0aAkg6HaH0-",
    "outputId": "1a461036-817d-47ae-8e1a-fbc297099d87"
   },
   "outputs": [
    {
     "name": "stdout",
     "output_type": "stream",
     "text": [
      "Iteración #0 - i*2 = 0\n",
      "Iteración #1 - i*2 = 2\n",
      "Iteración #2 - i*2 = 4\n",
      "Iteración #3 - i*2 = 6\n",
      "Iteración #4 - i*2 = 8\n"
     ]
    }
   ],
   "source": [
    "for i in range(5):\n",
    "    print(\"Iteración #{0} - i*2 = {1}\".format(i,i*2))"
   ]
  },
  {
   "cell_type": "code",
   "execution_count": 12,
   "metadata": {
    "colab": {
     "base_uri": "https://localhost:8080/"
    },
    "executionInfo": {
     "elapsed": 2569,
     "status": "ok",
     "timestamp": 1694457556722,
     "user": {
      "displayName": "Brayan 235",
      "userId": "14891812579283057053"
     },
     "user_tz": 300
    },
    "id": "tm-FxhAyaH0_",
    "outputId": "afd9c82a-4b6d-4364-d323-3197e4d41d76"
   },
   "outputs": [
    {
     "name": "stdout",
     "output_type": "stream",
     "text": [
      "Ingrese el número de iteraciones: 5\n",
      "Iteración # 0\n",
      "Iteración # 1\n",
      "Iteración # 2\n",
      "Iteración # 3\n",
      "Iteración # 4\n"
     ]
    }
   ],
   "source": [
    "n = int(input('Ingrese el número de iteraciones: '))\n",
    "for j in range(n):\n",
    "    print(\"Iteración # \" + str(j))"
   ]
  },
  {
   "cell_type": "code",
   "execution_count": 13,
   "metadata": {
    "colab": {
     "base_uri": "https://localhost:8080/"
    },
    "executionInfo": {
     "elapsed": 325,
     "status": "ok",
     "timestamp": 1694457578837,
     "user": {
      "displayName": "Brayan 235",
      "userId": "14891812579283057053"
     },
     "user_tz": 300
    },
    "id": "adMpE74laH0_",
    "outputId": "aed8a8ed-062d-441b-c610-17bce7aff71e"
   },
   "outputs": [
    {
     "name": "stdout",
     "output_type": "stream",
     "text": [
      "Elemento: -4\n",
      "Elemento: 1\n",
      "Elemento: 12\n",
      "Elemento: 30\n",
      "Elemento: 4\n",
      "Elemento: 5\n",
      "Elemento: 6\n"
     ]
    }
   ],
   "source": [
    "# También se puede pasar directamente la lista, no se requiere de ningún orden en especial.\n",
    "for k in [-4, 1, 12, 30, 4, 5, 6]:\n",
    "    print(\"Elemento: \" + str(k))"
   ]
  },
  {
   "cell_type": "code",
   "execution_count": 14,
   "metadata": {
    "colab": {
     "base_uri": "https://localhost:8080/"
    },
    "executionInfo": {
     "elapsed": 262,
     "status": "ok",
     "timestamp": 1694457585418,
     "user": {
      "displayName": "Brayan 235",
      "userId": "14891812579283057053"
     },
     "user_tz": 300
    },
    "id": "h9Kt3SmLaH0_",
    "outputId": "8ddcde91-6112-44f2-f010-49a1fff64eb4"
   },
   "outputs": [
    {
     "name": "stdout",
     "output_type": "stream",
     "text": [
      "H\n",
      "o\n",
      "l\n",
      "a\n",
      " \n",
      "m\n",
      "u\n",
      "n\n",
      "d\n",
      "o\n",
      " \n",
      "!\n",
      "!\n",
      "!\n"
     ]
    }
   ],
   "source": [
    "for i in \"Hola mundo !!!\":\n",
    "    print(i, end=\"\\n\")"
   ]
  },
  {
   "cell_type": "markdown",
   "metadata": {
    "id": "f4XQnQLyaH0_"
   },
   "source": [
    "Al igual que en el ciclo <b><i>while</i></b>, las sentecias  <b><i>break</i></b> y  <b><i>continue</i></b> también se pueden utilizar en el bucle  <b><i>for</i></b>. La semántica de estas instrucciones es las misma en ambas estructuras."
   ]
  },
  {
   "cell_type": "code",
   "execution_count": 15,
   "metadata": {
    "colab": {
     "base_uri": "https://localhost:8080/"
    },
    "executionInfo": {
     "elapsed": 258,
     "status": "ok",
     "timestamp": 1694458375730,
     "user": {
      "displayName": "Brayan 235",
      "userId": "14891812579283057053"
     },
     "user_tz": 300
    },
    "id": "W5kAjbAKaH0_",
    "outputId": "f1a59476-54c9-43c5-ba14-08daf19cab82"
   },
   "outputs": [
    {
     "name": "stdout",
     "output_type": "stream",
     "text": [
      "Ciclo #1\n",
      "Ciclo #2\n",
      "Ciclo #4\n",
      "Ciclo #5\n",
      "Ciclo #7\n",
      "Ciclo #8\n",
      "Ciclo #10\n",
      "Ciclo #11\n",
      "Ciclo #13\n",
      "Ciclo #14\n",
      "Ciclo #16\n",
      "Ciclo #17\n",
      "\n",
      "Fin del programa, j= 20 y k = 12\n"
     ]
    }
   ],
   "source": [
    "#Inicializando los contadores\n",
    "j = 0\n",
    "k = 0\n",
    "\n",
    "for i in range(20):\n",
    "    #j se actualizará siempre\n",
    "    j += 1\n",
    "    if i % 3 == 0:continue\n",
    "    if i >= 18:break\n",
    "\n",
    "    print(f'Ciclo #{i}')\n",
    "    k += 1\n",
    "\n",
    "print(f'\\nFin del programa, j= {j} y k = {k}')"
   ]
  },
  {
   "cell_type": "markdown",
   "metadata": {
    "id": "F3vwxmHOnQEJ"
   },
   "source": [
    "## Listas por comprensión\n",
    "Se puede llenar los valores de una lista iteradamente utilizando un ciclo en el interior de la lista, a esto se le llama <i>lista por comprensión</i>"
   ]
  },
  {
   "cell_type": "code",
   "execution_count": 16,
   "metadata": {
    "colab": {
     "base_uri": "https://localhost:8080/"
    },
    "executionInfo": {
     "elapsed": 290,
     "status": "ok",
     "timestamp": 1694458894397,
     "user": {
      "displayName": "Brayan 235",
      "userId": "14891812579283057053"
     },
     "user_tz": 300
    },
    "id": "GszEEeDGnjxk",
    "outputId": "aa245b43-249a-4a11-d5e6-917bac966db9"
   },
   "outputs": [
    {
     "data": {
      "text/plain": [
       "[0, 2, 4, 6, 8, 10, 12, 14, 16, 18, 20]"
      ]
     },
     "execution_count": 16,
     "metadata": {},
     "output_type": "execute_result"
    }
   ],
   "source": [
    "lista_comp = [i*2 for i in range(11)]\n",
    "lista_comp"
   ]
  },
  {
   "cell_type": "code",
   "execution_count": 17,
   "metadata": {
    "colab": {
     "base_uri": "https://localhost:8080/"
    },
    "executionInfo": {
     "elapsed": 259,
     "status": "ok",
     "timestamp": 1694459360871,
     "user": {
      "displayName": "Brayan 235",
      "userId": "14891812579283057053"
     },
     "user_tz": 300
    },
    "id": "kd-CkQqBns55",
    "outputId": "0734c143-236d-447a-b878-7d3597fce537"
   },
   "outputs": [
    {
     "data": {
      "text/plain": [
       "[0, 4, 8, 12, 16, 20]"
      ]
     },
     "execution_count": 17,
     "metadata": {},
     "output_type": "execute_result"
    }
   ],
   "source": [
    "lista_comp = [i*2 for i in range(11) if i%2==0 ]\n",
    "lista_comp"
   ]
  },
  {
   "cell_type": "code",
   "execution_count": 18,
   "metadata": {},
   "outputs": [
    {
     "data": {
      "text/plain": [
       "[(3, 4), (9, 8), (15, 12)]"
      ]
     },
     "execution_count": 18,
     "metadata": {},
     "output_type": "execute_result"
    }
   ],
   "source": [
    "lista_3 = [(i*3, j*2) for i,j in [(1,2),(3,4), (5,6)]]\n",
    "lista_3"
   ]
  },
  {
   "cell_type": "code",
   "execution_count": 19,
   "metadata": {
    "colab": {
     "base_uri": "https://localhost:8080/"
    },
    "executionInfo": {
     "elapsed": 289,
     "status": "ok",
     "timestamp": 1694459621661,
     "user": {
      "displayName": "Brayan 235",
      "userId": "14891812579283057053"
     },
     "user_tz": 300
    },
    "id": "csabyUQTpgB-",
    "outputId": "1fa83eaf-743b-4d59-ab63-568a13195810"
   },
   "outputs": [
    {
     "data": {
      "text/plain": [
       "[0,\n",
       " 'i=1 es impar',\n",
       " 4,\n",
       " 'i=3 es impar',\n",
       " 8,\n",
       " 'i=5 es impar',\n",
       " 12,\n",
       " 'i=7 es impar',\n",
       " 16,\n",
       " 'i=9 es impar',\n",
       " 20]"
      ]
     },
     "execution_count": 19,
     "metadata": {},
     "output_type": "execute_result"
    }
   ],
   "source": [
    "def generar(i):\n",
    "    return True\n",
    "\n",
    "lista_comp = [i*2 if i%2==0 else f\"i={i} es impar\" for i in range(11)]\n",
    "#lista_comp = [generar(i) for i in range(11)]\n",
    "\n",
    "lista_comp"
   ]
  },
  {
   "cell_type": "code",
   "execution_count": null,
   "metadata": {},
   "outputs": [],
   "source": []
  }
 ],
 "metadata": {
  "colab": {
   "provenance": []
  },
  "kernelspec": {
   "display_name": "Python 3 (ipykernel)",
   "language": "python",
   "name": "python3"
  },
  "language_info": {
   "codemirror_mode": {
    "name": "ipython",
    "version": 3
   },
   "file_extension": ".py",
   "mimetype": "text/x-python",
   "name": "python",
   "nbconvert_exporter": "python",
   "pygments_lexer": "ipython3",
   "version": "3.9.12"
  }
 },
 "nbformat": 4,
 "nbformat_minor": 1
}
