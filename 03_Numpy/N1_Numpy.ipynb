{
 "cells": [
  {
   "cell_type": "markdown",
   "metadata": {
    "id": "BUvlY3mCba6G"
   },
   "source": [
    "# Numpy\n",
    "\n",
    "NumPy es la librería de Python para la creación y manejo de vectores y matrices multidimensionales. Incluye una gran variedad de funciones matemáticas para que la convierten en una librería de gran capacidad y una de las más utilizadas en el lenguaje. https://numpy.org/"
   ]
  },
  {
   "cell_type": "markdown",
   "metadata": {
    "id": "GTbvM4Mzba6H"
   },
   "source": [
    "Para la instalación de la librería usamos pip (No es necesario instalar Numpy pues viene por defecto)."
   ]
  },
  {
   "cell_type": "code",
   "execution_count": 1,
   "metadata": {
    "id": "urxY7fuRba6H"
   },
   "outputs": [],
   "source": [
    "#!pip install numpy"
   ]
  },
  {
   "cell_type": "markdown",
   "metadata": {
    "id": "Ec8uYRowba6I"
   },
   "source": [
    "Para el uso de la librería, hay que hacer la importación con la palabra reservada $import$."
   ]
  },
  {
   "cell_type": "code",
   "execution_count": 1,
   "metadata": {
    "id": "NFKPCN7jba6J"
   },
   "outputs": [],
   "source": [
    "import numpy as np"
   ]
  },
  {
   "cell_type": "markdown",
   "metadata": {
    "id": "8kaZJ4geba6J"
   },
   "source": [
    "Usando la librería..."
   ]
  },
  {
   "cell_type": "code",
   "execution_count": null,
   "metadata": {},
   "outputs": [],
   "source": [
    "#Con el tabulador se puede ver todas las opciones\n",
    "np."
   ]
  },
  {
   "cell_type": "code",
   "execution_count": 3,
   "metadata": {
    "id": "VJlISxsaba6J"
   },
   "outputs": [
    {
     "data": {
      "text/plain": [
       "3.141592653589793"
      ]
     },
     "execution_count": 3,
     "metadata": {},
     "output_type": "execute_result"
    }
   ],
   "source": [
    "#Número pi\n",
    "np.pi"
   ]
  },
  {
   "cell_type": "code",
   "execution_count": 4,
   "metadata": {
    "id": "ojBKii3xba6K"
   },
   "outputs": [
    {
     "data": {
      "text/plain": [
       "4.0"
      ]
     },
     "execution_count": 4,
     "metadata": {},
     "output_type": "execute_result"
    }
   ],
   "source": [
    "# Raíz cuadrada\n",
    "np.sqrt(16)"
   ]
  },
  {
   "cell_type": "code",
   "execution_count": 5,
   "metadata": {
    "id": "VKCBnRmJba6K"
   },
   "outputs": [
    {
     "data": {
      "text/plain": [
       "3.46"
      ]
     },
     "execution_count": 5,
     "metadata": {},
     "output_type": "execute_result"
    }
   ],
   "source": [
    "# Redondear un número\n",
    "np.around(3.456 , 2)"
   ]
  },
  {
   "cell_type": "markdown",
   "metadata": {
    "id": "KtCszgykba6L"
   },
   "source": [
    "## _Arreglos (arrays) o matrices_"
   ]
  },
  {
   "cell_type": "markdown",
   "metadata": {},
   "source": [
    "<b>Los array son el principal objeto de numpy</b>. La estructura de un arreglo es homogenea, esto quiere decir que todos los elementos de un arreglo deben ser del mismo tipo, ya sean todos de tipo numérico, string, listas, etc. Las dimensiones de un arreglo se conocen como <i>axes</i>.\n",
    "\n",
    "Los elementos de un arreglo deben ser del mismo tipo, o al menos los tipos deben ser tales que se pueda realizar una conversión al mismo tipo para todos. Esto último no es una buena práctica ya que podría llevar a comportamientos inesperados en el código. \n",
    "\n",
    "https://stackoverflow.com/questions/29877508/what-does-dtype-object-mean-while-creating-a-numpy-array"
   ]
  },
  {
   "cell_type": "markdown",
   "metadata": {},
   "source": [
    "<b>Creación y dimensiones</b>"
   ]
  },
  {
   "cell_type": "code",
   "execution_count": 6,
   "metadata": {
    "id": "qeW5hZObba6L"
   },
   "outputs": [
    {
     "name": "stdout",
     "output_type": "stream",
     "text": [
      "[1 2 3]\n",
      "(3,)\n"
     ]
    },
    {
     "data": {
      "text/plain": [
       "numpy.ndarray"
      ]
     },
     "execution_count": 6,
     "metadata": {},
     "output_type": "execute_result"
    }
   ],
   "source": [
    "# Array de una dimensión\n",
    "a1 = np.array([1, 2, 3])\n",
    "\n",
    "print(a1)\n",
    "print(a1.shape)\n",
    "type(a1)"
   ]
  },
  {
   "cell_type": "code",
   "execution_count": 7,
   "metadata": {
    "id": "o1XPy3M5ba6M"
   },
   "outputs": [
    {
     "name": "stdout",
     "output_type": "stream",
     "text": [
      "[[1 2 3]\n",
      " [4 5 6]]\n",
      "(2, 3)\n"
     ]
    },
    {
     "data": {
      "text/plain": [
       "numpy.ndarray"
      ]
     },
     "execution_count": 7,
     "metadata": {},
     "output_type": "execute_result"
    }
   ],
   "source": [
    "# Array de dos dimensiones\n",
    "a2 = np.array([\n",
    "                [1, 2, 3],\n",
    "                [4, 5, 6]  ])\n",
    "\n",
    "print(a2)\n",
    "print(a2.shape)\n",
    "type(a2)"
   ]
  },
  {
   "cell_type": "code",
   "execution_count": 21,
   "metadata": {
    "id": "CeYL_XKfba6M"
   },
   "outputs": [
    {
     "name": "stdout",
     "output_type": "stream",
     "text": [
      "[[[[ 1  2  3]\n",
      "   [ 4  5  6]]\n",
      "\n",
      "  [[ 7  8  9]\n",
      "   [10 11 12]]]\n",
      "\n",
      "\n",
      " [[[13 14 15]\n",
      "   [16 17 18]]\n",
      "\n",
      "  [[19 20 21]\n",
      "   [22 23 24]]]\n",
      "\n",
      "\n",
      " [[[25 26 27]\n",
      "   [28 29 30]]\n",
      "\n",
      "  [[31 32 33]\n",
      "   [34 35 36]]]]\n",
      "(3, 2, 2, 3)\n"
     ]
    },
    {
     "data": {
      "text/plain": [
       "numpy.ndarray"
      ]
     },
     "execution_count": 21,
     "metadata": {},
     "output_type": "execute_result"
    }
   ],
   "source": [
    "# Array de 4 dimensiones\n",
    "a3 = np.array(\n",
    "    [\n",
    "        [\n",
    "            [ [1, 2, 3], [4, 5, 6] ],\n",
    "            [ [7, 8, 9], [10, 11, 12] ]\n",
    "        ],\n",
    "\n",
    "        [\n",
    "            [ [13, 14, 15], [16, 17, 18] ],\n",
    "            [ [19, 20, 21], [22, 23, 24] ]\n",
    "        ],\n",
    "\n",
    "        [\n",
    "            [ [25, 26, 27], [28, 29, 30] ],\n",
    "            [ [31, 32, 33], [34, 35, 36] ]\n",
    "        ],\n",
    "    ]\n",
    ")\n",
    "\n",
    "print(a3)\n",
    "print(a3.shape)\n",
    "type(a3)"
   ]
  },
  {
   "cell_type": "markdown",
   "metadata": {},
   "source": [
    "<b>Índices</b>\n",
    "\n",
    "Se puede acceder a un elemento de un arreglo de una dimensión al igual que se hace con una lista. Para acceder a los elementos de arreglos con más de una dimensión podemos escribir el nombre del arreglo seguido de corchetes en los cuales se separa con comas el elemento perteneciente a cada dimensión teniendo en cuenta que la indexación comienza desde cero."
   ]
  },
  {
   "cell_type": "markdown",
   "metadata": {},
   "source": [
    "Acceder a un elemento de un arreglo unidimensional"
   ]
  },
  {
   "cell_type": "code",
   "execution_count": 23,
   "metadata": {},
   "outputs": [
    {
     "data": {
      "text/plain": [
       "7"
      ]
     },
     "execution_count": 23,
     "metadata": {},
     "output_type": "execute_result"
    }
   ],
   "source": [
    "a1 = np.array([2, 1, 5, 7, 3, 9])\n",
    "a1[3]"
   ]
  },
  {
   "cell_type": "markdown",
   "metadata": {},
   "source": [
    "Acceder a los elementos de un arreglo n-dimensional"
   ]
  },
  {
   "cell_type": "code",
   "execution_count": 25,
   "metadata": {},
   "outputs": [
    {
     "data": {
      "text/plain": [
       "(3, 2, 2, 3)"
      ]
     },
     "execution_count": 25,
     "metadata": {},
     "output_type": "execute_result"
    }
   ],
   "source": [
    "#Con 4 dimensiones\n",
    "a3 = np.array(\n",
    "    [\n",
    "        [\n",
    "            [ [1, 2, 3], [4, 5, 6] ],\n",
    "            [ [7, 8, 9], [10, 11, 12] ]\n",
    "        ],\n",
    "\n",
    "        [\n",
    "            [ [13, 14, 15], [16, 17, 18] ],\n",
    "            [ [19, 20, 21], [22, 23, 24] ]\n",
    "        ],\n",
    "\n",
    "        [\n",
    "            [ [25, 26, 27], [28, 29, 30] ],\n",
    "            [ [31, 32, 33], [34, 35, 36] ]\n",
    "        ],\n",
    "    ]\n",
    ")\n",
    "\n",
    "a3.shape"
   ]
  },
  {
   "cell_type": "code",
   "execution_count": 26,
   "metadata": {},
   "outputs": [
    {
     "data": {
      "text/plain": [
       "array([[[13, 14, 15],\n",
       "        [16, 17, 18]],\n",
       "\n",
       "       [[19, 20, 21],\n",
       "        [22, 23, 24]]])"
      ]
     },
     "execution_count": 26,
     "metadata": {},
     "output_type": "execute_result"
    }
   ],
   "source": [
    "a3[1]"
   ]
  },
  {
   "cell_type": "code",
   "execution_count": 12,
   "metadata": {},
   "outputs": [
    {
     "data": {
      "text/plain": [
       "array([[13, 14, 15],\n",
       "       [16, 17, 18]])"
      ]
     },
     "execution_count": 12,
     "metadata": {},
     "output_type": "execute_result"
    }
   ],
   "source": [
    "a3[1, 0]"
   ]
  },
  {
   "cell_type": "code",
   "execution_count": 13,
   "metadata": {},
   "outputs": [
    {
     "data": {
      "text/plain": [
       "array([16, 17, 18])"
      ]
     },
     "execution_count": 13,
     "metadata": {},
     "output_type": "execute_result"
    }
   ],
   "source": [
    "a3[1, 0, 1]"
   ]
  },
  {
   "cell_type": "code",
   "execution_count": 29,
   "metadata": {},
   "outputs": [
    {
     "data": {
      "text/plain": [
       "18"
      ]
     },
     "execution_count": 29,
     "metadata": {},
     "output_type": "execute_result"
    }
   ],
   "source": [
    "a3[1, 0, 1, 2]"
   ]
  },
  {
   "cell_type": "code",
   "execution_count": 30,
   "metadata": {},
   "outputs": [
    {
     "data": {
      "text/plain": [
       "18"
      ]
     },
     "execution_count": 30,
     "metadata": {},
     "output_type": "execute_result"
    }
   ],
   "source": [
    "#La última linea es equivalente a: (no se usa mucho esta notación)\n",
    "a3[1][0][1][2]"
   ]
  },
  {
   "cell_type": "markdown",
   "metadata": {},
   "source": [
    "<b>Slices</b>\n",
    "\n",
    "Los slices para un arrreglo de una dimensión aplican la misma lógica que para las listas. "
   ]
  },
  {
   "cell_type": "code",
   "execution_count": 31,
   "metadata": {},
   "outputs": [
    {
     "data": {
      "text/plain": [
       "array([ 5, -7,  3,  9])"
      ]
     },
     "execution_count": 31,
     "metadata": {},
     "output_type": "execute_result"
    }
   ],
   "source": [
    "a1 = np.array([2, 1, 5, -7, 3, 9, 0, -3, 12, 10, 4])\n",
    "a1[2:6]"
   ]
  },
  {
   "cell_type": "code",
   "execution_count": 32,
   "metadata": {},
   "outputs": [
    {
     "data": {
      "text/plain": [
       "array([5, 3])"
      ]
     },
     "execution_count": 32,
     "metadata": {},
     "output_type": "execute_result"
    }
   ],
   "source": [
    "a1[2:6:2]"
   ]
  },
  {
   "cell_type": "markdown",
   "metadata": {},
   "source": [
    "Para arreglos multidimensionales se aplica la misma lógica que para las listas pero en cada dimensión, separando por comas los elementos que queremos de cada una de ellas. "
   ]
  },
  {
   "cell_type": "code",
   "execution_count": 11,
   "metadata": {},
   "outputs": [
    {
     "data": {
      "text/plain": [
       "(3, 4, 2, 3)"
      ]
     },
     "execution_count": 11,
     "metadata": {},
     "output_type": "execute_result"
    }
   ],
   "source": [
    "#Con 4 dimensiones\n",
    "a3 = np.array(\n",
    "    [\n",
    "        [\n",
    "            [ [1, 2, 3],    [4, 5, 6] ],\n",
    "            [ [7, 8, 9],    [10, 11, 12] ],\n",
    "            [ [13, 14, 15], [16, 17, 18] ],\n",
    "            [ [19, 20, 21], [22, 23, 24] ]\n",
    "        ],\n",
    "\n",
    "        [\n",
    "            [ [25, 26, 27], [28, 29, 30] ],\n",
    "            [ [31, 32, 33], [34, 35, 36] ],\n",
    "            [ [37, 38, 39], [40, 41, 42] ],\n",
    "            [ [43, 44, 45], [46, 47, 48] ]\n",
    "        ],\n",
    "\n",
    "        [\n",
    "            [ [49, 50, 51], [52, 53, 54] ],\n",
    "            [ [55, 56, 57], [58, 59, 60] ],\n",
    "            [ [61, 62, 63], [64, 65, 66] ],\n",
    "            [ [67, 68, 69], [70, 71, 72] ]\n",
    "        ]\n",
    "    ]\n",
    ")\n",
    "\n",
    "a3.shape"
   ]
  },
  {
   "cell_type": "code",
   "execution_count": 19,
   "metadata": {},
   "outputs": [
    {
     "data": {
      "text/plain": [
       "array([[[31, 32, 33],\n",
       "        [34, 35, 36]],\n",
       "\n",
       "       [[37, 38, 39],\n",
       "        [40, 41, 42]]])"
      ]
     },
     "execution_count": 19,
     "metadata": {},
     "output_type": "execute_result"
    }
   ],
   "source": [
    "#Obtener el segundo y tercer elementos de la segunda dimensión del arreglo.\n",
    "a3[1, 1:3]"
   ]
  },
  {
   "cell_type": "code",
   "execution_count": 20,
   "metadata": {},
   "outputs": [
    {
     "data": {
      "text/plain": [
       "array([[[ 7,  8,  9],\n",
       "        [10, 11, 12]],\n",
       "\n",
       "       [[31, 32, 33],\n",
       "        [34, 35, 36]],\n",
       "\n",
       "       [[55, 56, 57],\n",
       "        [58, 59, 60]]])"
      ]
     },
     "execution_count": 20,
     "metadata": {},
     "output_type": "execute_result"
    }
   ],
   "source": [
    "#Para todos los elementos de la dimensión más externa obtener sus segundos componentes.\n",
    "a3[:,1]"
   ]
  },
  {
   "cell_type": "code",
   "execution_count": 21,
   "metadata": {},
   "outputs": [
    {
     "data": {
      "text/plain": [
       "array([[ 7,  8,  9],\n",
       "       [31, 32, 33],\n",
       "       [55, 56, 57]])"
      ]
     },
     "execution_count": 21,
     "metadata": {},
     "output_type": "execute_result"
    }
   ],
   "source": [
    "#Obtener todos los primeros elementos de los segundos elementos de la dimensión más esxterna.\n",
    "a3[:,1, 0]"
   ]
  },
  {
   "cell_type": "code",
   "execution_count": 13,
   "metadata": {},
   "outputs": [
    {
     "data": {
      "text/plain": [
       "array([[[ 5,  6],\n",
       "        [11, 12],\n",
       "        [17, 18],\n",
       "        [23, 24]],\n",
       "\n",
       "       [[29, 30],\n",
       "        [35, 36],\n",
       "        [41, 42],\n",
       "        [47, 48]],\n",
       "\n",
       "       [[53, 54],\n",
       "        [59, 60],\n",
       "        [65, 66],\n",
       "        [71, 72]]])"
      ]
     },
     "execution_count": 13,
     "metadata": {},
     "output_type": "execute_result"
    }
   ],
   "source": [
    "#Obtener los dos últimos elementos del elemento en la dimensión más interna \n",
    "a3[:, :, 1, -2:]"
   ]
  },
  {
   "cell_type": "code",
   "execution_count": 37,
   "metadata": {},
   "outputs": [
    {
     "data": {
      "text/plain": [
       "(3, 6)"
      ]
     },
     "execution_count": 37,
     "metadata": {},
     "output_type": "execute_result"
    }
   ],
   "source": [
    "a4 = np.array([\n",
    "    [1,   2,  3,  4,  5, 6],\n",
    "    [7,   8,  9, 10, 11, 12],\n",
    "    [13, 14, 15, 16, 17, 18]\n",
    "])\n",
    "\n",
    "a4.shape"
   ]
  },
  {
   "cell_type": "code",
   "execution_count": 42,
   "metadata": {},
   "outputs": [
    {
     "data": {
      "text/plain": [
       "array([[ 4,  5],\n",
       "       [10, 11],\n",
       "       [16, 17]])"
      ]
     },
     "execution_count": 42,
     "metadata": {},
     "output_type": "execute_result"
    }
   ],
   "source": [
    "a4[:,0]\n",
    "a4[:,3]\n",
    "a4[:,3:5]"
   ]
  },
  {
   "cell_type": "markdown",
   "metadata": {},
   "source": [
    "<b>Ejercicios</b>\n",
    "\n",
    "Para a4:"
   ]
  },
  {
   "cell_type": "code",
   "execution_count": 24,
   "metadata": {},
   "outputs": [],
   "source": [
    "#Obtener todos los elementos en la primera columna [ 1,  7, 13]\n",
    "#Obtener todos los elementos en la cuarta columna [ 4, 10, 16]\n",
    "#Obtener todos los elementos en la cuarta y quinta columna [ 4, 10, 16]"
   ]
  },
  {
   "cell_type": "markdown",
   "metadata": {},
   "source": [
    "# Algunos arreglos especiales de Numpy"
   ]
  },
  {
   "cell_type": "markdown",
   "metadata": {
    "id": "hOCFUlulba6M"
   },
   "source": [
    "#### $np.zeros(dimensiones)$"
   ]
  },
  {
   "cell_type": "code",
   "execution_count": 3,
   "metadata": {
    "id": "HTqMf9j4ba6N"
   },
   "outputs": [
    {
     "data": {
      "text/plain": [
       "array([[0., 0., 0., 0., 0.],\n",
       "       [0., 0., 0., 0., 0.],\n",
       "       [0., 0., 0., 0., 0.],\n",
       "       [0., 0., 0., 0., 0.],\n",
       "       [0., 0., 0., 0., 0.],\n",
       "       [0., 0., 0., 0., 0.],\n",
       "       [0., 0., 0., 0., 0.],\n",
       "       [0., 0., 0., 0., 0.],\n",
       "       [0., 0., 0., 0., 0.],\n",
       "       [0., 0., 0., 0., 0.]])"
      ]
     },
     "execution_count": 3,
     "metadata": {},
     "output_type": "execute_result"
    }
   ],
   "source": [
    "np.zeros((10,5))"
   ]
  },
  {
   "cell_type": "markdown",
   "metadata": {
    "id": "RUqkdAZ4ba6N"
   },
   "source": [
    "#### $np.ones(dimensiones)$"
   ]
  },
  {
   "cell_type": "code",
   "execution_count": 4,
   "metadata": {
    "id": "Zs44fx8Mba6N"
   },
   "outputs": [
    {
     "data": {
      "text/plain": [
       "array([[1., 1., 1., 1., 1.],\n",
       "       [1., 1., 1., 1., 1.],\n",
       "       [1., 1., 1., 1., 1.]])"
      ]
     },
     "execution_count": 4,
     "metadata": {},
     "output_type": "execute_result"
    }
   ],
   "source": [
    "np.ones((3,5))"
   ]
  },
  {
   "cell_type": "markdown",
   "metadata": {
    "id": "L3CvmiEYba6N"
   },
   "source": [
    "#### $np.full(dimensiones, valor)$"
   ]
  },
  {
   "cell_type": "code",
   "execution_count": 5,
   "metadata": {
    "id": "jfBfJceWba6N"
   },
   "outputs": [
    {
     "data": {
      "text/plain": [
       "array([[3.14159265, 3.14159265, 3.14159265, 3.14159265],\n",
       "       [3.14159265, 3.14159265, 3.14159265, 3.14159265],\n",
       "       [3.14159265, 3.14159265, 3.14159265, 3.14159265]])"
      ]
     },
     "execution_count": 5,
     "metadata": {},
     "output_type": "execute_result"
    }
   ],
   "source": [
    "np.full((3,4),np.pi)"
   ]
  },
  {
   "cell_type": "markdown",
   "metadata": {
    "id": "m7q5iT0Aba6N"
   },
   "source": [
    "#### $np.identity(n)$"
   ]
  },
  {
   "cell_type": "code",
   "execution_count": 7,
   "metadata": {
    "id": "CCarslDpba6N"
   },
   "outputs": [
    {
     "data": {
      "text/plain": [
       "array([[1., 0., 0., 0., 0.],\n",
       "       [0., 1., 0., 0., 0.],\n",
       "       [0., 0., 1., 0., 0.],\n",
       "       [0., 0., 0., 1., 0.],\n",
       "       [0., 0., 0., 0., 1.]])"
      ]
     },
     "execution_count": 7,
     "metadata": {},
     "output_type": "execute_result"
    }
   ],
   "source": [
    "np.identity(5)"
   ]
  },
  {
   "cell_type": "markdown",
   "metadata": {
    "id": "FQ_sisAcba6N"
   },
   "source": [
    "#### $np.arange(inicial , final, paso)$"
   ]
  },
  {
   "cell_type": "code",
   "execution_count": 8,
   "metadata": {
    "id": "kPHS8J_jba6N"
   },
   "outputs": [
    {
     "name": "stdout",
     "output_type": "stream",
     "text": [
      "[0 1 2 3 4 5 6 7 8 9]\n",
      "[4 5 6 7 8 9]\n",
      "[ 0  2  4  6  8 10]\n"
     ]
    }
   ],
   "source": [
    "print(np.arange(10))\n",
    "print(np.arange(4, 10))\n",
    "print(np.arange(0, 11, 2))"
   ]
  },
  {
   "cell_type": "markdown",
   "metadata": {
    "id": "vakcVs5rba6O"
   },
   "source": [
    "#### $np.linspace(inicial , final, cantidad)$"
   ]
  },
  {
   "cell_type": "code",
   "execution_count": 9,
   "metadata": {},
   "outputs": [
    {
     "data": {
      "text/plain": [
       "array([ 0.        ,  0.76923077,  1.53846154,  2.30769231,  3.07692308,\n",
       "        3.84615385,  4.61538462,  5.38461538,  6.15384615,  6.92307692,\n",
       "        7.69230769,  8.46153846,  9.23076923, 10.        ])"
      ]
     },
     "execution_count": 9,
     "metadata": {},
     "output_type": "execute_result"
    }
   ],
   "source": [
    "np.linspace(0, 10, 14)"
   ]
  },
  {
   "cell_type": "markdown",
   "metadata": {
    "id": "JyTxT6rqba6P"
   },
   "source": [
    "## Filtrado de elementos de un array\n",
    "\n",
    "Se inicia creando una matriz de boleanos que indica los elementos que cumplen con la condición solicitada. Luego se le pasa esta matriz al arreglo entre corchetes."
   ]
  },
  {
   "cell_type": "code",
   "execution_count": 14,
   "metadata": {
    "id": "gO1P4v5Wba6P"
   },
   "outputs": [
    {
     "name": "stdout",
     "output_type": "stream",
     "text": [
      "[[False  True False]\n",
      " [ True False  True]]\n",
      "[2 4 6]\n"
     ]
    }
   ],
   "source": [
    "a = np.array([[1, 2, 3], [4, 5, 6]])\n",
    "\n",
    "#Solo mostrará los número del arreglo cuyo módulo 2 sea cero\n",
    "print(a % 2 == 0)\n",
    "print(a[(a % 2 == 0 )])"
   ]
  },
  {
   "cell_type": "code",
   "execution_count": 50,
   "metadata": {},
   "outputs": [
    {
     "name": "stdout",
     "output_type": "stream",
     "text": [
      "(3, 4, 2, 3) (2, 1)\n"
     ]
    },
    {
     "data": {
      "text/plain": [
       "array([[[[ 2,  3,  4],\n",
       "         [ 8,  9, 10]],\n",
       "\n",
       "        [[ 8,  9, 10],\n",
       "         [14, 15, 16]],\n",
       "\n",
       "        [[14, 15, 16],\n",
       "         [20, 21, 22]],\n",
       "\n",
       "        [[20, 21, 22],\n",
       "         [26, 27, 28]]],\n",
       "\n",
       "\n",
       "       [[[26, 27, 28],\n",
       "         [32, 33, 34]],\n",
       "\n",
       "        [[32, 33, 34],\n",
       "         [38, 39, 40]],\n",
       "\n",
       "        [[38, 39, 40],\n",
       "         [44, 45, 46]],\n",
       "\n",
       "        [[44, 45, 46],\n",
       "         [50, 51, 52]]],\n",
       "\n",
       "\n",
       "       [[[50, 51, 52],\n",
       "         [56, 57, 58]],\n",
       "\n",
       "        [[56, 57, 58],\n",
       "         [62, 63, 64]],\n",
       "\n",
       "        [[62, 63, 64],\n",
       "         [68, 69, 70]],\n",
       "\n",
       "        [[68, 69, 70],\n",
       "         [74, 75, 76]]]])"
      ]
     },
     "execution_count": 50,
     "metadata": {},
     "output_type": "execute_result"
    }
   ],
   "source": [
    "a3 = np.array(\n",
    "    [\n",
    "        [\n",
    "            [ [1, 2, 3],    [4, 5, 6] ],\n",
    "            [ [7, 8, 9],    [10, 11, 12] ],\n",
    "            [ [13, 14, 15], [16, 17, 18] ],\n",
    "            [ [19, 20, 21], [22, 23, 24] ]\n",
    "        ],\n",
    "\n",
    "        [\n",
    "            [ [25, 26, 27], [28, 29, 30] ],\n",
    "            [ [31, 32, 33], [34, 35, 36] ],\n",
    "            [ [37, 38, 39], [40, 41, 42] ],\n",
    "            [ [43, 44, 45], [46, 47, 48] ]\n",
    "        ],\n",
    "\n",
    "        [\n",
    "            [ [49, 50, 51], [52, 53, 54] ],\n",
    "            [ [55, 56, 57], [58, 59, 60] ],\n",
    "            [ [61, 62, 63], [64, 65, 66] ],\n",
    "            [ [67, 68, 69], [70, 71, 72] ]\n",
    "        ]\n",
    "    ]\n",
    ")\n",
    "\n",
    "new = np.array([[1],\n",
    "                [4]])\n",
    "\n",
    "print(a3.shape, new.shape)\n",
    "a3 + new"
   ]
  },
  {
   "cell_type": "code",
   "execution_count": 20,
   "metadata": {
    "id": "lWhiMgROba6P"
   },
   "outputs": [
    {
     "data": {
      "text/plain": [
       "array([[[[False, False,  True],\n",
       "         [False, False,  True]],\n",
       "\n",
       "        [[False, False,  True],\n",
       "         [False, False,  True]],\n",
       "\n",
       "        [[False, False,  True],\n",
       "         [False, False,  True]],\n",
       "\n",
       "        [[False, False, False],\n",
       "         [False, False,  True]]],\n",
       "\n",
       "\n",
       "       [[[False, False,  True],\n",
       "         [False, False,  True]],\n",
       "\n",
       "        [[False, False,  True],\n",
       "         [False, False,  True]],\n",
       "\n",
       "        [[False, False,  True],\n",
       "         [False, False, False]],\n",
       "\n",
       "        [[False, False,  True],\n",
       "         [False, False,  True]]],\n",
       "\n",
       "\n",
       "       [[[False, False,  True],\n",
       "         [False, False,  True]],\n",
       "\n",
       "        [[False, False,  True],\n",
       "         [False, False,  True]],\n",
       "\n",
       "        [[False, False, False],\n",
       "         [False, False,  True]],\n",
       "\n",
       "        [[False, False,  True],\n",
       "         [False, False,  True]]]])"
      ]
     },
     "execution_count": 20,
     "metadata": {},
     "output_type": "execute_result"
    }
   ],
   "source": [
    "cond = (a3%3==0) & (a3%7!=0)\n",
    "cond"
   ]
  },
  {
   "cell_type": "code",
   "execution_count": 18,
   "metadata": {},
   "outputs": [
    {
     "data": {
      "text/plain": [
       "array([ 3,  6,  9, 12, 15, 18, 24, 27, 30, 33, 36, 39, 45, 48, 51, 54, 57,\n",
       "       60, 66, 69, 72])"
      ]
     },
     "execution_count": 18,
     "metadata": {},
     "output_type": "execute_result"
    }
   ],
   "source": [
    "a3[cond]"
   ]
  },
  {
   "cell_type": "markdown",
   "metadata": {},
   "source": [
    "# Operaciones con otros arreglos y Broadcasting"
   ]
  },
  {
   "cell_type": "markdown",
   "metadata": {
    "id": "LBLro-0Uba6Q"
   },
   "source": [
    "### Operaciones a nivel de elementos\n",
    "Las operaciones a nivel de elemento operan los elementos que ocupan la misma posición en dos arrays. Se necesitan, por tanto, dos arrays con las mismas dimensiones y el resultado es una array de la misma dimensión.\n",
    "\n",
    "\n",
    "Los operadores mamemáticos $+$, $-$, $*$, $/$, $\\%$, $**$ se utilizan para la realizar suma, resta, producto, cociente, resto y potencia a nivel de elemento."
   ]
  },
  {
   "cell_type": "code",
   "execution_count": 30,
   "metadata": {},
   "outputs": [],
   "source": [
    "a = np.array([[1, 2, 3], [4, 5, 6]])\n",
    "b = np.array([[1, 3, 2], [2, 3, 5]])"
   ]
  },
  {
   "cell_type": "code",
   "execution_count": 24,
   "metadata": {
    "id": "iTfxrKEUba6Q"
   },
   "outputs": [
    {
     "data": {
      "text/plain": [
       "array([[ 2,  5,  5],\n",
       "       [ 6,  8, 11]])"
      ]
     },
     "execution_count": 24,
     "metadata": {},
     "output_type": "execute_result"
    }
   ],
   "source": [
    "# Suma de arrays\n",
    "a + b"
   ]
  },
  {
   "cell_type": "code",
   "execution_count": 25,
   "metadata": {
    "id": "mxbIMypyba6Q"
   },
   "outputs": [
    {
     "data": {
      "text/plain": [
       "array([[ 0, -1,  1],\n",
       "       [ 2,  2,  1]])"
      ]
     },
     "execution_count": 25,
     "metadata": {},
     "output_type": "execute_result"
    }
   ],
   "source": [
    "# Resta de arrays\n",
    "a - b"
   ]
  },
  {
   "cell_type": "code",
   "execution_count": 26,
   "metadata": {
    "id": "e__EEH0Qba6Q"
   },
   "outputs": [
    {
     "data": {
      "text/plain": [
       "array([[ 1,  6,  6],\n",
       "       [ 8, 15, 30]])"
      ]
     },
     "execution_count": 26,
     "metadata": {},
     "output_type": "execute_result"
    }
   ],
   "source": [
    "# Multiplicación de arrays\n",
    "a * b"
   ]
  },
  {
   "cell_type": "code",
   "execution_count": 32,
   "metadata": {
    "id": "MgP9iqwnba6R"
   },
   "outputs": [
    {
     "data": {
      "text/plain": [
       "array([[1.        , 0.66666667, 1.5       ],\n",
       "       [2.        , 1.66666667, 1.2       ]])"
      ]
     },
     "execution_count": 32,
     "metadata": {},
     "output_type": "execute_result"
    }
   ],
   "source": [
    "# División de arrays\n",
    "a / b"
   ]
  },
  {
   "cell_type": "code",
   "execution_count": 33,
   "metadata": {
    "id": "JeRChWV9ba6R"
   },
   "outputs": [
    {
     "data": {
      "text/plain": [
       "array([[   1,    8,    9],\n",
       "       [  16,  125, 7776]])"
      ]
     },
     "execution_count": 33,
     "metadata": {},
     "output_type": "execute_result"
    }
   ],
   "source": [
    "# Potencia\n",
    "a ** b"
   ]
  },
  {
   "cell_type": "code",
   "execution_count": 34,
   "metadata": {},
   "outputs": [
    {
     "data": {
      "text/plain": [
       "array([[0, 2, 1],\n",
       "       [0, 2, 1]])"
      ]
     },
     "execution_count": 34,
     "metadata": {},
     "output_type": "execute_result"
    }
   ],
   "source": [
    "#Módulo\n",
    "a % b"
   ]
  },
  {
   "cell_type": "code",
   "execution_count": 35,
   "metadata": {},
   "outputs": [
    {
     "data": {
      "text/plain": [
       "array([[4, 5, 6],\n",
       "       [7, 8, 9]])"
      ]
     },
     "execution_count": 35,
     "metadata": {},
     "output_type": "execute_result"
    }
   ],
   "source": [
    "a + 3"
   ]
  },
  {
   "attachments": {
    "imagen-2.png": {
     "image/png": "[encoded data removed]"
    },
    "imagen.png": {
     "image/png": "[encoded data removed]"
    }
   },
   "cell_type": "markdown",
   "metadata": {},
   "source": [
    "### Broadcating \n",
    "![imagen.png](attachment:imagen.png)\n",
    "\n",
    "Con más dimensiones\n",
    "![imagen-2.png](attachment:imagen-2.png)"
   ]
  },
  {
   "cell_type": "markdown",
   "metadata": {},
   "source": [
    "También se pueden realizar operaciones entre arrays cuyas dimensiones son distintas. En este caso Numpy utiliza el método conocido como <i>broadcasting</i> que consiste en <i>broadcast</i> el arreglo de menor dimensión a lo largo del de mayor dimensión.\n",
    "\n",
    "https://numpy.org/doc/stable/user/basics.broadcasting.html"
   ]
  },
  {
   "cell_type": "code",
   "execution_count": 36,
   "metadata": {},
   "outputs": [
    {
     "data": {
      "text/plain": [
       "array([[ 3,  6,  9],\n",
       "       [12, 15, 18]])"
      ]
     },
     "execution_count": 36,
     "metadata": {},
     "output_type": "execute_result"
    }
   ],
   "source": [
    "#El ejemplo más sencillo es multiplicar un número por el arreglo\n",
    "a*3"
   ]
  },
  {
   "cell_type": "code",
   "execution_count": 37,
   "metadata": {},
   "outputs": [
    {
     "name": "stdout",
     "output_type": "stream",
     "text": [
      "(4, 3) (3,)\n"
     ]
    }
   ],
   "source": [
    "#Con arreglos\n",
    "a = np.array([[1, 2, 3], [4, 5, 6], [7, 8, 9], [10, 11, 12]])\n",
    "b = np.array([10, 10, 10])\n",
    "\n",
    "print(a.shape, b.shape)"
   ]
  },
  {
   "cell_type": "code",
   "execution_count": 30,
   "metadata": {},
   "outputs": [
    {
     "data": {
      "text/plain": [
       "array([[11, 12, 13],\n",
       "       [14, 15, 16],\n",
       "       [17, 18, 19],\n",
       "       [20, 21, 22]])"
      ]
     },
     "execution_count": 30,
     "metadata": {},
     "output_type": "execute_result"
    }
   ],
   "source": [
    "a + b"
   ]
  },
  {
   "cell_type": "code",
   "execution_count": 31,
   "metadata": {},
   "outputs": [
    {
     "data": {
      "text/plain": [
       "array([[ 10,  20,  30],\n",
       "       [ 40,  50,  60],\n",
       "       [ 70,  80,  90],\n",
       "       [100, 110, 120]])"
      ]
     },
     "execution_count": 31,
     "metadata": {},
     "output_type": "execute_result"
    }
   ],
   "source": [
    "a * b"
   ]
  },
  {
   "cell_type": "code",
   "execution_count": 56,
   "metadata": {},
   "outputs": [
    {
     "ename": "ValueError",
     "evalue": "operands could not be broadcast together with shapes (4,3) (4,) ",
     "output_type": "error",
     "traceback": [
      "\u001b[0;31m---------------------------------------------------------------------------\u001b[0m",
      "\u001b[0;31mValueError\u001b[0m                                Traceback (most recent call last)",
      "Input \u001b[0;32mIn [56]\u001b[0m, in \u001b[0;36m<cell line: 2>\u001b[0;34m()\u001b[0m\n\u001b[1;32m      1\u001b[0m b \u001b[38;5;241m=\u001b[39m np\u001b[38;5;241m.\u001b[39marray([\u001b[38;5;241m10\u001b[39m, \u001b[38;5;241m10\u001b[39m, \u001b[38;5;241m10\u001b[39m, \u001b[38;5;241m10\u001b[39m])\n\u001b[0;32m----> 2\u001b[0m \u001b[43ma\u001b[49m\u001b[43m \u001b[49m\u001b[38;5;241;43m+\u001b[39;49m\u001b[43m \u001b[49m\u001b[43mb\u001b[49m\n",
      "\u001b[0;31mValueError\u001b[0m: operands could not be broadcast together with shapes (4,3) (4,) "
     ]
    }
   ],
   "source": [
    "b = np.array([10, 10, 10, 10])\n",
    "a + b"
   ]
  },
  {
   "cell_type": "markdown",
   "metadata": {},
   "source": [
    "# Reshape"
   ]
  },
  {
   "cell_type": "code",
   "execution_count": 57,
   "metadata": {},
   "outputs": [
    {
     "data": {
      "text/plain": [
       "(12,)"
      ]
     },
     "execution_count": 57,
     "metadata": {},
     "output_type": "execute_result"
    }
   ],
   "source": [
    "a = np.array([1, 2, 3, 4, 5, 6, 7, 8, 9, 10, 11, 12])\n",
    "a.shape"
   ]
  },
  {
   "cell_type": "code",
   "execution_count": 58,
   "metadata": {},
   "outputs": [
    {
     "data": {
      "text/plain": [
       "array([[ 1,  2,  3],\n",
       "       [ 4,  5,  6],\n",
       "       [ 7,  8,  9],\n",
       "       [10, 11, 12]])"
      ]
     },
     "execution_count": 58,
     "metadata": {},
     "output_type": "execute_result"
    }
   ],
   "source": [
    "a.reshape(4, 3)"
   ]
  },
  {
   "cell_type": "code",
   "execution_count": 59,
   "metadata": {},
   "outputs": [
    {
     "data": {
      "text/plain": [
       "array([[ 1,  2],\n",
       "       [ 3,  4],\n",
       "       [ 5,  6],\n",
       "       [ 7,  8],\n",
       "       [ 9, 10],\n",
       "       [11, 12]])"
      ]
     },
     "execution_count": 59,
     "metadata": {},
     "output_type": "execute_result"
    }
   ],
   "source": [
    "a.reshape(6, 2)"
   ]
  },
  {
   "cell_type": "code",
   "execution_count": 67,
   "metadata": {},
   "outputs": [
    {
     "data": {
      "text/plain": [
       "array([[ 1,  2,  3,  4,  5,  6],\n",
       "       [ 7,  8,  9, 10, 11, 12]])"
      ]
     },
     "execution_count": 67,
     "metadata": {},
     "output_type": "execute_result"
    }
   ],
   "source": [
    "a.reshape(2, 6)"
   ]
  },
  {
   "cell_type": "code",
   "execution_count": 68,
   "metadata": {},
   "outputs": [
    {
     "data": {
      "text/plain": [
       "array([[[ 1,  2,  3],\n",
       "        [ 4,  5,  6]],\n",
       "\n",
       "       [[ 7,  8,  9],\n",
       "        [10, 11, 12]]])"
      ]
     },
     "execution_count": 68,
     "metadata": {},
     "output_type": "execute_result"
    }
   ],
   "source": [
    "a.reshape(2, 2, 3)"
   ]
  },
  {
   "cell_type": "code",
   "execution_count": 75,
   "metadata": {},
   "outputs": [
    {
     "data": {
      "text/plain": [
       "array([[ 1,  2],\n",
       "       [ 3,  4],\n",
       "       [ 5,  6],\n",
       "       [ 7,  8],\n",
       "       [ 9, 10],\n",
       "       [11, 12]])"
      ]
     },
     "execution_count": 75,
     "metadata": {},
     "output_type": "execute_result"
    }
   ],
   "source": [
    "c = np.array([[[1, 2, 3], [4, 5, 6]], [[7, 8, 9], [10, 11, 12]]]).reshape(6, 2)\n",
    "c"
   ]
  },
  {
   "cell_type": "code",
   "execution_count": 78,
   "metadata": {},
   "outputs": [
    {
     "data": {
      "text/plain": [
       "array([[[ 1,  2],\n",
       "        [ 3,  4]],\n",
       "\n",
       "       [[ 5,  6],\n",
       "        [ 7,  8]],\n",
       "\n",
       "       [[ 9, 10],\n",
       "        [11, 12]]])"
      ]
     },
     "execution_count": 78,
     "metadata": {},
     "output_type": "execute_result"
    }
   ],
   "source": [
    "#Se puede utilizar un -1 en una dimensión del reshape cuando \n",
    "#no se sabe cuántos elementos debería tener el arreglo en esa dimensión\n",
    "a.reshape(3, 2, -1)"
   ]
  },
  {
   "cell_type": "code",
   "execution_count": 71,
   "metadata": {},
   "outputs": [
    {
     "data": {
      "text/plain": [
       "array([ 1,  2,  3,  4,  5,  6,  7,  8,  9, 10, 11, 12])"
      ]
     },
     "execution_count": 71,
     "metadata": {},
     "output_type": "execute_result"
    }
   ],
   "source": [
    "#Se puede convertir el arreglo original a uno de una sola dimensión\n",
    "np.array([[[1, 2, 3], [4, 5, 6]], [[7, 8, 9], [10, 11, 12]]]).reshape(-1)"
   ]
  },
  {
   "cell_type": "markdown",
   "metadata": {
    "id": "dai0KpPKba6R"
   },
   "source": [
    "# Operaciones vectoriales"
   ]
  },
  {
   "cell_type": "code",
   "execution_count": 79,
   "metadata": {
    "id": "7Mc6D_IUba6R"
   },
   "outputs": [
    {
     "name": "stdout",
     "output_type": "stream",
     "text": [
      "(2, 3) (3, 2)\n"
     ]
    }
   ],
   "source": [
    "a = np.array([[1, 2, 3], [2, 4, 6]])\n",
    "b = np.array([[1, 2], [3, 4], [5, 6]])\n",
    "print(a.shape, b.shape)"
   ]
  },
  {
   "cell_type": "markdown",
   "metadata": {
    "id": "gcpud6D5ba6R"
   },
   "source": [
    "## $a.dot(b)$\n",
    "Producto matricial\n"
   ]
  },
  {
   "cell_type": "markdown",
   "metadata": {
    "id": "VEu1YOXbba6S"
   },
   "source": [
    "![dot.png](data:image/png;base64,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)"
   ]
  },
  {
   "cell_type": "code",
   "execution_count": 80,
   "metadata": {
    "id": "DCc9NKDEba6S"
   },
   "outputs": [
    {
     "data": {
      "text/plain": [
       "array([[22, 28],\n",
       "       [44, 56]])"
      ]
     },
     "execution_count": 80,
     "metadata": {},
     "output_type": "execute_result"
    }
   ],
   "source": [
    "a.dot(b)"
   ]
  },
  {
   "cell_type": "code",
   "execution_count": 81,
   "metadata": {
    "id": "s7A3OQHsba6S"
   },
   "outputs": [
    {
     "data": {
      "text/plain": [
       "array([[22, 28],\n",
       "       [44, 56]])"
      ]
     },
     "execution_count": 81,
     "metadata": {},
     "output_type": "execute_result"
    }
   ],
   "source": [
    "np.dot(a,b)"
   ]
  },
  {
   "cell_type": "markdown",
   "metadata": {},
   "source": [
    "## $np.cross(a,b)$\n",
    "Producto vectorial entre vectores"
   ]
  },
  {
   "cell_type": "code",
   "execution_count": 82,
   "metadata": {},
   "outputs": [
    {
     "data": {
      "text/plain": [
       "array([-10,  13,  -4])"
      ]
     },
     "execution_count": 82,
     "metadata": {},
     "output_type": "execute_result"
    }
   ],
   "source": [
    "np.cross(np.array([1, 2, 4]), np.array([5, 6, 7]))"
   ]
  },
  {
   "cell_type": "markdown",
   "metadata": {
    "id": "PYOqHohwba6S"
   },
   "source": [
    "## $a.T$\n",
    "Transpuesta de  $a$"
   ]
  },
  {
   "cell_type": "code",
   "execution_count": 83,
   "metadata": {
    "id": "_gsG6e_aba6S"
   },
   "outputs": [
    {
     "data": {
      "text/plain": [
       "array([[1, 2],\n",
       "       [2, 4],\n",
       "       [3, 6]])"
      ]
     },
     "execution_count": 83,
     "metadata": {},
     "output_type": "execute_result"
    }
   ],
   "source": [
    "a.T"
   ]
  },
  {
   "cell_type": "markdown",
   "metadata": {},
   "source": [
    "## $a^{-1}$\n",
    "Inversa de una matriz cuadrada"
   ]
  },
  {
   "cell_type": "code",
   "execution_count": 84,
   "metadata": {},
   "outputs": [
    {
     "data": {
      "text/plain": [
       "matrix([[-0.46875   ,  0.09375   ,  0.15625   ],\n",
       "        [ 0.375     ,  0.125     , -0.125     ],\n",
       "        [ 0.23958333, -0.11458333,  0.03125   ]])"
      ]
     },
     "execution_count": 84,
     "metadata": {},
     "output_type": "execute_result"
    }
   ],
   "source": [
    "a = np.matrix([[1, 2, 3], [4, 5, 0], [7, 3, 9]])\n",
    "a.I"
   ]
  },
  {
   "cell_type": "code",
   "execution_count": 51,
   "metadata": {},
   "outputs": [
    {
     "data": {
      "text/plain": [
       "matrix([[1.00000000e+00, 0.00000000e+00, 2.77555756e-17],\n",
       "        [0.00000000e+00, 1.00000000e+00, 0.00000000e+00],\n",
       "        [0.00000000e+00, 0.00000000e+00, 1.00000000e+00]])"
      ]
     },
     "execution_count": 51,
     "metadata": {},
     "output_type": "execute_result"
    }
   ],
   "source": [
    "a.dot(a.I)"
   ]
  },
  {
   "cell_type": "code",
   "execution_count": 85,
   "metadata": {},
   "outputs": [
    {
     "data": {
      "text/plain": [
       "-95.99999999999999"
      ]
     },
     "execution_count": 85,
     "metadata": {},
     "output_type": "execute_result"
    }
   ],
   "source": [
    "np.linalg.det(a)"
   ]
  },
  {
   "cell_type": "markdown",
   "metadata": {},
   "source": [
    "# Otras operaciones"
   ]
  },
  {
   "cell_type": "code",
   "execution_count": 87,
   "metadata": {
    "id": "ogwAXGZRba6T"
   },
   "outputs": [
    {
     "data": {
      "text/plain": [
       "array([3, 4, 5, 6, 5])"
      ]
     },
     "execution_count": 87,
     "metadata": {},
     "output_type": "execute_result"
    }
   ],
   "source": [
    "v = np.array([3,4,5,6,5])\n",
    "v"
   ]
  },
  {
   "cell_type": "code",
   "execution_count": 88,
   "metadata": {
    "id": "Isq3Pm6Vba6T"
   },
   "outputs": [
    {
     "data": {
      "text/plain": [
       "23"
      ]
     },
     "execution_count": 88,
     "metadata": {},
     "output_type": "execute_result"
    }
   ],
   "source": [
    "# Sumar todos los elementos de un vector\n",
    "v.sum()"
   ]
  },
  {
   "cell_type": "code",
   "execution_count": 89,
   "metadata": {
    "id": "XsLdlQmSba6T"
   },
   "outputs": [
    {
     "data": {
      "text/plain": [
       "6"
      ]
     },
     "execution_count": 89,
     "metadata": {},
     "output_type": "execute_result"
    }
   ],
   "source": [
    "# Hallar el valor máximo de un vector\n",
    "v.max()"
   ]
  },
  {
   "cell_type": "code",
   "execution_count": 56,
   "metadata": {
    "id": "gQrWYzZhba6T"
   },
   "outputs": [
    {
     "data": {
      "text/plain": [
       "3"
      ]
     },
     "execution_count": 56,
     "metadata": {},
     "output_type": "execute_result"
    }
   ],
   "source": [
    "# Hallar el valor mínimo de un vector\n",
    "v.min()"
   ]
  },
  {
   "cell_type": "code",
   "execution_count": 57,
   "metadata": {
    "id": "kBqlhmNeba6T"
   },
   "outputs": [
    {
     "data": {
      "text/plain": [
       "53"
      ]
     },
     "execution_count": 57,
     "metadata": {},
     "output_type": "execute_result"
    }
   ],
   "source": [
    "# Sumar todos los elementos de una matriz\n",
    "m = np.array([[3,4,5,6,5] , [8,7,6,5,4]])\n",
    "m.sum()"
   ]
  },
  {
   "cell_type": "code",
   "execution_count": 58,
   "metadata": {
    "id": "rDbkngKlba6U"
   },
   "outputs": [
    {
     "data": {
      "text/plain": [
       "8"
      ]
     },
     "execution_count": 58,
     "metadata": {},
     "output_type": "execute_result"
    }
   ],
   "source": [
    "# Hallar el valor máximo de una matriz\n",
    "m.max()"
   ]
  },
  {
   "cell_type": "code",
   "execution_count": 59,
   "metadata": {
    "id": "jx4H-3_xba6U"
   },
   "outputs": [
    {
     "data": {
      "text/plain": [
       "3"
      ]
     },
     "execution_count": 59,
     "metadata": {},
     "output_type": "execute_result"
    }
   ],
   "source": [
    "# Hallar el valor mínimo de una matriz\n",
    "m.min()"
   ]
  },
  {
   "cell_type": "markdown",
   "metadata": {},
   "source": [
    "# Funciones universales ($ufunc$) y las operaciones vectorizadas\n",
    "\n",
    "Las funciones vecorizadas de Numpy son funciones que se aplican a arreglos de Numpy elemento  a elemento sin necesidad de realizar un ciclo sobre el arreglo. Esto permite que sean mucho más rápidas que las funciones habituales que utilizan ciclos. "
   ]
  },
  {
   "cell_type": "code",
   "execution_count": null,
   "metadata": {},
   "outputs": [],
   "source": [
    "np."
   ]
  },
  {
   "cell_type": "code",
   "execution_count": 90,
   "metadata": {},
   "outputs": [],
   "source": [
    "def power(lista, p=2):\n",
    "    powers = []\n",
    "    for i in range(len(lista)):\n",
    "        powers.append(lista[i]**p)"
   ]
  },
  {
   "cell_type": "code",
   "execution_count": 93,
   "metadata": {},
   "outputs": [
    {
     "data": {
      "text/plain": [
       "array([      0,       1,       2, ..., 9999997, 9999998, 9999999])"
      ]
     },
     "execution_count": 93,
     "metadata": {},
     "output_type": "execute_result"
    }
   ],
   "source": [
    "b = np.arange(0, 10_000_000, 1)\n",
    "b"
   ]
  },
  {
   "cell_type": "code",
   "execution_count": 100,
   "metadata": {},
   "outputs": [
    {
     "name": "stdout",
     "output_type": "stream",
     "text": [
      "4.65 s ± 271 ms per loop (mean ± std. dev. of 7 runs, 1 loop each)\n"
     ]
    }
   ],
   "source": [
    "#Tiempo para una operación que utiliza un ciclo\n",
    "%timeit power(lista=b)"
   ]
  },
  {
   "cell_type": "code",
   "execution_count": 99,
   "metadata": {},
   "outputs": [
    {
     "name": "stdout",
     "output_type": "stream",
     "text": [
      "CPU times: user 29 ms, sys: 48.3 ms, total: 77.3 ms\n",
      "Wall time: 81.5 ms\n"
     ]
    },
    {
     "data": {
      "text/plain": [
       "array([             0,              1,              4, ...,\n",
       "       99999940000009, 99999960000004, 99999980000001])"
      ]
     },
     "execution_count": 99,
     "metadata": {},
     "output_type": "execute_result"
    }
   ],
   "source": [
    "#Operación vectorizada con arrays\n",
    "%time b**2 "
   ]
  },
  {
   "cell_type": "markdown",
   "metadata": {},
   "source": [
    "# Números aleatorios\n",
    "\n",
    "Numpy permite trabajar con números pseudoaleatorios. Existen gran variedad de distribuciones que se pueden utilizar"
   ]
  },
  {
   "cell_type": "code",
   "execution_count": 101,
   "metadata": {},
   "outputs": [],
   "source": [
    "import matplotlib.pyplot as plt"
   ]
  },
  {
   "cell_type": "code",
   "execution_count": 103,
   "metadata": {},
   "outputs": [
    {
     "data": {
      "text/plain": [
       "0.9837133597948121"
      ]
     },
     "execution_count": 103,
     "metadata": {},
     "output_type": "execute_result"
    }
   ],
   "source": [
    "#Genera un número aleatorio entre 0 y 1 siguiendo una distribución uniforme\n",
    "np.random.rand()"
   ]
  },
  {
   "cell_type": "code",
   "execution_count": 105,
   "metadata": {},
   "outputs": [
    {
     "data": {
      "image/png": "[encoded data removed]",
      "text/plain": [
       "<Figure size 432x432 with 1 Axes>"
      ]
     },
     "metadata": {
      "needs_background": "light"
     },
     "output_type": "display_data"
    }
   ],
   "source": [
    "#Distribución uniforme\n",
    "xs_u = np.random.rand(100000)\n",
    "\n",
    "figure = plt.figure(figsize=(6,6))\n",
    "plt.hist(xs_u)\n",
    "plt.show()"
   ]
  },
  {
   "cell_type": "code",
   "execution_count": 136,
   "metadata": {},
   "outputs": [
    {
     "data": {
      "image/png": "[encoded data removed]",
      "text/plain": [
       "<Figure size 1152x432 with 4 Axes>"
      ]
     },
     "metadata": {
      "needs_background": "light"
     },
     "output_type": "display_data"
    }
   ],
   "source": [
    "#Object Oriented\n",
    "fig, ax = plt.subplots(ncols=2, nrows=2, figsize=(16,6))\n",
    "\n",
    "ax[0,0].hist(xs_u)\n",
    "ax[0,1].hist(xs_g)\n",
    "ax[1,0].hist(xs_g)\n",
    "ax[1,1].hist(xs_g)\n",
    "\n",
    "plt.savefig(\"./graficooo.png\")"
   ]
  },
  {
   "cell_type": "code",
   "execution_count": 107,
   "metadata": {},
   "outputs": [
    {
     "data": {
      "image/png": "[encoded data removed]",
      "text/plain": [
       "<Figure size 432x432 with 1 Axes>"
      ]
     },
     "metadata": {
      "needs_background": "light"
     },
     "output_type": "display_data"
    }
   ],
   "source": [
    "#Distribución gaussiana\n",
    "xs_g = np.random.normal(size=100000)\n",
    "\n",
    "figure = plt.figure(figsize=(6,6))\n",
    "plt.hist(xs_g, bins=int(np.sqrt(len(xs_g))))\n",
    "plt.show()"
   ]
  },
  {
   "cell_type": "code",
   "execution_count": 108,
   "metadata": {},
   "outputs": [
    {
     "data": {
      "image/png": "[encoded data removed]",
      "text/plain": [
       "<Figure size 432x432 with 1 Axes>"
      ]
     },
     "metadata": {
      "needs_background": "light"
     },
     "output_type": "display_data"
    }
   ],
   "source": [
    "#Distribución exponencial\n",
    "xs_e = np.random.exponential(1, size=1000)\n",
    "\n",
    "figure = plt.figure(figsize=(6,6))\n",
    "plt.hist(xs_e, bins=int(np.sqrt(len(xs_e))))\n",
    "plt.show()"
   ]
  },
  {
   "cell_type": "code",
   "execution_count": 113,
   "metadata": {},
   "outputs": [],
   "source": [
    "#Generar \"burbujas\" de valores\n",
    "x1_center, y1_center = (2,3)\n",
    "x2_center, y2_center = (8,-2)\n",
    "N = 1000\n",
    "\n",
    "#Semilla para los números aleatorios\n",
    "np.random.seed(123459467)\n",
    "\n",
    "#Primera burbuja\n",
    "x1 = np.random.normal(loc=x1_center, size=N)\n",
    "y1 = np.random.normal(loc=y1_center, size=N)\n",
    "\n",
    "#Segunda burbuja\n",
    "x2 = np.random.normal(loc=x2_center, size=N)\n",
    "y2 = np.random.normal(loc=y2_center, size=N)"
   ]
  },
  {
   "cell_type": "code",
   "execution_count": 114,
   "metadata": {},
   "outputs": [
    {
     "data": {
      "image/png": "[encoded data removed]",
      "text/plain": [
       "<Figure size 576x576 with 1 Axes>"
      ]
     },
     "metadata": {
      "needs_background": "light"
     },
     "output_type": "display_data"
    }
   ],
   "source": [
    "fig = plt.figure(figsize=(8,8))\n",
    "\n",
    "plt.plot(x1, y1, \"bo\")\n",
    "plt.plot(x2, y2, \"ro\")\n",
    "\n",
    "plt.show()"
   ]
  },
  {
   "cell_type": "code",
   "execution_count": 120,
   "metadata": {},
   "outputs": [
    {
     "data": {
      "image/png": "[encoded data removed]",
      "text/plain": [
       "<Figure size 576x576 with 1 Axes>"
      ]
     },
     "metadata": {
      "needs_background": "light"
     },
     "output_type": "display_data"
    }
   ],
   "source": [
    "fig = plt.figure(figsize=(8,8))\n",
    "\n",
    "plt.scatter(x1, y1, c=\"blue\", marker=\"*\", s=20, label=\"Burbuja 1\")\n",
    "plt.scatter(x2, y2, c=\"red\", marker=\".\", s=20, label=\"Burbuja 2\")\n",
    "\n",
    "plt.title(\"Burbujas\")\n",
    "plt.xlabel(\"X\")\n",
    "plt.ylabel(\"Y\")\n",
    "plt.legend(loc=\"lower center\", ncol=2)\n",
    "plt.show()"
   ]
  }
 ],
 "metadata": {
  "colab": {
   "provenance": []
  },
  "kernelspec": {
   "display_name": "Python 3 (ipykernel)",
   "language": "python",
   "name": "python3"
  },
  "language_info": {
   "codemirror_mode": {
    "name": "ipython",
    "version": 3
   },
   "file_extension": ".py",
   "mimetype": "text/x-python",
   "name": "python",
   "nbconvert_exporter": "python",
   "pygments_lexer": "ipython3",
   "version": "3.9.12"
  }
 },
 "nbformat": 4,
 "nbformat_minor": 1
}
